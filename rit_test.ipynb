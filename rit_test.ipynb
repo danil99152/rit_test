{
  "nbformat": 4,
  "nbformat_minor": 0,
  "metadata": {
    "colab": {
      "name": "rit_test.ipynb",
      "provenance": [],
      "collapsed_sections": [],
      "mount_file_id": "1vZq6TgLCAkpAsqhK5_Z_CxfMyewH2VHn",
      "authorship_tag": "ABX9TyMTxxDwQdxjw2nFJuFxwOHW",
      "include_colab_link": true
    },
    "kernelspec": {
      "name": "python3",
      "display_name": "Python 3"
    },
    "language_info": {
      "name": "python"
    }
  },
  "cells": [
    {
      "cell_type": "markdown",
      "metadata": {
        "id": "view-in-github",
        "colab_type": "text"
      },
      "source": [
        "<a href=\"https://colab.research.google.com/github/danil99152/rit_test/blob/main/rit_test.ipynb\" target=\"_parent\"><img src=\"https://colab.research.google.com/assets/colab-badge.svg\" alt=\"Open In Colab\"/></a>"
      ]
    },
    {
      "cell_type": "markdown",
      "metadata": {
        "id": "seUPY5pIOX30"
      },
      "source": [
        "# DONE\n",
        "1. Общие трудозатраты на проект в часах;\n",
        "2. Среднее время, затраченное на решение задач в часах;\n",
        "3. Медианное время, затраченное на решение задач в часах;\n",
        "4. Среднее время, затраченное на решение задач каждым из исполнителей в часах;\n",
        "5. Рассчитать рентабельность проекта по формуле рентабельность = (прибыль*100)/доход.\n",
        "Расчёт прибыли производить, как прибыль = доход – расходы;\n",
        "6. Рассчитать среднее количество часов, отрабатываемое каждым сотрудником за день;\n",
        "7. Вычислить дни отсутствия для каждого сотрудника, с учетом того, что все исполнители\n",
        "обязаны были работать каждый будний день;\n",
        "8. Рассчитать средний «вылет» специалиста из оценки в процентах.\n",
        "9. Дополнительно необходимо сформировать сводный график по проекту с указанием\n",
        "оценки (в часах) и фактических трудозатрат (в часах) по каждой из задач проекта в виде\n",
        "отдельного файла png."
      ]
    },
    {
      "cell_type": "markdown",
      "metadata": {
        "id": "x7rTqzw4K-MT"
      },
      "source": [
        "# Расписание входов\n",
        "1. 21:18 04.08 - 0:41 05.08 - (перерыв примерно час)\n",
        "2. 17:10 05.08 - 18:47 05.08 (перерыв полчаса)\n",
        "3. 10:31 05.08 - 01.10 06.08 (перерыв час)\n",
        "4. 04:13 06.08 - 06:30 06.08 (перерыв полчаса)"
      ]
    },
    {
      "cell_type": "markdown",
      "metadata": {
        "id": "Gox3cL1JL4Rf"
      },
      "source": [
        "# Import"
      ]
    },
    {
      "cell_type": "code",
      "metadata": {
        "id": "2j7eFHjQLsMQ"
      },
      "source": [
        "import pandas as pd\n",
        "from matplotlib import pyplot\n",
        "import matplotlib.pyplot as plt\n",
        "import seaborn as sns\n",
        "import gc\n",
        "import os"
      ],
      "execution_count": 1,
      "outputs": []
    },
    {
      "cell_type": "markdown",
      "metadata": {
        "id": "qYriaGPlL7cV"
      },
      "source": [
        "# Обработка данных"
      ]
    },
    {
      "cell_type": "code",
      "metadata": {
        "id": "UGliF8XUwMVw"
      },
      "source": [
        "path = '/content/drive/MyDrive/Тестовое для РИТ/'"
      ],
      "execution_count": 2,
      "outputs": []
    },
    {
      "cell_type": "code",
      "metadata": {
        "colab": {
          "base_uri": "https://localhost:8080/",
          "height": 1000
        },
        "id": "_XlmHO58K5Wl",
        "outputId": "67aacf71-bd2d-45bc-f867-1201de3be3b0"
      },
      "source": [
        "data_a = pd.read_table(os.path.join(path, 'Приложение А')).rename(\n",
        "    columns={\"Дата\": \"Date\", \"Исполнитель\": \"Worker\", \"Задача\": \"Task\", \"Часы\": \"Hours\"})\n",
        "data_a['Date'] = pd.to_datetime(data_a['Date'], infer_datetime_format=True, format=\"%Y-%m-%d\", errors='coerce')\n",
        "data_a"
      ],
      "execution_count": 3,
      "outputs": [
        {
          "output_type": "execute_result",
          "data": {
            "text/html": [
              "<div>\n",
              "<style scoped>\n",
              "    .dataframe tbody tr th:only-of-type {\n",
              "        vertical-align: middle;\n",
              "    }\n",
              "\n",
              "    .dataframe tbody tr th {\n",
              "        vertical-align: top;\n",
              "    }\n",
              "\n",
              "    .dataframe thead th {\n",
              "        text-align: right;\n",
              "    }\n",
              "</style>\n",
              "<table border=\"1\" class=\"dataframe\">\n",
              "  <thead>\n",
              "    <tr style=\"text-align: right;\">\n",
              "      <th></th>\n",
              "      <th>Date</th>\n",
              "      <th>Worker</th>\n",
              "      <th>Task</th>\n",
              "      <th>Hours</th>\n",
              "    </tr>\n",
              "  </thead>\n",
              "  <tbody>\n",
              "    <tr>\n",
              "      <th>0</th>\n",
              "      <td>2021-03-05</td>\n",
              "      <td>Вася</td>\n",
              "      <td>LOC-1</td>\n",
              "      <td>8</td>\n",
              "    </tr>\n",
              "    <tr>\n",
              "      <th>1</th>\n",
              "      <td>2021-03-05</td>\n",
              "      <td>Петя</td>\n",
              "      <td>LOC-2</td>\n",
              "      <td>8</td>\n",
              "    </tr>\n",
              "    <tr>\n",
              "      <th>2</th>\n",
              "      <td>2021-03-05</td>\n",
              "      <td>Маша</td>\n",
              "      <td>LOC-3</td>\n",
              "      <td>2</td>\n",
              "    </tr>\n",
              "    <tr>\n",
              "      <th>3</th>\n",
              "      <td>2021-03-05</td>\n",
              "      <td>Маша</td>\n",
              "      <td>LOC-4</td>\n",
              "      <td>4</td>\n",
              "    </tr>\n",
              "    <tr>\n",
              "      <th>4</th>\n",
              "      <td>2021-03-05</td>\n",
              "      <td>Маша</td>\n",
              "      <td>LOC-5</td>\n",
              "      <td>2</td>\n",
              "    </tr>\n",
              "    <tr>\n",
              "      <th>5</th>\n",
              "      <td>2021-04-05</td>\n",
              "      <td>Маша</td>\n",
              "      <td>LOC-5</td>\n",
              "      <td>2</td>\n",
              "    </tr>\n",
              "    <tr>\n",
              "      <th>6</th>\n",
              "      <td>2021-04-05</td>\n",
              "      <td>Маша</td>\n",
              "      <td>LOC-7</td>\n",
              "      <td>6</td>\n",
              "    </tr>\n",
              "    <tr>\n",
              "      <th>7</th>\n",
              "      <td>2021-04-05</td>\n",
              "      <td>Вася</td>\n",
              "      <td>LOC-8</td>\n",
              "      <td>4</td>\n",
              "    </tr>\n",
              "    <tr>\n",
              "      <th>8</th>\n",
              "      <td>2021-04-05</td>\n",
              "      <td>Петя</td>\n",
              "      <td>LOC-9</td>\n",
              "      <td>2</td>\n",
              "    </tr>\n",
              "    <tr>\n",
              "      <th>9</th>\n",
              "      <td>2021-04-05</td>\n",
              "      <td>Вася</td>\n",
              "      <td>LOC-10</td>\n",
              "      <td>4</td>\n",
              "    </tr>\n",
              "    <tr>\n",
              "      <th>10</th>\n",
              "      <td>2021-04-05</td>\n",
              "      <td>Петя</td>\n",
              "      <td>LOC-11</td>\n",
              "      <td>6</td>\n",
              "    </tr>\n",
              "    <tr>\n",
              "      <th>11</th>\n",
              "      <td>2021-04-05</td>\n",
              "      <td>Вася</td>\n",
              "      <td>LOC-12</td>\n",
              "      <td>2</td>\n",
              "    </tr>\n",
              "    <tr>\n",
              "      <th>12</th>\n",
              "      <td>2021-05-05</td>\n",
              "      <td>Петя</td>\n",
              "      <td>LOC-13</td>\n",
              "      <td>1</td>\n",
              "    </tr>\n",
              "    <tr>\n",
              "      <th>13</th>\n",
              "      <td>2021-05-05</td>\n",
              "      <td>Вася</td>\n",
              "      <td>LOC-14</td>\n",
              "      <td>8</td>\n",
              "    </tr>\n",
              "    <tr>\n",
              "      <th>14</th>\n",
              "      <td>2021-05-05</td>\n",
              "      <td>Петя</td>\n",
              "      <td>LOC-13</td>\n",
              "      <td>3</td>\n",
              "    </tr>\n",
              "    <tr>\n",
              "      <th>15</th>\n",
              "      <td>2021-05-05</td>\n",
              "      <td>Петя</td>\n",
              "      <td>LOC-13</td>\n",
              "      <td>2</td>\n",
              "    </tr>\n",
              "    <tr>\n",
              "      <th>16</th>\n",
              "      <td>2021-05-05</td>\n",
              "      <td>Петя</td>\n",
              "      <td>LOC-17</td>\n",
              "      <td>2</td>\n",
              "    </tr>\n",
              "    <tr>\n",
              "      <th>17</th>\n",
              "      <td>2021-06-05</td>\n",
              "      <td>Маша</td>\n",
              "      <td>LOC-6</td>\n",
              "      <td>8</td>\n",
              "    </tr>\n",
              "    <tr>\n",
              "      <th>18</th>\n",
              "      <td>2021-06-05</td>\n",
              "      <td>Вася</td>\n",
              "      <td>LOC-16</td>\n",
              "      <td>8</td>\n",
              "    </tr>\n",
              "    <tr>\n",
              "      <th>19</th>\n",
              "      <td>2021-06-05</td>\n",
              "      <td>Петя</td>\n",
              "      <td>LOC-15</td>\n",
              "      <td>8</td>\n",
              "    </tr>\n",
              "    <tr>\n",
              "      <th>20</th>\n",
              "      <td>2021-07-05</td>\n",
              "      <td>Маша</td>\n",
              "      <td>LOC-6</td>\n",
              "      <td>8</td>\n",
              "    </tr>\n",
              "    <tr>\n",
              "      <th>21</th>\n",
              "      <td>2021-07-05</td>\n",
              "      <td>Вася</td>\n",
              "      <td>LOC-16</td>\n",
              "      <td>8</td>\n",
              "    </tr>\n",
              "    <tr>\n",
              "      <th>22</th>\n",
              "      <td>2021-07-05</td>\n",
              "      <td>Петя</td>\n",
              "      <td>LOC-15</td>\n",
              "      <td>8</td>\n",
              "    </tr>\n",
              "    <tr>\n",
              "      <th>23</th>\n",
              "      <td>2021-10-05</td>\n",
              "      <td>Петя</td>\n",
              "      <td>LOC-17</td>\n",
              "      <td>2</td>\n",
              "    </tr>\n",
              "    <tr>\n",
              "      <th>24</th>\n",
              "      <td>2021-10-05</td>\n",
              "      <td>Вася</td>\n",
              "      <td>LOC-18</td>\n",
              "      <td>10</td>\n",
              "    </tr>\n",
              "    <tr>\n",
              "      <th>25</th>\n",
              "      <td>2021-10-05</td>\n",
              "      <td>Петя</td>\n",
              "      <td>LOC-19</td>\n",
              "      <td>2</td>\n",
              "    </tr>\n",
              "    <tr>\n",
              "      <th>26</th>\n",
              "      <td>2021-10-05</td>\n",
              "      <td>Маша</td>\n",
              "      <td>LOC-20</td>\n",
              "      <td>8</td>\n",
              "    </tr>\n",
              "    <tr>\n",
              "      <th>27</th>\n",
              "      <td>2021-10-05</td>\n",
              "      <td>Вася</td>\n",
              "      <td>LOC-21</td>\n",
              "      <td>2</td>\n",
              "    </tr>\n",
              "    <tr>\n",
              "      <th>28</th>\n",
              "      <td>2021-10-05</td>\n",
              "      <td>Петя</td>\n",
              "      <td>LOC-22</td>\n",
              "      <td>4</td>\n",
              "    </tr>\n",
              "    <tr>\n",
              "      <th>29</th>\n",
              "      <td>2021-11-05</td>\n",
              "      <td>Маша</td>\n",
              "      <td>LOC-23</td>\n",
              "      <td>8</td>\n",
              "    </tr>\n",
              "    <tr>\n",
              "      <th>30</th>\n",
              "      <td>2021-11-05</td>\n",
              "      <td>Вася</td>\n",
              "      <td>LOC-24</td>\n",
              "      <td>8</td>\n",
              "    </tr>\n",
              "    <tr>\n",
              "      <th>31</th>\n",
              "      <td>2021-11-05</td>\n",
              "      <td>Петя</td>\n",
              "      <td>LOC-25</td>\n",
              "      <td>8</td>\n",
              "    </tr>\n",
              "    <tr>\n",
              "      <th>32</th>\n",
              "      <td>2021-12-05</td>\n",
              "      <td>Маша</td>\n",
              "      <td>LOC-26</td>\n",
              "      <td>8</td>\n",
              "    </tr>\n",
              "    <tr>\n",
              "      <th>33</th>\n",
              "      <td>2021-12-05</td>\n",
              "      <td>Вася</td>\n",
              "      <td>LOC-27</td>\n",
              "      <td>4</td>\n",
              "    </tr>\n",
              "    <tr>\n",
              "      <th>34</th>\n",
              "      <td>2021-12-05</td>\n",
              "      <td>Петя</td>\n",
              "      <td>LOC-28</td>\n",
              "      <td>4</td>\n",
              "    </tr>\n",
              "    <tr>\n",
              "      <th>35</th>\n",
              "      <td>2021-12-05</td>\n",
              "      <td>Вася</td>\n",
              "      <td>LOC-29</td>\n",
              "      <td>2</td>\n",
              "    </tr>\n",
              "    <tr>\n",
              "      <th>36</th>\n",
              "      <td>2021-12-05</td>\n",
              "      <td>Петя</td>\n",
              "      <td>LOC-30</td>\n",
              "      <td>2</td>\n",
              "    </tr>\n",
              "    <tr>\n",
              "      <th>37</th>\n",
              "      <td>2021-05-13</td>\n",
              "      <td>Вася</td>\n",
              "      <td>LOC-31</td>\n",
              "      <td>2</td>\n",
              "    </tr>\n",
              "    <tr>\n",
              "      <th>38</th>\n",
              "      <td>2021-05-13</td>\n",
              "      <td>Петя</td>\n",
              "      <td>LOC-32</td>\n",
              "      <td>4</td>\n",
              "    </tr>\n",
              "    <tr>\n",
              "      <th>39</th>\n",
              "      <td>2021-05-13</td>\n",
              "      <td>Вася</td>\n",
              "      <td>LOC-33</td>\n",
              "      <td>6</td>\n",
              "    </tr>\n",
              "    <tr>\n",
              "      <th>40</th>\n",
              "      <td>2021-05-13</td>\n",
              "      <td>Петя</td>\n",
              "      <td>LOC-34</td>\n",
              "      <td>4</td>\n",
              "    </tr>\n",
              "    <tr>\n",
              "      <th>41</th>\n",
              "      <td>2021-05-14</td>\n",
              "      <td>Маша</td>\n",
              "      <td>LOC-35</td>\n",
              "      <td>8</td>\n",
              "    </tr>\n",
              "    <tr>\n",
              "      <th>42</th>\n",
              "      <td>2021-05-14</td>\n",
              "      <td>Вася</td>\n",
              "      <td>LOC-36</td>\n",
              "      <td>8</td>\n",
              "    </tr>\n",
              "    <tr>\n",
              "      <th>43</th>\n",
              "      <td>2021-05-14</td>\n",
              "      <td>Петя</td>\n",
              "      <td>LOC-37</td>\n",
              "      <td>8</td>\n",
              "    </tr>\n",
              "    <tr>\n",
              "      <th>44</th>\n",
              "      <td>2021-08-05</td>\n",
              "      <td>Петя</td>\n",
              "      <td>LOC-19</td>\n",
              "      <td>3</td>\n",
              "    </tr>\n",
              "  </tbody>\n",
              "</table>\n",
              "</div>"
            ],
            "text/plain": [
              "         Date Worker    Task  Hours\n",
              "0  2021-03-05   Вася   LOC-1      8\n",
              "1  2021-03-05   Петя   LOC-2      8\n",
              "2  2021-03-05   Маша   LOC-3      2\n",
              "3  2021-03-05   Маша   LOC-4      4\n",
              "4  2021-03-05   Маша   LOC-5      2\n",
              "5  2021-04-05   Маша   LOC-5      2\n",
              "6  2021-04-05   Маша   LOC-7      6\n",
              "7  2021-04-05   Вася   LOC-8      4\n",
              "8  2021-04-05   Петя   LOC-9      2\n",
              "9  2021-04-05   Вася  LOC-10      4\n",
              "10 2021-04-05   Петя  LOC-11      6\n",
              "11 2021-04-05   Вася  LOC-12      2\n",
              "12 2021-05-05   Петя  LOC-13      1\n",
              "13 2021-05-05   Вася  LOC-14      8\n",
              "14 2021-05-05   Петя  LOC-13      3\n",
              "15 2021-05-05   Петя  LOC-13      2\n",
              "16 2021-05-05   Петя  LOC-17      2\n",
              "17 2021-06-05   Маша   LOC-6      8\n",
              "18 2021-06-05   Вася  LOC-16      8\n",
              "19 2021-06-05   Петя  LOC-15      8\n",
              "20 2021-07-05   Маша   LOC-6      8\n",
              "21 2021-07-05   Вася  LOC-16      8\n",
              "22 2021-07-05   Петя  LOC-15      8\n",
              "23 2021-10-05   Петя  LOC-17      2\n",
              "24 2021-10-05   Вася  LOC-18     10\n",
              "25 2021-10-05   Петя  LOC-19      2\n",
              "26 2021-10-05   Маша  LOC-20      8\n",
              "27 2021-10-05   Вася  LOC-21      2\n",
              "28 2021-10-05   Петя  LOC-22      4\n",
              "29 2021-11-05   Маша  LOC-23      8\n",
              "30 2021-11-05   Вася  LOC-24      8\n",
              "31 2021-11-05   Петя  LOC-25      8\n",
              "32 2021-12-05   Маша  LOC-26      8\n",
              "33 2021-12-05   Вася  LOC-27      4\n",
              "34 2021-12-05   Петя  LOC-28      4\n",
              "35 2021-12-05   Вася  LOC-29      2\n",
              "36 2021-12-05   Петя  LOC-30      2\n",
              "37 2021-05-13   Вася  LOC-31      2\n",
              "38 2021-05-13   Петя  LOC-32      4\n",
              "39 2021-05-13   Вася  LOC-33      6\n",
              "40 2021-05-13   Петя  LOC-34      4\n",
              "41 2021-05-14   Маша  LOC-35      8\n",
              "42 2021-05-14   Вася  LOC-36      8\n",
              "43 2021-05-14   Петя  LOC-37      8\n",
              "44 2021-08-05   Петя  LOC-19      3"
            ]
          },
          "metadata": {
            "tags": []
          },
          "execution_count": 3
        }
      ]
    },
    {
      "cell_type": "code",
      "metadata": {
        "colab": {
          "base_uri": "https://localhost:8080/",
          "height": 1000
        },
        "id": "M_p35YKdO47t",
        "outputId": "94ec2eae-9272-4fa0-ebac-2501259faa9b"
      },
      "source": [
        "data_b = pd.read_table(os.path.join(path, 'Приложение B')).rename(columns={\"Задача\": \"Task\", \"Оценка\": \"Grade\"})\n",
        "data_b"
      ],
      "execution_count": 4,
      "outputs": [
        {
          "output_type": "execute_result",
          "data": {
            "text/html": [
              "<div>\n",
              "<style scoped>\n",
              "    .dataframe tbody tr th:only-of-type {\n",
              "        vertical-align: middle;\n",
              "    }\n",
              "\n",
              "    .dataframe tbody tr th {\n",
              "        vertical-align: top;\n",
              "    }\n",
              "\n",
              "    .dataframe thead th {\n",
              "        text-align: right;\n",
              "    }\n",
              "</style>\n",
              "<table border=\"1\" class=\"dataframe\">\n",
              "  <thead>\n",
              "    <tr style=\"text-align: right;\">\n",
              "      <th></th>\n",
              "      <th>Task</th>\n",
              "      <th>Grade</th>\n",
              "    </tr>\n",
              "  </thead>\n",
              "  <tbody>\n",
              "    <tr>\n",
              "      <th>0</th>\n",
              "      <td>LOC-1</td>\n",
              "      <td>6</td>\n",
              "    </tr>\n",
              "    <tr>\n",
              "      <th>1</th>\n",
              "      <td>LOC-2</td>\n",
              "      <td>4</td>\n",
              "    </tr>\n",
              "    <tr>\n",
              "      <th>2</th>\n",
              "      <td>LOC-3</td>\n",
              "      <td>2</td>\n",
              "    </tr>\n",
              "    <tr>\n",
              "      <th>3</th>\n",
              "      <td>LOC-4</td>\n",
              "      <td>4</td>\n",
              "    </tr>\n",
              "    <tr>\n",
              "      <th>4</th>\n",
              "      <td>LOC-5</td>\n",
              "      <td>4</td>\n",
              "    </tr>\n",
              "    <tr>\n",
              "      <th>5</th>\n",
              "      <td>LOC-6</td>\n",
              "      <td>12</td>\n",
              "    </tr>\n",
              "    <tr>\n",
              "      <th>6</th>\n",
              "      <td>LOC-7</td>\n",
              "      <td>6</td>\n",
              "    </tr>\n",
              "    <tr>\n",
              "      <th>7</th>\n",
              "      <td>LOC-8</td>\n",
              "      <td>4</td>\n",
              "    </tr>\n",
              "    <tr>\n",
              "      <th>8</th>\n",
              "      <td>LOC-9</td>\n",
              "      <td>2</td>\n",
              "    </tr>\n",
              "    <tr>\n",
              "      <th>9</th>\n",
              "      <td>LOC-10</td>\n",
              "      <td>3</td>\n",
              "    </tr>\n",
              "    <tr>\n",
              "      <th>10</th>\n",
              "      <td>LOC-11</td>\n",
              "      <td>6</td>\n",
              "    </tr>\n",
              "    <tr>\n",
              "      <th>11</th>\n",
              "      <td>LOC-12</td>\n",
              "      <td>2</td>\n",
              "    </tr>\n",
              "    <tr>\n",
              "      <th>12</th>\n",
              "      <td>LOC-13</td>\n",
              "      <td>6</td>\n",
              "    </tr>\n",
              "    <tr>\n",
              "      <th>13</th>\n",
              "      <td>LOC-14</td>\n",
              "      <td>8</td>\n",
              "    </tr>\n",
              "    <tr>\n",
              "      <th>14</th>\n",
              "      <td>LOC-15</td>\n",
              "      <td>12</td>\n",
              "    </tr>\n",
              "    <tr>\n",
              "      <th>15</th>\n",
              "      <td>LOC-16</td>\n",
              "      <td>12</td>\n",
              "    </tr>\n",
              "    <tr>\n",
              "      <th>16</th>\n",
              "      <td>LOC-17</td>\n",
              "      <td>4</td>\n",
              "    </tr>\n",
              "    <tr>\n",
              "      <th>17</th>\n",
              "      <td>LOC-18</td>\n",
              "      <td>12</td>\n",
              "    </tr>\n",
              "    <tr>\n",
              "      <th>18</th>\n",
              "      <td>LOC-19</td>\n",
              "      <td>2</td>\n",
              "    </tr>\n",
              "    <tr>\n",
              "      <th>19</th>\n",
              "      <td>LOC-20</td>\n",
              "      <td>4</td>\n",
              "    </tr>\n",
              "    <tr>\n",
              "      <th>20</th>\n",
              "      <td>LOC-21</td>\n",
              "      <td>2</td>\n",
              "    </tr>\n",
              "    <tr>\n",
              "      <th>21</th>\n",
              "      <td>LOC-22</td>\n",
              "      <td>4</td>\n",
              "    </tr>\n",
              "    <tr>\n",
              "      <th>22</th>\n",
              "      <td>LOC-23</td>\n",
              "      <td>4</td>\n",
              "    </tr>\n",
              "    <tr>\n",
              "      <th>23</th>\n",
              "      <td>LOC-24</td>\n",
              "      <td>4</td>\n",
              "    </tr>\n",
              "    <tr>\n",
              "      <th>24</th>\n",
              "      <td>LOC-25</td>\n",
              "      <td>6</td>\n",
              "    </tr>\n",
              "    <tr>\n",
              "      <th>25</th>\n",
              "      <td>LOC-26</td>\n",
              "      <td>2</td>\n",
              "    </tr>\n",
              "    <tr>\n",
              "      <th>26</th>\n",
              "      <td>LOC-27</td>\n",
              "      <td>2</td>\n",
              "    </tr>\n",
              "    <tr>\n",
              "      <th>27</th>\n",
              "      <td>LOC-28</td>\n",
              "      <td>2</td>\n",
              "    </tr>\n",
              "    <tr>\n",
              "      <th>28</th>\n",
              "      <td>LOC-29</td>\n",
              "      <td>2</td>\n",
              "    </tr>\n",
              "    <tr>\n",
              "      <th>29</th>\n",
              "      <td>LOC-30</td>\n",
              "      <td>2</td>\n",
              "    </tr>\n",
              "    <tr>\n",
              "      <th>30</th>\n",
              "      <td>LOC-31</td>\n",
              "      <td>2</td>\n",
              "    </tr>\n",
              "    <tr>\n",
              "      <th>31</th>\n",
              "      <td>LOC-32</td>\n",
              "      <td>4</td>\n",
              "    </tr>\n",
              "    <tr>\n",
              "      <th>32</th>\n",
              "      <td>LOC-33</td>\n",
              "      <td>4</td>\n",
              "    </tr>\n",
              "    <tr>\n",
              "      <th>33</th>\n",
              "      <td>LOC-34</td>\n",
              "      <td>4</td>\n",
              "    </tr>\n",
              "    <tr>\n",
              "      <th>34</th>\n",
              "      <td>LOC-35</td>\n",
              "      <td>6</td>\n",
              "    </tr>\n",
              "    <tr>\n",
              "      <th>35</th>\n",
              "      <td>LOC-36</td>\n",
              "      <td>6</td>\n",
              "    </tr>\n",
              "    <tr>\n",
              "      <th>36</th>\n",
              "      <td>LOC-37</td>\n",
              "      <td>6</td>\n",
              "    </tr>\n",
              "  </tbody>\n",
              "</table>\n",
              "</div>"
            ],
            "text/plain": [
              "      Task  Grade\n",
              "0    LOC-1      6\n",
              "1    LOC-2      4\n",
              "2    LOC-3      2\n",
              "3    LOC-4      4\n",
              "4    LOC-5      4\n",
              "5    LOC-6     12\n",
              "6    LOC-7      6\n",
              "7    LOC-8      4\n",
              "8    LOC-9      2\n",
              "9   LOC-10      3\n",
              "10  LOC-11      6\n",
              "11  LOC-12      2\n",
              "12  LOC-13      6\n",
              "13  LOC-14      8\n",
              "14  LOC-15     12\n",
              "15  LOC-16     12\n",
              "16  LOC-17      4\n",
              "17  LOC-18     12\n",
              "18  LOC-19      2\n",
              "19  LOC-20      4\n",
              "20  LOC-21      2\n",
              "21  LOC-22      4\n",
              "22  LOC-23      4\n",
              "23  LOC-24      4\n",
              "24  LOC-25      6\n",
              "25  LOC-26      2\n",
              "26  LOC-27      2\n",
              "27  LOC-28      2\n",
              "28  LOC-29      2\n",
              "29  LOC-30      2\n",
              "30  LOC-31      2\n",
              "31  LOC-32      4\n",
              "32  LOC-33      4\n",
              "33  LOC-34      4\n",
              "34  LOC-35      6\n",
              "35  LOC-36      6\n",
              "36  LOC-37      6"
            ]
          },
          "metadata": {
            "tags": []
          },
          "execution_count": 4
        }
      ]
    },
    {
      "cell_type": "code",
      "metadata": {
        "colab": {
          "base_uri": "https://localhost:8080/",
          "height": 142
        },
        "id": "AAfwcUmVPMB6",
        "outputId": "6c28ae25-ba3c-481f-f4ae-1424605eabcb"
      },
      "source": [
        "data_c = pd.read_table(os.path.join(path, 'Приложение C')).rename(columns={\"Исполнитель\": \"Worker\", \"Ставка\": \"Rate\"})\n",
        "data_c"
      ],
      "execution_count": 5,
      "outputs": [
        {
          "output_type": "execute_result",
          "data": {
            "text/html": [
              "<div>\n",
              "<style scoped>\n",
              "    .dataframe tbody tr th:only-of-type {\n",
              "        vertical-align: middle;\n",
              "    }\n",
              "\n",
              "    .dataframe tbody tr th {\n",
              "        vertical-align: top;\n",
              "    }\n",
              "\n",
              "    .dataframe thead th {\n",
              "        text-align: right;\n",
              "    }\n",
              "</style>\n",
              "<table border=\"1\" class=\"dataframe\">\n",
              "  <thead>\n",
              "    <tr style=\"text-align: right;\">\n",
              "      <th></th>\n",
              "      <th>Worker</th>\n",
              "      <th>Rate</th>\n",
              "    </tr>\n",
              "  </thead>\n",
              "  <tbody>\n",
              "    <tr>\n",
              "      <th>0</th>\n",
              "      <td>Вася</td>\n",
              "      <td>50</td>\n",
              "    </tr>\n",
              "    <tr>\n",
              "      <th>1</th>\n",
              "      <td>Маша</td>\n",
              "      <td>75</td>\n",
              "    </tr>\n",
              "    <tr>\n",
              "      <th>2</th>\n",
              "      <td>Петя</td>\n",
              "      <td>35</td>\n",
              "    </tr>\n",
              "  </tbody>\n",
              "</table>\n",
              "</div>"
            ],
            "text/plain": [
              "  Worker  Rate\n",
              "0   Вася    50\n",
              "1   Маша    75\n",
              "2   Петя    35"
            ]
          },
          "metadata": {
            "tags": []
          },
          "execution_count": 5
        }
      ]
    },
    {
      "cell_type": "markdown",
      "metadata": {
        "id": "QcJ2KxKLPcjW"
      },
      "source": [
        "# Анализ"
      ]
    },
    {
      "cell_type": "markdown",
      "metadata": {
        "id": "7aJRxaJiQsIQ"
      },
      "source": [
        "## Общие трудозатраты на проект в часах"
      ]
    },
    {
      "cell_type": "code",
      "metadata": {
        "colab": {
          "base_uri": "https://localhost:8080/"
        },
        "id": "PLK6m4wjQGWL",
        "outputId": "5f72601d-f4aa-4e99-bf2f-97195bf133a2"
      },
      "source": [
        "data_a['Task'].unique()"
      ],
      "execution_count": null,
      "outputs": [
        {
          "output_type": "execute_result",
          "data": {
            "text/plain": [
              "array(['LOC-1', 'LOC-2', 'LOC-3', 'LOC-4', 'LOC-5', 'LOC-7', 'LOC-8',\n",
              "       'LOC-9', 'LOC-10', 'LOC-11', 'LOC-12', 'LOC-13', 'LOC-14',\n",
              "       'LOC-17', 'LOC-6', 'LOC-16', 'LOC-15', 'LOC-18', 'LOC-19',\n",
              "       'LOC-20', 'LOC-21', 'LOC-22', 'LOC-23', 'LOC-24', 'LOC-25',\n",
              "       'LOC-26', 'LOC-27', 'LOC-28', 'LOC-29', 'LOC-30', 'LOC-31',\n",
              "       'LOC-32', 'LOC-33', 'LOC-34', 'LOC-35', 'LOC-36', 'LOC-37'],\n",
              "      dtype=object)"
            ]
          },
          "metadata": {
            "tags": []
          },
          "execution_count": 5
        }
      ]
    },
    {
      "cell_type": "code",
      "metadata": {
        "colab": {
          "base_uri": "https://localhost:8080/",
          "height": 1000
        },
        "id": "ol7fI-WZPb-p",
        "outputId": "5f903e77-083d-4ddb-8366-a91c0a3b52b3"
      },
      "source": [
        "hourcost = pd.DataFrame(data={'Task': [], 'Hours': []})\n",
        "for project in data_a['Task'].unique():\n",
        "  task = data_a[data_a['Task'] == project]['Task']\n",
        "  hours = data_a[data_a['Task'] == project]['Hours'].sum()\n",
        "  hourcost = hourcost.append({'Task': task.values[0], 'Hours': hours}, ignore_index=True)\n",
        "hourcost"
      ],
      "execution_count": null,
      "outputs": [
        {
          "output_type": "execute_result",
          "data": {
            "text/html": [
              "<div>\n",
              "<style scoped>\n",
              "    .dataframe tbody tr th:only-of-type {\n",
              "        vertical-align: middle;\n",
              "    }\n",
              "\n",
              "    .dataframe tbody tr th {\n",
              "        vertical-align: top;\n",
              "    }\n",
              "\n",
              "    .dataframe thead th {\n",
              "        text-align: right;\n",
              "    }\n",
              "</style>\n",
              "<table border=\"1\" class=\"dataframe\">\n",
              "  <thead>\n",
              "    <tr style=\"text-align: right;\">\n",
              "      <th></th>\n",
              "      <th>Task</th>\n",
              "      <th>Hours</th>\n",
              "    </tr>\n",
              "  </thead>\n",
              "  <tbody>\n",
              "    <tr>\n",
              "      <th>0</th>\n",
              "      <td>LOC-1</td>\n",
              "      <td>8.0</td>\n",
              "    </tr>\n",
              "    <tr>\n",
              "      <th>1</th>\n",
              "      <td>LOC-2</td>\n",
              "      <td>8.0</td>\n",
              "    </tr>\n",
              "    <tr>\n",
              "      <th>2</th>\n",
              "      <td>LOC-3</td>\n",
              "      <td>2.0</td>\n",
              "    </tr>\n",
              "    <tr>\n",
              "      <th>3</th>\n",
              "      <td>LOC-4</td>\n",
              "      <td>4.0</td>\n",
              "    </tr>\n",
              "    <tr>\n",
              "      <th>4</th>\n",
              "      <td>LOC-5</td>\n",
              "      <td>4.0</td>\n",
              "    </tr>\n",
              "    <tr>\n",
              "      <th>5</th>\n",
              "      <td>LOC-7</td>\n",
              "      <td>6.0</td>\n",
              "    </tr>\n",
              "    <tr>\n",
              "      <th>6</th>\n",
              "      <td>LOC-8</td>\n",
              "      <td>4.0</td>\n",
              "    </tr>\n",
              "    <tr>\n",
              "      <th>7</th>\n",
              "      <td>LOC-9</td>\n",
              "      <td>2.0</td>\n",
              "    </tr>\n",
              "    <tr>\n",
              "      <th>8</th>\n",
              "      <td>LOC-10</td>\n",
              "      <td>4.0</td>\n",
              "    </tr>\n",
              "    <tr>\n",
              "      <th>9</th>\n",
              "      <td>LOC-11</td>\n",
              "      <td>6.0</td>\n",
              "    </tr>\n",
              "    <tr>\n",
              "      <th>10</th>\n",
              "      <td>LOC-12</td>\n",
              "      <td>2.0</td>\n",
              "    </tr>\n",
              "    <tr>\n",
              "      <th>11</th>\n",
              "      <td>LOC-13</td>\n",
              "      <td>6.0</td>\n",
              "    </tr>\n",
              "    <tr>\n",
              "      <th>12</th>\n",
              "      <td>LOC-14</td>\n",
              "      <td>8.0</td>\n",
              "    </tr>\n",
              "    <tr>\n",
              "      <th>13</th>\n",
              "      <td>LOC-17</td>\n",
              "      <td>4.0</td>\n",
              "    </tr>\n",
              "    <tr>\n",
              "      <th>14</th>\n",
              "      <td>LOC-6</td>\n",
              "      <td>16.0</td>\n",
              "    </tr>\n",
              "    <tr>\n",
              "      <th>15</th>\n",
              "      <td>LOC-16</td>\n",
              "      <td>16.0</td>\n",
              "    </tr>\n",
              "    <tr>\n",
              "      <th>16</th>\n",
              "      <td>LOC-15</td>\n",
              "      <td>16.0</td>\n",
              "    </tr>\n",
              "    <tr>\n",
              "      <th>17</th>\n",
              "      <td>LOC-18</td>\n",
              "      <td>10.0</td>\n",
              "    </tr>\n",
              "    <tr>\n",
              "      <th>18</th>\n",
              "      <td>LOC-19</td>\n",
              "      <td>5.0</td>\n",
              "    </tr>\n",
              "    <tr>\n",
              "      <th>19</th>\n",
              "      <td>LOC-20</td>\n",
              "      <td>8.0</td>\n",
              "    </tr>\n",
              "    <tr>\n",
              "      <th>20</th>\n",
              "      <td>LOC-21</td>\n",
              "      <td>2.0</td>\n",
              "    </tr>\n",
              "    <tr>\n",
              "      <th>21</th>\n",
              "      <td>LOC-22</td>\n",
              "      <td>4.0</td>\n",
              "    </tr>\n",
              "    <tr>\n",
              "      <th>22</th>\n",
              "      <td>LOC-23</td>\n",
              "      <td>8.0</td>\n",
              "    </tr>\n",
              "    <tr>\n",
              "      <th>23</th>\n",
              "      <td>LOC-24</td>\n",
              "      <td>8.0</td>\n",
              "    </tr>\n",
              "    <tr>\n",
              "      <th>24</th>\n",
              "      <td>LOC-25</td>\n",
              "      <td>8.0</td>\n",
              "    </tr>\n",
              "    <tr>\n",
              "      <th>25</th>\n",
              "      <td>LOC-26</td>\n",
              "      <td>8.0</td>\n",
              "    </tr>\n",
              "    <tr>\n",
              "      <th>26</th>\n",
              "      <td>LOC-27</td>\n",
              "      <td>4.0</td>\n",
              "    </tr>\n",
              "    <tr>\n",
              "      <th>27</th>\n",
              "      <td>LOC-28</td>\n",
              "      <td>4.0</td>\n",
              "    </tr>\n",
              "    <tr>\n",
              "      <th>28</th>\n",
              "      <td>LOC-29</td>\n",
              "      <td>2.0</td>\n",
              "    </tr>\n",
              "    <tr>\n",
              "      <th>29</th>\n",
              "      <td>LOC-30</td>\n",
              "      <td>2.0</td>\n",
              "    </tr>\n",
              "    <tr>\n",
              "      <th>30</th>\n",
              "      <td>LOC-31</td>\n",
              "      <td>2.0</td>\n",
              "    </tr>\n",
              "    <tr>\n",
              "      <th>31</th>\n",
              "      <td>LOC-32</td>\n",
              "      <td>4.0</td>\n",
              "    </tr>\n",
              "    <tr>\n",
              "      <th>32</th>\n",
              "      <td>LOC-33</td>\n",
              "      <td>6.0</td>\n",
              "    </tr>\n",
              "    <tr>\n",
              "      <th>33</th>\n",
              "      <td>LOC-34</td>\n",
              "      <td>4.0</td>\n",
              "    </tr>\n",
              "    <tr>\n",
              "      <th>34</th>\n",
              "      <td>LOC-35</td>\n",
              "      <td>8.0</td>\n",
              "    </tr>\n",
              "    <tr>\n",
              "      <th>35</th>\n",
              "      <td>LOC-36</td>\n",
              "      <td>8.0</td>\n",
              "    </tr>\n",
              "    <tr>\n",
              "      <th>36</th>\n",
              "      <td>LOC-37</td>\n",
              "      <td>8.0</td>\n",
              "    </tr>\n",
              "  </tbody>\n",
              "</table>\n",
              "</div>"
            ],
            "text/plain": [
              "      Task  Hours\n",
              "0    LOC-1    8.0\n",
              "1    LOC-2    8.0\n",
              "2    LOC-3    2.0\n",
              "3    LOC-4    4.0\n",
              "4    LOC-5    4.0\n",
              "5    LOC-7    6.0\n",
              "6    LOC-8    4.0\n",
              "7    LOC-9    2.0\n",
              "8   LOC-10    4.0\n",
              "9   LOC-11    6.0\n",
              "10  LOC-12    2.0\n",
              "11  LOC-13    6.0\n",
              "12  LOC-14    8.0\n",
              "13  LOC-17    4.0\n",
              "14   LOC-6   16.0\n",
              "15  LOC-16   16.0\n",
              "16  LOC-15   16.0\n",
              "17  LOC-18   10.0\n",
              "18  LOC-19    5.0\n",
              "19  LOC-20    8.0\n",
              "20  LOC-21    2.0\n",
              "21  LOC-22    4.0\n",
              "22  LOC-23    8.0\n",
              "23  LOC-24    8.0\n",
              "24  LOC-25    8.0\n",
              "25  LOC-26    8.0\n",
              "26  LOC-27    4.0\n",
              "27  LOC-28    4.0\n",
              "28  LOC-29    2.0\n",
              "29  LOC-30    2.0\n",
              "30  LOC-31    2.0\n",
              "31  LOC-32    4.0\n",
              "32  LOC-33    6.0\n",
              "33  LOC-34    4.0\n",
              "34  LOC-35    8.0\n",
              "35  LOC-36    8.0\n",
              "36  LOC-37    8.0"
            ]
          },
          "metadata": {
            "tags": []
          },
          "execution_count": 6
        }
      ]
    },
    {
      "cell_type": "code",
      "metadata": {
        "colab": {
          "base_uri": "https://localhost:8080/"
        },
        "id": "JR5s883TgRGb",
        "outputId": "75bf74cf-7318-4f4f-d342-620688a3f8f1"
      },
      "source": [
        "hourcost['Hours'].describe()"
      ],
      "execution_count": null,
      "outputs": [
        {
          "output_type": "execute_result",
          "data": {
            "text/plain": [
              "count    37.000000\n",
              "mean      6.189189\n",
              "std       3.770042\n",
              "min       2.000000\n",
              "25%       4.000000\n",
              "50%       6.000000\n",
              "75%       8.000000\n",
              "max      16.000000\n",
              "Name: Hours, dtype: float64"
            ]
          },
          "metadata": {
            "tags": []
          },
          "execution_count": 7
        }
      ]
    },
    {
      "cell_type": "code",
      "metadata": {
        "colab": {
          "base_uri": "https://localhost:8080/"
        },
        "id": "7xPoU-vdcAD0",
        "outputId": "ad3142c0-e0f9-4ce8-e455-a447cc50e70c"
      },
      "source": [
        "mean_hour = hourcost['Hours'].mean()\n",
        "mean_hour"
      ],
      "execution_count": null,
      "outputs": [
        {
          "output_type": "execute_result",
          "data": {
            "text/plain": [
              "6.1891891891891895"
            ]
          },
          "metadata": {
            "tags": []
          },
          "execution_count": 8
        }
      ]
    },
    {
      "cell_type": "code",
      "metadata": {
        "colab": {
          "base_uri": "https://localhost:8080/"
        },
        "id": "J99wOLsWgIuY",
        "outputId": "7e397c1e-ba27-4a55-e3c8-5568498c07a1"
      },
      "source": [
        "median_hour = hourcost['Hours'].median()\n",
        "median_hour"
      ],
      "execution_count": null,
      "outputs": [
        {
          "output_type": "execute_result",
          "data": {
            "text/plain": [
              "6.0"
            ]
          },
          "metadata": {
            "tags": []
          },
          "execution_count": 9
        }
      ]
    },
    {
      "cell_type": "code",
      "metadata": {
        "id": "zJcKVGpoXPL7"
      },
      "source": [
        "def getNum(value): #get a number of task\n",
        "  return [int(s) for s in value.split('-') if s.isdigit()][0]"
      ],
      "execution_count": null,
      "outputs": []
    },
    {
      "cell_type": "code",
      "metadata": {
        "colab": {
          "base_uri": "https://localhost:8080/",
          "height": 584
        },
        "id": "KZZAhCVIV6UO",
        "outputId": "75a28509-3d66-4437-f77b-4d15540db1cd"
      },
      "source": [
        "a4_dims = (14, 9)\n",
        "fig, ax = pyplot.subplots(figsize=a4_dims)\n",
        "\n",
        "timecost = hourcost.copy()\n",
        "timecost['Task'] = timecost['Task'].apply(getNum)\n",
        "g = sns.barplot(x=\"Task\", y='Hours', data=timecost).set(title = 'Потраченное время на задачи',xlabel='Номера задач', ylabel='Потраченное время')\n",
        "plt.plot([-1, 37], [mean_hour, mean_hour], linewidth=1)\n",
        "plt.plot([-1, 37], [median_hour, median_hour], linewidth=1, color='r')\n",
        "\n",
        "del timecost\n",
        "gc.collect()"
      ],
      "execution_count": null,
      "outputs": [
        {
          "output_type": "execute_result",
          "data": {
            "text/plain": [
              "46"
            ]
          },
          "metadata": {
            "tags": []
          },
          "execution_count": 11
        },
        {
          "output_type": "display_data",
          "data": {
            "image/png": "[encoded data removed]",
            "text/plain": [
              "<Figure size 1008x648 with 1 Axes>"
            ]
          },
          "metadata": {
            "tags": [],
            "needs_background": "light"
          }
        }
      ]
    },
    {
      "cell_type": "markdown",
      "metadata": {
        "id": "gSUVOo9aREoB"
      },
      "source": [
        "## Среднее время, затраченное на решение задач каждым из исполнителей в часах"
      ]
    },
    {
      "cell_type": "code",
      "metadata": {
        "colab": {
          "base_uri": "https://localhost:8080/"
        },
        "id": "DPGixsM3f6Nj",
        "outputId": "bdc043f4-29db-40fe-9203-98d84a5489fe"
      },
      "source": [
        "data_a['Worker'].unique()"
      ],
      "execution_count": null,
      "outputs": [
        {
          "output_type": "execute_result",
          "data": {
            "text/plain": [
              "array(['Вася', 'Петя', 'Маша'], dtype=object)"
            ]
          },
          "metadata": {
            "tags": []
          },
          "execution_count": 12
        }
      ]
    },
    {
      "cell_type": "code",
      "metadata": {
        "colab": {
          "base_uri": "https://localhost:8080/",
          "height": 142
        },
        "id": "H0_4sypFhs9q",
        "outputId": "619b9caf-c276-4fd8-ace2-c860c8dcc18d"
      },
      "source": [
        "hourcost_by_man = pd.DataFrame(data={'Worker': [], 'Hours': [], 'Mean time': []})\n",
        "for project in data_a['Worker'].unique():\n",
        "  task = data_a[data_a['Worker'] == project]['Worker']\n",
        "  hours = data_a[data_a['Worker'] == project]['Hours'].sum()\n",
        "  mean_hours = hours/len(data_a[data_a['Worker'] == project]['Hours'])\n",
        "  hourcost_by_man = hourcost_by_man.append({'Worker': task.values[0], 'Hours': hours, 'Mean time': mean_hours}, ignore_index=True)\n",
        "hourcost_by_man"
      ],
      "execution_count": null,
      "outputs": [
        {
          "output_type": "execute_result",
          "data": {
            "text/html": [
              "<div>\n",
              "<style scoped>\n",
              "    .dataframe tbody tr th:only-of-type {\n",
              "        vertical-align: middle;\n",
              "    }\n",
              "\n",
              "    .dataframe tbody tr th {\n",
              "        vertical-align: top;\n",
              "    }\n",
              "\n",
              "    .dataframe thead th {\n",
              "        text-align: right;\n",
              "    }\n",
              "</style>\n",
              "<table border=\"1\" class=\"dataframe\">\n",
              "  <thead>\n",
              "    <tr style=\"text-align: right;\">\n",
              "      <th></th>\n",
              "      <th>Worker</th>\n",
              "      <th>Hours</th>\n",
              "      <th>Mean time</th>\n",
              "    </tr>\n",
              "  </thead>\n",
              "  <tbody>\n",
              "    <tr>\n",
              "      <th>0</th>\n",
              "      <td>Вася</td>\n",
              "      <td>84.0</td>\n",
              "      <td>5.600000</td>\n",
              "    </tr>\n",
              "    <tr>\n",
              "      <th>1</th>\n",
              "      <td>Петя</td>\n",
              "      <td>81.0</td>\n",
              "      <td>4.263158</td>\n",
              "    </tr>\n",
              "    <tr>\n",
              "      <th>2</th>\n",
              "      <td>Маша</td>\n",
              "      <td>64.0</td>\n",
              "      <td>5.818182</td>\n",
              "    </tr>\n",
              "  </tbody>\n",
              "</table>\n",
              "</div>"
            ],
            "text/plain": [
              "  Worker  Hours  Mean time\n",
              "0   Вася   84.0   5.600000\n",
              "1   Петя   81.0   4.263158\n",
              "2   Маша   64.0   5.818182"
            ]
          },
          "metadata": {
            "tags": []
          },
          "execution_count": 13
        }
      ]
    },
    {
      "cell_type": "code",
      "metadata": {
        "colab": {
          "base_uri": "https://localhost:8080/",
          "height": 297
        },
        "id": "DCqwG_Q5iPfb",
        "outputId": "caa24840-eaea-4bb0-daa7-a1191cedf78f"
      },
      "source": [
        "hourcost_by_man.describe()"
      ],
      "execution_count": null,
      "outputs": [
        {
          "output_type": "execute_result",
          "data": {
            "text/html": [
              "<div>\n",
              "<style scoped>\n",
              "    .dataframe tbody tr th:only-of-type {\n",
              "        vertical-align: middle;\n",
              "    }\n",
              "\n",
              "    .dataframe tbody tr th {\n",
              "        vertical-align: top;\n",
              "    }\n",
              "\n",
              "    .dataframe thead th {\n",
              "        text-align: right;\n",
              "    }\n",
              "</style>\n",
              "<table border=\"1\" class=\"dataframe\">\n",
              "  <thead>\n",
              "    <tr style=\"text-align: right;\">\n",
              "      <th></th>\n",
              "      <th>Hours</th>\n",
              "      <th>Mean time</th>\n",
              "    </tr>\n",
              "  </thead>\n",
              "  <tbody>\n",
              "    <tr>\n",
              "      <th>count</th>\n",
              "      <td>3.000000</td>\n",
              "      <td>3.000000</td>\n",
              "    </tr>\n",
              "    <tr>\n",
              "      <th>mean</th>\n",
              "      <td>76.333333</td>\n",
              "      <td>5.227113</td>\n",
              "    </tr>\n",
              "    <tr>\n",
              "      <th>std</th>\n",
              "      <td>10.785793</td>\n",
              "      <td>0.841908</td>\n",
              "    </tr>\n",
              "    <tr>\n",
              "      <th>min</th>\n",
              "      <td>64.000000</td>\n",
              "      <td>4.263158</td>\n",
              "    </tr>\n",
              "    <tr>\n",
              "      <th>25%</th>\n",
              "      <td>72.500000</td>\n",
              "      <td>4.931579</td>\n",
              "    </tr>\n",
              "    <tr>\n",
              "      <th>50%</th>\n",
              "      <td>81.000000</td>\n",
              "      <td>5.600000</td>\n",
              "    </tr>\n",
              "    <tr>\n",
              "      <th>75%</th>\n",
              "      <td>82.500000</td>\n",
              "      <td>5.709091</td>\n",
              "    </tr>\n",
              "    <tr>\n",
              "      <th>max</th>\n",
              "      <td>84.000000</td>\n",
              "      <td>5.818182</td>\n",
              "    </tr>\n",
              "  </tbody>\n",
              "</table>\n",
              "</div>"
            ],
            "text/plain": [
              "           Hours  Mean time\n",
              "count   3.000000   3.000000\n",
              "mean   76.333333   5.227113\n",
              "std    10.785793   0.841908\n",
              "min    64.000000   4.263158\n",
              "25%    72.500000   4.931579\n",
              "50%    81.000000   5.600000\n",
              "75%    82.500000   5.709091\n",
              "max    84.000000   5.818182"
            ]
          },
          "metadata": {
            "tags": []
          },
          "execution_count": 14
        }
      ]
    },
    {
      "cell_type": "markdown",
      "metadata": {
        "id": "Lg22EU9-fxAe"
      },
      "source": [
        "Общее время"
      ]
    },
    {
      "cell_type": "code",
      "metadata": {
        "colab": {
          "base_uri": "https://localhost:8080/"
        },
        "id": "Q9_3f-eBida_",
        "outputId": "633e8b56-230b-42af-8882-e621b092b3de"
      },
      "source": [
        "mean_hour = hourcost_by_man['Hours'].mean()\n",
        "mean_hour"
      ],
      "execution_count": null,
      "outputs": [
        {
          "output_type": "execute_result",
          "data": {
            "text/plain": [
              "76.33333333333333"
            ]
          },
          "metadata": {
            "tags": []
          },
          "execution_count": 15
        }
      ]
    },
    {
      "cell_type": "code",
      "metadata": {
        "colab": {
          "base_uri": "https://localhost:8080/",
          "height": 584
        },
        "id": "5YU0HA4FiKPq",
        "outputId": "c4f79548-fb6b-4c58-a4b0-80f62034eff5"
      },
      "source": [
        "a4_dims = (14, 9)\n",
        "fig, ax = pyplot.subplots(figsize=a4_dims)\n",
        "\n",
        "g = sns.barplot(x=\"Worker\", y='Hours', data=hourcost_by_man).set(title = 'Потраченное время каждого исполнителя',ylabel='Потраченное время', xlabel='Исполнитель')\n",
        "plt.plot([-1, 3], [mean_hour, mean_hour], linewidth=1)"
      ],
      "execution_count": null,
      "outputs": [
        {
          "output_type": "execute_result",
          "data": {
            "text/plain": [
              "[<matplotlib.lines.Line2D at 0x7fbc880cf310>]"
            ]
          },
          "metadata": {
            "tags": []
          },
          "execution_count": 16
        },
        {
          "output_type": "display_data",
          "data": {
            "image/png": "[encoded data removed]",
            "text/plain": [
              "<Figure size 1008x648 with 1 Axes>"
            ]
          },
          "metadata": {
            "tags": [],
            "needs_background": "light"
          }
        }
      ]
    },
    {
      "cell_type": "markdown",
      "metadata": {
        "id": "IjfAOo-Af-Bz"
      },
      "source": [
        "Среднее время"
      ]
    },
    {
      "cell_type": "code",
      "metadata": {
        "colab": {
          "base_uri": "https://localhost:8080/"
        },
        "id": "uOcYqsr5f-t0",
        "outputId": "7d885868-69b6-4336-c404-09a0ef4acec3"
      },
      "source": [
        "mean_mean_hour = hourcost_by_man['Mean time'].mean()\n",
        "mean_mean_hour"
      ],
      "execution_count": null,
      "outputs": [
        {
          "output_type": "execute_result",
          "data": {
            "text/plain": [
              "5.2271132376395535"
            ]
          },
          "metadata": {
            "tags": []
          },
          "execution_count": 17
        }
      ]
    },
    {
      "cell_type": "code",
      "metadata": {
        "colab": {
          "base_uri": "https://localhost:8080/",
          "height": 584
        },
        "id": "Kx2cCe7egEx0",
        "outputId": "ae32556a-d2c5-4fe0-e905-8ba5639de37c"
      },
      "source": [
        "a4_dims = (14, 9)\n",
        "fig, ax = pyplot.subplots(figsize=a4_dims)\n",
        "\n",
        "g = sns.barplot(x=\"Worker\", y='Mean time', data=hourcost_by_man).set(title = 'Потраченное среднее время каждого исполнителя на проект',ylabel='Среднее время', xlabel='Исполнитель')\n",
        "plt.plot([-1, 3], [mean_mean_hour, mean_mean_hour], linewidth=1)"
      ],
      "execution_count": null,
      "outputs": [
        {
          "output_type": "execute_result",
          "data": {
            "text/plain": [
              "[<matplotlib.lines.Line2D at 0x7fbc88042fd0>]"
            ]
          },
          "metadata": {
            "tags": []
          },
          "execution_count": 18
        },
        {
          "output_type": "display_data",
          "data": {
            "image/png": "[encoded data removed]",
            "text/plain": [
              "<Figure size 1008x648 with 1 Axes>"
            ]
          },
          "metadata": {
            "tags": [],
            "needs_background": "light"
          }
        }
      ]
    },
    {
      "cell_type": "code",
      "metadata": {
        "id": "-_kt-3zimKmy",
        "colab": {
          "base_uri": "https://localhost:8080/",
          "height": 142
        },
        "outputId": "82deb33f-3fc3-46c2-9d0f-dca60b7fd57b"
      },
      "source": [
        "hourcost_by_man = hourcost_by_man.merge(data_c, on=['Worker', 'Worker'], how='left')\n",
        "hourcost_by_man['Salary'] = hourcost_by_man['Hours'] * hourcost_by_man['Rate']\n",
        "hourcost_by_man"
      ],
      "execution_count": null,
      "outputs": [
        {
          "output_type": "execute_result",
          "data": {
            "text/html": [
              "<div>\n",
              "<style scoped>\n",
              "    .dataframe tbody tr th:only-of-type {\n",
              "        vertical-align: middle;\n",
              "    }\n",
              "\n",
              "    .dataframe tbody tr th {\n",
              "        vertical-align: top;\n",
              "    }\n",
              "\n",
              "    .dataframe thead th {\n",
              "        text-align: right;\n",
              "    }\n",
              "</style>\n",
              "<table border=\"1\" class=\"dataframe\">\n",
              "  <thead>\n",
              "    <tr style=\"text-align: right;\">\n",
              "      <th></th>\n",
              "      <th>Worker</th>\n",
              "      <th>Hours</th>\n",
              "      <th>Mean time</th>\n",
              "      <th>Rate</th>\n",
              "      <th>Salary</th>\n",
              "    </tr>\n",
              "  </thead>\n",
              "  <tbody>\n",
              "    <tr>\n",
              "      <th>0</th>\n",
              "      <td>Вася</td>\n",
              "      <td>84.0</td>\n",
              "      <td>5.600000</td>\n",
              "      <td>50</td>\n",
              "      <td>4200.0</td>\n",
              "    </tr>\n",
              "    <tr>\n",
              "      <th>1</th>\n",
              "      <td>Петя</td>\n",
              "      <td>81.0</td>\n",
              "      <td>4.263158</td>\n",
              "      <td>35</td>\n",
              "      <td>2835.0</td>\n",
              "    </tr>\n",
              "    <tr>\n",
              "      <th>2</th>\n",
              "      <td>Маша</td>\n",
              "      <td>64.0</td>\n",
              "      <td>5.818182</td>\n",
              "      <td>75</td>\n",
              "      <td>4800.0</td>\n",
              "    </tr>\n",
              "  </tbody>\n",
              "</table>\n",
              "</div>"
            ],
            "text/plain": [
              "  Worker  Hours  Mean time  Rate  Salary\n",
              "0   Вася   84.0   5.600000    50  4200.0\n",
              "1   Петя   81.0   4.263158    35  2835.0\n",
              "2   Маша   64.0   5.818182    75  4800.0"
            ]
          },
          "metadata": {
            "tags": []
          },
          "execution_count": 19
        }
      ]
    },
    {
      "cell_type": "markdown",
      "metadata": {
        "id": "EJkkFKriRX3F"
      },
      "source": [
        "## Рентабельность"
      ]
    },
    {
      "cell_type": "code",
      "metadata": {
        "id": "WLJ-zOEkrCM8"
      },
      "source": [
        "data_a = data_a.merge(hourcost_by_man.filter(['Worker', 'Rate'],axis=1), on=['Worker', 'Worker'], how='left')"
      ],
      "execution_count": null,
      "outputs": []
    },
    {
      "cell_type": "code",
      "metadata": {
        "id": "yoIkGFr6ux-e"
      },
      "source": [
        "data_a['Cost'] = data_a['Hours']*data_a['Rate']"
      ],
      "execution_count": null,
      "outputs": []
    },
    {
      "cell_type": "code",
      "metadata": {
        "id": "frrSiYQqv9Pz"
      },
      "source": [
        "data_a = data_a.drop(['Rate'], axis=1)"
      ],
      "execution_count": null,
      "outputs": []
    },
    {
      "cell_type": "code",
      "metadata": {
        "colab": {
          "base_uri": "https://localhost:8080/",
          "height": 1000
        },
        "id": "nNSiT_oLyli8",
        "outputId": "0db94535-6c5b-4b8f-94cb-dcdee8cf7543"
      },
      "source": [
        "data_a"
      ],
      "execution_count": null,
      "outputs": [
        {
          "output_type": "execute_result",
          "data": {
            "text/html": [
              "<div>\n",
              "<style scoped>\n",
              "    .dataframe tbody tr th:only-of-type {\n",
              "        vertical-align: middle;\n",
              "    }\n",
              "\n",
              "    .dataframe tbody tr th {\n",
              "        vertical-align: top;\n",
              "    }\n",
              "\n",
              "    .dataframe thead th {\n",
              "        text-align: right;\n",
              "    }\n",
              "</style>\n",
              "<table border=\"1\" class=\"dataframe\">\n",
              "  <thead>\n",
              "    <tr style=\"text-align: right;\">\n",
              "      <th></th>\n",
              "      <th>Date</th>\n",
              "      <th>Worker</th>\n",
              "      <th>Task</th>\n",
              "      <th>Hours</th>\n",
              "      <th>Cost</th>\n",
              "    </tr>\n",
              "  </thead>\n",
              "  <tbody>\n",
              "    <tr>\n",
              "      <th>0</th>\n",
              "      <td>2021-03-05</td>\n",
              "      <td>Вася</td>\n",
              "      <td>LOC-1</td>\n",
              "      <td>8</td>\n",
              "      <td>400</td>\n",
              "    </tr>\n",
              "    <tr>\n",
              "      <th>1</th>\n",
              "      <td>2021-03-05</td>\n",
              "      <td>Петя</td>\n",
              "      <td>LOC-2</td>\n",
              "      <td>8</td>\n",
              "      <td>280</td>\n",
              "    </tr>\n",
              "    <tr>\n",
              "      <th>2</th>\n",
              "      <td>2021-03-05</td>\n",
              "      <td>Маша</td>\n",
              "      <td>LOC-3</td>\n",
              "      <td>2</td>\n",
              "      <td>150</td>\n",
              "    </tr>\n",
              "    <tr>\n",
              "      <th>3</th>\n",
              "      <td>2021-03-05</td>\n",
              "      <td>Маша</td>\n",
              "      <td>LOC-4</td>\n",
              "      <td>4</td>\n",
              "      <td>300</td>\n",
              "    </tr>\n",
              "    <tr>\n",
              "      <th>4</th>\n",
              "      <td>2021-03-05</td>\n",
              "      <td>Маша</td>\n",
              "      <td>LOC-5</td>\n",
              "      <td>2</td>\n",
              "      <td>150</td>\n",
              "    </tr>\n",
              "    <tr>\n",
              "      <th>5</th>\n",
              "      <td>2021-04-05</td>\n",
              "      <td>Маша</td>\n",
              "      <td>LOC-5</td>\n",
              "      <td>2</td>\n",
              "      <td>150</td>\n",
              "    </tr>\n",
              "    <tr>\n",
              "      <th>6</th>\n",
              "      <td>2021-04-05</td>\n",
              "      <td>Маша</td>\n",
              "      <td>LOC-7</td>\n",
              "      <td>6</td>\n",
              "      <td>450</td>\n",
              "    </tr>\n",
              "    <tr>\n",
              "      <th>7</th>\n",
              "      <td>2021-04-05</td>\n",
              "      <td>Вася</td>\n",
              "      <td>LOC-8</td>\n",
              "      <td>4</td>\n",
              "      <td>200</td>\n",
              "    </tr>\n",
              "    <tr>\n",
              "      <th>8</th>\n",
              "      <td>2021-04-05</td>\n",
              "      <td>Петя</td>\n",
              "      <td>LOC-9</td>\n",
              "      <td>2</td>\n",
              "      <td>70</td>\n",
              "    </tr>\n",
              "    <tr>\n",
              "      <th>9</th>\n",
              "      <td>2021-04-05</td>\n",
              "      <td>Вася</td>\n",
              "      <td>LOC-10</td>\n",
              "      <td>4</td>\n",
              "      <td>200</td>\n",
              "    </tr>\n",
              "    <tr>\n",
              "      <th>10</th>\n",
              "      <td>2021-04-05</td>\n",
              "      <td>Петя</td>\n",
              "      <td>LOC-11</td>\n",
              "      <td>6</td>\n",
              "      <td>210</td>\n",
              "    </tr>\n",
              "    <tr>\n",
              "      <th>11</th>\n",
              "      <td>2021-04-05</td>\n",
              "      <td>Вася</td>\n",
              "      <td>LOC-12</td>\n",
              "      <td>2</td>\n",
              "      <td>100</td>\n",
              "    </tr>\n",
              "    <tr>\n",
              "      <th>12</th>\n",
              "      <td>2021-05-05</td>\n",
              "      <td>Петя</td>\n",
              "      <td>LOC-13</td>\n",
              "      <td>1</td>\n",
              "      <td>35</td>\n",
              "    </tr>\n",
              "    <tr>\n",
              "      <th>13</th>\n",
              "      <td>2021-05-05</td>\n",
              "      <td>Вася</td>\n",
              "      <td>LOC-14</td>\n",
              "      <td>8</td>\n",
              "      <td>400</td>\n",
              "    </tr>\n",
              "    <tr>\n",
              "      <th>14</th>\n",
              "      <td>2021-05-05</td>\n",
              "      <td>Петя</td>\n",
              "      <td>LOC-13</td>\n",
              "      <td>3</td>\n",
              "      <td>105</td>\n",
              "    </tr>\n",
              "    <tr>\n",
              "      <th>15</th>\n",
              "      <td>2021-05-05</td>\n",
              "      <td>Петя</td>\n",
              "      <td>LOC-13</td>\n",
              "      <td>2</td>\n",
              "      <td>70</td>\n",
              "    </tr>\n",
              "    <tr>\n",
              "      <th>16</th>\n",
              "      <td>2021-05-05</td>\n",
              "      <td>Петя</td>\n",
              "      <td>LOC-17</td>\n",
              "      <td>2</td>\n",
              "      <td>70</td>\n",
              "    </tr>\n",
              "    <tr>\n",
              "      <th>17</th>\n",
              "      <td>2021-06-05</td>\n",
              "      <td>Маша</td>\n",
              "      <td>LOC-6</td>\n",
              "      <td>8</td>\n",
              "      <td>600</td>\n",
              "    </tr>\n",
              "    <tr>\n",
              "      <th>18</th>\n",
              "      <td>2021-06-05</td>\n",
              "      <td>Вася</td>\n",
              "      <td>LOC-16</td>\n",
              "      <td>8</td>\n",
              "      <td>400</td>\n",
              "    </tr>\n",
              "    <tr>\n",
              "      <th>19</th>\n",
              "      <td>2021-06-05</td>\n",
              "      <td>Петя</td>\n",
              "      <td>LOC-15</td>\n",
              "      <td>8</td>\n",
              "      <td>280</td>\n",
              "    </tr>\n",
              "    <tr>\n",
              "      <th>20</th>\n",
              "      <td>2021-07-05</td>\n",
              "      <td>Маша</td>\n",
              "      <td>LOC-6</td>\n",
              "      <td>8</td>\n",
              "      <td>600</td>\n",
              "    </tr>\n",
              "    <tr>\n",
              "      <th>21</th>\n",
              "      <td>2021-07-05</td>\n",
              "      <td>Вася</td>\n",
              "      <td>LOC-16</td>\n",
              "      <td>8</td>\n",
              "      <td>400</td>\n",
              "    </tr>\n",
              "    <tr>\n",
              "      <th>22</th>\n",
              "      <td>2021-07-05</td>\n",
              "      <td>Петя</td>\n",
              "      <td>LOC-15</td>\n",
              "      <td>8</td>\n",
              "      <td>280</td>\n",
              "    </tr>\n",
              "    <tr>\n",
              "      <th>23</th>\n",
              "      <td>2021-10-05</td>\n",
              "      <td>Петя</td>\n",
              "      <td>LOC-17</td>\n",
              "      <td>2</td>\n",
              "      <td>70</td>\n",
              "    </tr>\n",
              "    <tr>\n",
              "      <th>24</th>\n",
              "      <td>2021-10-05</td>\n",
              "      <td>Вася</td>\n",
              "      <td>LOC-18</td>\n",
              "      <td>10</td>\n",
              "      <td>500</td>\n",
              "    </tr>\n",
              "    <tr>\n",
              "      <th>25</th>\n",
              "      <td>2021-10-05</td>\n",
              "      <td>Петя</td>\n",
              "      <td>LOC-19</td>\n",
              "      <td>2</td>\n",
              "      <td>70</td>\n",
              "    </tr>\n",
              "    <tr>\n",
              "      <th>26</th>\n",
              "      <td>2021-10-05</td>\n",
              "      <td>Маша</td>\n",
              "      <td>LOC-20</td>\n",
              "      <td>8</td>\n",
              "      <td>600</td>\n",
              "    </tr>\n",
              "    <tr>\n",
              "      <th>27</th>\n",
              "      <td>2021-10-05</td>\n",
              "      <td>Вася</td>\n",
              "      <td>LOC-21</td>\n",
              "      <td>2</td>\n",
              "      <td>100</td>\n",
              "    </tr>\n",
              "    <tr>\n",
              "      <th>28</th>\n",
              "      <td>2021-10-05</td>\n",
              "      <td>Петя</td>\n",
              "      <td>LOC-22</td>\n",
              "      <td>4</td>\n",
              "      <td>140</td>\n",
              "    </tr>\n",
              "    <tr>\n",
              "      <th>29</th>\n",
              "      <td>2021-11-05</td>\n",
              "      <td>Маша</td>\n",
              "      <td>LOC-23</td>\n",
              "      <td>8</td>\n",
              "      <td>600</td>\n",
              "    </tr>\n",
              "    <tr>\n",
              "      <th>30</th>\n",
              "      <td>2021-11-05</td>\n",
              "      <td>Вася</td>\n",
              "      <td>LOC-24</td>\n",
              "      <td>8</td>\n",
              "      <td>400</td>\n",
              "    </tr>\n",
              "    <tr>\n",
              "      <th>31</th>\n",
              "      <td>2021-11-05</td>\n",
              "      <td>Петя</td>\n",
              "      <td>LOC-25</td>\n",
              "      <td>8</td>\n",
              "      <td>280</td>\n",
              "    </tr>\n",
              "    <tr>\n",
              "      <th>32</th>\n",
              "      <td>2021-12-05</td>\n",
              "      <td>Маша</td>\n",
              "      <td>LOC-26</td>\n",
              "      <td>8</td>\n",
              "      <td>600</td>\n",
              "    </tr>\n",
              "    <tr>\n",
              "      <th>33</th>\n",
              "      <td>2021-12-05</td>\n",
              "      <td>Вася</td>\n",
              "      <td>LOC-27</td>\n",
              "      <td>4</td>\n",
              "      <td>200</td>\n",
              "    </tr>\n",
              "    <tr>\n",
              "      <th>34</th>\n",
              "      <td>2021-12-05</td>\n",
              "      <td>Петя</td>\n",
              "      <td>LOC-28</td>\n",
              "      <td>4</td>\n",
              "      <td>140</td>\n",
              "    </tr>\n",
              "    <tr>\n",
              "      <th>35</th>\n",
              "      <td>2021-12-05</td>\n",
              "      <td>Вася</td>\n",
              "      <td>LOC-29</td>\n",
              "      <td>2</td>\n",
              "      <td>100</td>\n",
              "    </tr>\n",
              "    <tr>\n",
              "      <th>36</th>\n",
              "      <td>2021-12-05</td>\n",
              "      <td>Петя</td>\n",
              "      <td>LOC-30</td>\n",
              "      <td>2</td>\n",
              "      <td>70</td>\n",
              "    </tr>\n",
              "    <tr>\n",
              "      <th>37</th>\n",
              "      <td>2021-05-13</td>\n",
              "      <td>Вася</td>\n",
              "      <td>LOC-31</td>\n",
              "      <td>2</td>\n",
              "      <td>100</td>\n",
              "    </tr>\n",
              "    <tr>\n",
              "      <th>38</th>\n",
              "      <td>2021-05-13</td>\n",
              "      <td>Петя</td>\n",
              "      <td>LOC-32</td>\n",
              "      <td>4</td>\n",
              "      <td>140</td>\n",
              "    </tr>\n",
              "    <tr>\n",
              "      <th>39</th>\n",
              "      <td>2021-05-13</td>\n",
              "      <td>Вася</td>\n",
              "      <td>LOC-33</td>\n",
              "      <td>6</td>\n",
              "      <td>300</td>\n",
              "    </tr>\n",
              "    <tr>\n",
              "      <th>40</th>\n",
              "      <td>2021-05-13</td>\n",
              "      <td>Петя</td>\n",
              "      <td>LOC-34</td>\n",
              "      <td>4</td>\n",
              "      <td>140</td>\n",
              "    </tr>\n",
              "    <tr>\n",
              "      <th>41</th>\n",
              "      <td>2021-05-14</td>\n",
              "      <td>Маша</td>\n",
              "      <td>LOC-35</td>\n",
              "      <td>8</td>\n",
              "      <td>600</td>\n",
              "    </tr>\n",
              "    <tr>\n",
              "      <th>42</th>\n",
              "      <td>2021-05-14</td>\n",
              "      <td>Вася</td>\n",
              "      <td>LOC-36</td>\n",
              "      <td>8</td>\n",
              "      <td>400</td>\n",
              "    </tr>\n",
              "    <tr>\n",
              "      <th>43</th>\n",
              "      <td>2021-05-14</td>\n",
              "      <td>Петя</td>\n",
              "      <td>LOC-37</td>\n",
              "      <td>8</td>\n",
              "      <td>280</td>\n",
              "    </tr>\n",
              "    <tr>\n",
              "      <th>44</th>\n",
              "      <td>2021-08-05</td>\n",
              "      <td>Петя</td>\n",
              "      <td>LOC-19</td>\n",
              "      <td>3</td>\n",
              "      <td>105</td>\n",
              "    </tr>\n",
              "  </tbody>\n",
              "</table>\n",
              "</div>"
            ],
            "text/plain": [
              "         Date Worker    Task  Hours  Cost\n",
              "0  2021-03-05   Вася   LOC-1      8   400\n",
              "1  2021-03-05   Петя   LOC-2      8   280\n",
              "2  2021-03-05   Маша   LOC-3      2   150\n",
              "3  2021-03-05   Маша   LOC-4      4   300\n",
              "4  2021-03-05   Маша   LOC-5      2   150\n",
              "5  2021-04-05   Маша   LOC-5      2   150\n",
              "6  2021-04-05   Маша   LOC-7      6   450\n",
              "7  2021-04-05   Вася   LOC-8      4   200\n",
              "8  2021-04-05   Петя   LOC-9      2    70\n",
              "9  2021-04-05   Вася  LOC-10      4   200\n",
              "10 2021-04-05   Петя  LOC-11      6   210\n",
              "11 2021-04-05   Вася  LOC-12      2   100\n",
              "12 2021-05-05   Петя  LOC-13      1    35\n",
              "13 2021-05-05   Вася  LOC-14      8   400\n",
              "14 2021-05-05   Петя  LOC-13      3   105\n",
              "15 2021-05-05   Петя  LOC-13      2    70\n",
              "16 2021-05-05   Петя  LOC-17      2    70\n",
              "17 2021-06-05   Маша   LOC-6      8   600\n",
              "18 2021-06-05   Вася  LOC-16      8   400\n",
              "19 2021-06-05   Петя  LOC-15      8   280\n",
              "20 2021-07-05   Маша   LOC-6      8   600\n",
              "21 2021-07-05   Вася  LOC-16      8   400\n",
              "22 2021-07-05   Петя  LOC-15      8   280\n",
              "23 2021-10-05   Петя  LOC-17      2    70\n",
              "24 2021-10-05   Вася  LOC-18     10   500\n",
              "25 2021-10-05   Петя  LOC-19      2    70\n",
              "26 2021-10-05   Маша  LOC-20      8   600\n",
              "27 2021-10-05   Вася  LOC-21      2   100\n",
              "28 2021-10-05   Петя  LOC-22      4   140\n",
              "29 2021-11-05   Маша  LOC-23      8   600\n",
              "30 2021-11-05   Вася  LOC-24      8   400\n",
              "31 2021-11-05   Петя  LOC-25      8   280\n",
              "32 2021-12-05   Маша  LOC-26      8   600\n",
              "33 2021-12-05   Вася  LOC-27      4   200\n",
              "34 2021-12-05   Петя  LOC-28      4   140\n",
              "35 2021-12-05   Вася  LOC-29      2   100\n",
              "36 2021-12-05   Петя  LOC-30      2    70\n",
              "37 2021-05-13   Вася  LOC-31      2   100\n",
              "38 2021-05-13   Петя  LOC-32      4   140\n",
              "39 2021-05-13   Вася  LOC-33      6   300\n",
              "40 2021-05-13   Петя  LOC-34      4   140\n",
              "41 2021-05-14   Маша  LOC-35      8   600\n",
              "42 2021-05-14   Вася  LOC-36      8   400\n",
              "43 2021-05-14   Петя  LOC-37      8   280\n",
              "44 2021-08-05   Петя  LOC-19      3   105"
            ]
          },
          "metadata": {
            "tags": []
          },
          "execution_count": 23
        }
      ]
    },
    {
      "cell_type": "code",
      "metadata": {
        "colab": {
          "base_uri": "https://localhost:8080/",
          "height": 1000
        },
        "id": "YywqU5Cbyz1u",
        "outputId": "8dc238f6-768c-4933-b210-def8fe0c6c28"
      },
      "source": [
        "projects = pd.DataFrame(data={'Task': [], 'Cost': []})\n",
        "for project in data_a['Task'].unique():\n",
        "  task = data_a[data_a['Task'] == project]['Task']\n",
        "  cost = data_a[data_a['Task'] == project]['Cost'].sum()\n",
        "  projects = projects.append({'Task': task.values[0], 'Cost': cost}, ignore_index=True)\n",
        "projects"
      ],
      "execution_count": null,
      "outputs": [
        {
          "output_type": "execute_result",
          "data": {
            "text/html": [
              "<div>\n",
              "<style scoped>\n",
              "    .dataframe tbody tr th:only-of-type {\n",
              "        vertical-align: middle;\n",
              "    }\n",
              "\n",
              "    .dataframe tbody tr th {\n",
              "        vertical-align: top;\n",
              "    }\n",
              "\n",
              "    .dataframe thead th {\n",
              "        text-align: right;\n",
              "    }\n",
              "</style>\n",
              "<table border=\"1\" class=\"dataframe\">\n",
              "  <thead>\n",
              "    <tr style=\"text-align: right;\">\n",
              "      <th></th>\n",
              "      <th>Task</th>\n",
              "      <th>Cost</th>\n",
              "    </tr>\n",
              "  </thead>\n",
              "  <tbody>\n",
              "    <tr>\n",
              "      <th>0</th>\n",
              "      <td>LOC-1</td>\n",
              "      <td>400.0</td>\n",
              "    </tr>\n",
              "    <tr>\n",
              "      <th>1</th>\n",
              "      <td>LOC-2</td>\n",
              "      <td>280.0</td>\n",
              "    </tr>\n",
              "    <tr>\n",
              "      <th>2</th>\n",
              "      <td>LOC-3</td>\n",
              "      <td>150.0</td>\n",
              "    </tr>\n",
              "    <tr>\n",
              "      <th>3</th>\n",
              "      <td>LOC-4</td>\n",
              "      <td>300.0</td>\n",
              "    </tr>\n",
              "    <tr>\n",
              "      <th>4</th>\n",
              "      <td>LOC-5</td>\n",
              "      <td>300.0</td>\n",
              "    </tr>\n",
              "    <tr>\n",
              "      <th>5</th>\n",
              "      <td>LOC-7</td>\n",
              "      <td>450.0</td>\n",
              "    </tr>\n",
              "    <tr>\n",
              "      <th>6</th>\n",
              "      <td>LOC-8</td>\n",
              "      <td>200.0</td>\n",
              "    </tr>\n",
              "    <tr>\n",
              "      <th>7</th>\n",
              "      <td>LOC-9</td>\n",
              "      <td>70.0</td>\n",
              "    </tr>\n",
              "    <tr>\n",
              "      <th>8</th>\n",
              "      <td>LOC-10</td>\n",
              "      <td>200.0</td>\n",
              "    </tr>\n",
              "    <tr>\n",
              "      <th>9</th>\n",
              "      <td>LOC-11</td>\n",
              "      <td>210.0</td>\n",
              "    </tr>\n",
              "    <tr>\n",
              "      <th>10</th>\n",
              "      <td>LOC-12</td>\n",
              "      <td>100.0</td>\n",
              "    </tr>\n",
              "    <tr>\n",
              "      <th>11</th>\n",
              "      <td>LOC-13</td>\n",
              "      <td>210.0</td>\n",
              "    </tr>\n",
              "    <tr>\n",
              "      <th>12</th>\n",
              "      <td>LOC-14</td>\n",
              "      <td>400.0</td>\n",
              "    </tr>\n",
              "    <tr>\n",
              "      <th>13</th>\n",
              "      <td>LOC-17</td>\n",
              "      <td>140.0</td>\n",
              "    </tr>\n",
              "    <tr>\n",
              "      <th>14</th>\n",
              "      <td>LOC-6</td>\n",
              "      <td>1200.0</td>\n",
              "    </tr>\n",
              "    <tr>\n",
              "      <th>15</th>\n",
              "      <td>LOC-16</td>\n",
              "      <td>800.0</td>\n",
              "    </tr>\n",
              "    <tr>\n",
              "      <th>16</th>\n",
              "      <td>LOC-15</td>\n",
              "      <td>560.0</td>\n",
              "    </tr>\n",
              "    <tr>\n",
              "      <th>17</th>\n",
              "      <td>LOC-18</td>\n",
              "      <td>500.0</td>\n",
              "    </tr>\n",
              "    <tr>\n",
              "      <th>18</th>\n",
              "      <td>LOC-19</td>\n",
              "      <td>175.0</td>\n",
              "    </tr>\n",
              "    <tr>\n",
              "      <th>19</th>\n",
              "      <td>LOC-20</td>\n",
              "      <td>600.0</td>\n",
              "    </tr>\n",
              "    <tr>\n",
              "      <th>20</th>\n",
              "      <td>LOC-21</td>\n",
              "      <td>100.0</td>\n",
              "    </tr>\n",
              "    <tr>\n",
              "      <th>21</th>\n",
              "      <td>LOC-22</td>\n",
              "      <td>140.0</td>\n",
              "    </tr>\n",
              "    <tr>\n",
              "      <th>22</th>\n",
              "      <td>LOC-23</td>\n",
              "      <td>600.0</td>\n",
              "    </tr>\n",
              "    <tr>\n",
              "      <th>23</th>\n",
              "      <td>LOC-24</td>\n",
              "      <td>400.0</td>\n",
              "    </tr>\n",
              "    <tr>\n",
              "      <th>24</th>\n",
              "      <td>LOC-25</td>\n",
              "      <td>280.0</td>\n",
              "    </tr>\n",
              "    <tr>\n",
              "      <th>25</th>\n",
              "      <td>LOC-26</td>\n",
              "      <td>600.0</td>\n",
              "    </tr>\n",
              "    <tr>\n",
              "      <th>26</th>\n",
              "      <td>LOC-27</td>\n",
              "      <td>200.0</td>\n",
              "    </tr>\n",
              "    <tr>\n",
              "      <th>27</th>\n",
              "      <td>LOC-28</td>\n",
              "      <td>140.0</td>\n",
              "    </tr>\n",
              "    <tr>\n",
              "      <th>28</th>\n",
              "      <td>LOC-29</td>\n",
              "      <td>100.0</td>\n",
              "    </tr>\n",
              "    <tr>\n",
              "      <th>29</th>\n",
              "      <td>LOC-30</td>\n",
              "      <td>70.0</td>\n",
              "    </tr>\n",
              "    <tr>\n",
              "      <th>30</th>\n",
              "      <td>LOC-31</td>\n",
              "      <td>100.0</td>\n",
              "    </tr>\n",
              "    <tr>\n",
              "      <th>31</th>\n",
              "      <td>LOC-32</td>\n",
              "      <td>140.0</td>\n",
              "    </tr>\n",
              "    <tr>\n",
              "      <th>32</th>\n",
              "      <td>LOC-33</td>\n",
              "      <td>300.0</td>\n",
              "    </tr>\n",
              "    <tr>\n",
              "      <th>33</th>\n",
              "      <td>LOC-34</td>\n",
              "      <td>140.0</td>\n",
              "    </tr>\n",
              "    <tr>\n",
              "      <th>34</th>\n",
              "      <td>LOC-35</td>\n",
              "      <td>600.0</td>\n",
              "    </tr>\n",
              "    <tr>\n",
              "      <th>35</th>\n",
              "      <td>LOC-36</td>\n",
              "      <td>400.0</td>\n",
              "    </tr>\n",
              "    <tr>\n",
              "      <th>36</th>\n",
              "      <td>LOC-37</td>\n",
              "      <td>280.0</td>\n",
              "    </tr>\n",
              "  </tbody>\n",
              "</table>\n",
              "</div>"
            ],
            "text/plain": [
              "      Task    Cost\n",
              "0    LOC-1   400.0\n",
              "1    LOC-2   280.0\n",
              "2    LOC-3   150.0\n",
              "3    LOC-4   300.0\n",
              "4    LOC-5   300.0\n",
              "5    LOC-7   450.0\n",
              "6    LOC-8   200.0\n",
              "7    LOC-9    70.0\n",
              "8   LOC-10   200.0\n",
              "9   LOC-11   210.0\n",
              "10  LOC-12   100.0\n",
              "11  LOC-13   210.0\n",
              "12  LOC-14   400.0\n",
              "13  LOC-17   140.0\n",
              "14   LOC-6  1200.0\n",
              "15  LOC-16   800.0\n",
              "16  LOC-15   560.0\n",
              "17  LOC-18   500.0\n",
              "18  LOC-19   175.0\n",
              "19  LOC-20   600.0\n",
              "20  LOC-21   100.0\n",
              "21  LOC-22   140.0\n",
              "22  LOC-23   600.0\n",
              "23  LOC-24   400.0\n",
              "24  LOC-25   280.0\n",
              "25  LOC-26   600.0\n",
              "26  LOC-27   200.0\n",
              "27  LOC-28   140.0\n",
              "28  LOC-29   100.0\n",
              "29  LOC-30    70.0\n",
              "30  LOC-31   100.0\n",
              "31  LOC-32   140.0\n",
              "32  LOC-33   300.0\n",
              "33  LOC-34   140.0\n",
              "34  LOC-35   600.0\n",
              "35  LOC-36   400.0\n",
              "36  LOC-37   280.0"
            ]
          },
          "metadata": {
            "tags": []
          },
          "execution_count": 24
        }
      ]
    },
    {
      "cell_type": "code",
      "metadata": {
        "colab": {
          "base_uri": "https://localhost:8080/"
        },
        "id": "llk7dfr10XWb",
        "outputId": "7ba15067-1f78-4071-c593-b2031789ad9b"
      },
      "source": [
        "income = 24000\n",
        "profit = income - projects['Cost'].sum()\n",
        "profitability = (profit*100)/income\n",
        "print(\"Рентабельность проекта =\", profitability)"
      ],
      "execution_count": null,
      "outputs": [
        {
          "output_type": "stream",
          "text": [
            "Рентабельность проекта = 50.6875\n"
          ],
          "name": "stdout"
        }
      ]
    },
    {
      "cell_type": "code",
      "metadata": {
        "colab": {
          "base_uri": "https://localhost:8080/"
        },
        "id": "uO3Bdnphi6XC",
        "outputId": "b9cd7f30-803d-42b5-89f4-d2f20ef383ab"
      },
      "source": [
        "projects = projects.merge(hourcost.filter(['Task', 'Hours'],axis=1), on=['Task', 'Task'], how='left')\n",
        "del hourcost\n",
        "gc.collect()"
      ],
      "execution_count": null,
      "outputs": [
        {
          "output_type": "execute_result",
          "data": {
            "text/plain": [
              "9655"
            ]
          },
          "metadata": {
            "tags": []
          },
          "execution_count": 26
        }
      ]
    },
    {
      "cell_type": "markdown",
      "metadata": {
        "id": "f4W16zKYRj1t"
      },
      "source": [
        "## Рассчитать среднее количество часов, отрабатываемое каждым сотрудником за день"
      ]
    },
    {
      "cell_type": "code",
      "metadata": {
        "colab": {
          "base_uri": "https://localhost:8080/",
          "height": 948
        },
        "id": "VhOzZzOuiK-r",
        "outputId": "a8317ae7-d436-4e92-cade-f656a4488309"
      },
      "source": [
        "def getDayofWeek(date):\n",
        "  return date.dayofweek\n",
        "  \n",
        "dates = data_a.drop(['Task', 'Cost'], axis=1)\n",
        "dates = dates.sort_values('Date')\n",
        "\n",
        "hours_list = []\n",
        "for worker, date in zip(dates['Worker'], dates['Date']):\n",
        "  hours = dates[(dates['Worker'] == worker) & (dates['Date'] == date)]['Hours']\n",
        "  hours_list.append(hours.sum())\n",
        "dates['Hours'] = hours_list\n",
        "\n",
        "del hours_list\n",
        "gc.collect()\n",
        "\n",
        "dates = dates.drop_duplicates()\n",
        "dates = dates.reset_index(drop=True)\n",
        "dates['Day of week'] = dates['Date'].apply(getDayofWeek)\n",
        "dates"
      ],
      "execution_count": null,
      "outputs": [
        {
          "output_type": "execute_result",
          "data": {
            "text/html": [
              "<div>\n",
              "<style scoped>\n",
              "    .dataframe tbody tr th:only-of-type {\n",
              "        vertical-align: middle;\n",
              "    }\n",
              "\n",
              "    .dataframe tbody tr th {\n",
              "        vertical-align: top;\n",
              "    }\n",
              "\n",
              "    .dataframe thead th {\n",
              "        text-align: right;\n",
              "    }\n",
              "</style>\n",
              "<table border=\"1\" class=\"dataframe\">\n",
              "  <thead>\n",
              "    <tr style=\"text-align: right;\">\n",
              "      <th></th>\n",
              "      <th>Date</th>\n",
              "      <th>Worker</th>\n",
              "      <th>Hours</th>\n",
              "      <th>Day of week</th>\n",
              "    </tr>\n",
              "  </thead>\n",
              "  <tbody>\n",
              "    <tr>\n",
              "      <th>0</th>\n",
              "      <td>2021-03-05</td>\n",
              "      <td>Вася</td>\n",
              "      <td>8</td>\n",
              "      <td>4</td>\n",
              "    </tr>\n",
              "    <tr>\n",
              "      <th>1</th>\n",
              "      <td>2021-03-05</td>\n",
              "      <td>Петя</td>\n",
              "      <td>8</td>\n",
              "      <td>4</td>\n",
              "    </tr>\n",
              "    <tr>\n",
              "      <th>2</th>\n",
              "      <td>2021-03-05</td>\n",
              "      <td>Маша</td>\n",
              "      <td>8</td>\n",
              "      <td>4</td>\n",
              "    </tr>\n",
              "    <tr>\n",
              "      <th>3</th>\n",
              "      <td>2021-04-05</td>\n",
              "      <td>Маша</td>\n",
              "      <td>8</td>\n",
              "      <td>0</td>\n",
              "    </tr>\n",
              "    <tr>\n",
              "      <th>4</th>\n",
              "      <td>2021-04-05</td>\n",
              "      <td>Вася</td>\n",
              "      <td>10</td>\n",
              "      <td>0</td>\n",
              "    </tr>\n",
              "    <tr>\n",
              "      <th>5</th>\n",
              "      <td>2021-04-05</td>\n",
              "      <td>Петя</td>\n",
              "      <td>8</td>\n",
              "      <td>0</td>\n",
              "    </tr>\n",
              "    <tr>\n",
              "      <th>6</th>\n",
              "      <td>2021-05-05</td>\n",
              "      <td>Петя</td>\n",
              "      <td>8</td>\n",
              "      <td>2</td>\n",
              "    </tr>\n",
              "    <tr>\n",
              "      <th>7</th>\n",
              "      <td>2021-05-05</td>\n",
              "      <td>Вася</td>\n",
              "      <td>8</td>\n",
              "      <td>2</td>\n",
              "    </tr>\n",
              "    <tr>\n",
              "      <th>8</th>\n",
              "      <td>2021-05-13</td>\n",
              "      <td>Петя</td>\n",
              "      <td>8</td>\n",
              "      <td>3</td>\n",
              "    </tr>\n",
              "    <tr>\n",
              "      <th>9</th>\n",
              "      <td>2021-05-13</td>\n",
              "      <td>Вася</td>\n",
              "      <td>8</td>\n",
              "      <td>3</td>\n",
              "    </tr>\n",
              "    <tr>\n",
              "      <th>10</th>\n",
              "      <td>2021-05-14</td>\n",
              "      <td>Вася</td>\n",
              "      <td>8</td>\n",
              "      <td>4</td>\n",
              "    </tr>\n",
              "    <tr>\n",
              "      <th>11</th>\n",
              "      <td>2021-05-14</td>\n",
              "      <td>Маша</td>\n",
              "      <td>8</td>\n",
              "      <td>4</td>\n",
              "    </tr>\n",
              "    <tr>\n",
              "      <th>12</th>\n",
              "      <td>2021-05-14</td>\n",
              "      <td>Петя</td>\n",
              "      <td>8</td>\n",
              "      <td>4</td>\n",
              "    </tr>\n",
              "    <tr>\n",
              "      <th>13</th>\n",
              "      <td>2021-06-05</td>\n",
              "      <td>Маша</td>\n",
              "      <td>8</td>\n",
              "      <td>5</td>\n",
              "    </tr>\n",
              "    <tr>\n",
              "      <th>14</th>\n",
              "      <td>2021-06-05</td>\n",
              "      <td>Вася</td>\n",
              "      <td>8</td>\n",
              "      <td>5</td>\n",
              "    </tr>\n",
              "    <tr>\n",
              "      <th>15</th>\n",
              "      <td>2021-06-05</td>\n",
              "      <td>Петя</td>\n",
              "      <td>8</td>\n",
              "      <td>5</td>\n",
              "    </tr>\n",
              "    <tr>\n",
              "      <th>16</th>\n",
              "      <td>2021-07-05</td>\n",
              "      <td>Петя</td>\n",
              "      <td>8</td>\n",
              "      <td>0</td>\n",
              "    </tr>\n",
              "    <tr>\n",
              "      <th>17</th>\n",
              "      <td>2021-07-05</td>\n",
              "      <td>Маша</td>\n",
              "      <td>8</td>\n",
              "      <td>0</td>\n",
              "    </tr>\n",
              "    <tr>\n",
              "      <th>18</th>\n",
              "      <td>2021-07-05</td>\n",
              "      <td>Вася</td>\n",
              "      <td>8</td>\n",
              "      <td>0</td>\n",
              "    </tr>\n",
              "    <tr>\n",
              "      <th>19</th>\n",
              "      <td>2021-08-05</td>\n",
              "      <td>Петя</td>\n",
              "      <td>3</td>\n",
              "      <td>3</td>\n",
              "    </tr>\n",
              "    <tr>\n",
              "      <th>20</th>\n",
              "      <td>2021-10-05</td>\n",
              "      <td>Петя</td>\n",
              "      <td>8</td>\n",
              "      <td>1</td>\n",
              "    </tr>\n",
              "    <tr>\n",
              "      <th>21</th>\n",
              "      <td>2021-10-05</td>\n",
              "      <td>Вася</td>\n",
              "      <td>12</td>\n",
              "      <td>1</td>\n",
              "    </tr>\n",
              "    <tr>\n",
              "      <th>22</th>\n",
              "      <td>2021-10-05</td>\n",
              "      <td>Маша</td>\n",
              "      <td>8</td>\n",
              "      <td>1</td>\n",
              "    </tr>\n",
              "    <tr>\n",
              "      <th>23</th>\n",
              "      <td>2021-11-05</td>\n",
              "      <td>Петя</td>\n",
              "      <td>8</td>\n",
              "      <td>4</td>\n",
              "    </tr>\n",
              "    <tr>\n",
              "      <th>24</th>\n",
              "      <td>2021-11-05</td>\n",
              "      <td>Вася</td>\n",
              "      <td>8</td>\n",
              "      <td>4</td>\n",
              "    </tr>\n",
              "    <tr>\n",
              "      <th>25</th>\n",
              "      <td>2021-11-05</td>\n",
              "      <td>Маша</td>\n",
              "      <td>8</td>\n",
              "      <td>4</td>\n",
              "    </tr>\n",
              "    <tr>\n",
              "      <th>26</th>\n",
              "      <td>2021-12-05</td>\n",
              "      <td>Петя</td>\n",
              "      <td>6</td>\n",
              "      <td>6</td>\n",
              "    </tr>\n",
              "    <tr>\n",
              "      <th>27</th>\n",
              "      <td>2021-12-05</td>\n",
              "      <td>Вася</td>\n",
              "      <td>6</td>\n",
              "      <td>6</td>\n",
              "    </tr>\n",
              "    <tr>\n",
              "      <th>28</th>\n",
              "      <td>2021-12-05</td>\n",
              "      <td>Маша</td>\n",
              "      <td>8</td>\n",
              "      <td>6</td>\n",
              "    </tr>\n",
              "  </tbody>\n",
              "</table>\n",
              "</div>"
            ],
            "text/plain": [
              "         Date Worker  Hours  Day of week\n",
              "0  2021-03-05   Вася      8            4\n",
              "1  2021-03-05   Петя      8            4\n",
              "2  2021-03-05   Маша      8            4\n",
              "3  2021-04-05   Маша      8            0\n",
              "4  2021-04-05   Вася     10            0\n",
              "5  2021-04-05   Петя      8            0\n",
              "6  2021-05-05   Петя      8            2\n",
              "7  2021-05-05   Вася      8            2\n",
              "8  2021-05-13   Петя      8            3\n",
              "9  2021-05-13   Вася      8            3\n",
              "10 2021-05-14   Вася      8            4\n",
              "11 2021-05-14   Маша      8            4\n",
              "12 2021-05-14   Петя      8            4\n",
              "13 2021-06-05   Маша      8            5\n",
              "14 2021-06-05   Вася      8            5\n",
              "15 2021-06-05   Петя      8            5\n",
              "16 2021-07-05   Петя      8            0\n",
              "17 2021-07-05   Маша      8            0\n",
              "18 2021-07-05   Вася      8            0\n",
              "19 2021-08-05   Петя      3            3\n",
              "20 2021-10-05   Петя      8            1\n",
              "21 2021-10-05   Вася     12            1\n",
              "22 2021-10-05   Маша      8            1\n",
              "23 2021-11-05   Петя      8            4\n",
              "24 2021-11-05   Вася      8            4\n",
              "25 2021-11-05   Маша      8            4\n",
              "26 2021-12-05   Петя      6            6\n",
              "27 2021-12-05   Вася      6            6\n",
              "28 2021-12-05   Маша      8            6"
            ]
          },
          "metadata": {
            "tags": []
          },
          "execution_count": 27
        }
      ]
    },
    {
      "cell_type": "code",
      "metadata": {
        "colab": {
          "base_uri": "https://localhost:8080/",
          "height": 142
        },
        "id": "Q0Qh0Ez4mwDj",
        "outputId": "8c6040a3-4f0a-4746-e1e0-3a35581ee1e0"
      },
      "source": [
        "average_worker_time_list = []\n",
        "for worker in hourcost_by_man['Worker']:\n",
        "  average_worker_time = dates[dates['Worker'] == worker]['Hours'].sum()/len(dates[dates['Worker'] == worker]['Hours'])\n",
        "  average_worker_time_list.append(average_worker_time)\n",
        "hourcost_by_man['Mean worktime'] = average_worker_time_list\n",
        "\n",
        "del average_worker_time_list\n",
        "gc.collect()\n",
        "\n",
        "hourcost_by_man"
      ],
      "execution_count": null,
      "outputs": [
        {
          "output_type": "execute_result",
          "data": {
            "text/html": [
              "<div>\n",
              "<style scoped>\n",
              "    .dataframe tbody tr th:only-of-type {\n",
              "        vertical-align: middle;\n",
              "    }\n",
              "\n",
              "    .dataframe tbody tr th {\n",
              "        vertical-align: top;\n",
              "    }\n",
              "\n",
              "    .dataframe thead th {\n",
              "        text-align: right;\n",
              "    }\n",
              "</style>\n",
              "<table border=\"1\" class=\"dataframe\">\n",
              "  <thead>\n",
              "    <tr style=\"text-align: right;\">\n",
              "      <th></th>\n",
              "      <th>Worker</th>\n",
              "      <th>Hours</th>\n",
              "      <th>Mean time</th>\n",
              "      <th>Rate</th>\n",
              "      <th>Salary</th>\n",
              "      <th>Mean worktime</th>\n",
              "    </tr>\n",
              "  </thead>\n",
              "  <tbody>\n",
              "    <tr>\n",
              "      <th>0</th>\n",
              "      <td>Вася</td>\n",
              "      <td>84.0</td>\n",
              "      <td>5.600000</td>\n",
              "      <td>50</td>\n",
              "      <td>4200.0</td>\n",
              "      <td>8.400000</td>\n",
              "    </tr>\n",
              "    <tr>\n",
              "      <th>1</th>\n",
              "      <td>Петя</td>\n",
              "      <td>81.0</td>\n",
              "      <td>4.263158</td>\n",
              "      <td>35</td>\n",
              "      <td>2835.0</td>\n",
              "      <td>7.363636</td>\n",
              "    </tr>\n",
              "    <tr>\n",
              "      <th>2</th>\n",
              "      <td>Маша</td>\n",
              "      <td>64.0</td>\n",
              "      <td>5.818182</td>\n",
              "      <td>75</td>\n",
              "      <td>4800.0</td>\n",
              "      <td>8.000000</td>\n",
              "    </tr>\n",
              "  </tbody>\n",
              "</table>\n",
              "</div>"
            ],
            "text/plain": [
              "  Worker  Hours  Mean time  Rate  Salary  Mean worktime\n",
              "0   Вася   84.0   5.600000    50  4200.0       8.400000\n",
              "1   Петя   81.0   4.263158    35  2835.0       7.363636\n",
              "2   Маша   64.0   5.818182    75  4800.0       8.000000"
            ]
          },
          "metadata": {
            "tags": []
          },
          "execution_count": 28
        }
      ]
    },
    {
      "cell_type": "code",
      "metadata": {
        "colab": {
          "base_uri": "https://localhost:8080/"
        },
        "id": "QWWaQf85tLly",
        "outputId": "d27c8663-f989-4327-c73a-993cdb924a01"
      },
      "source": [
        "mean_worktime = hourcost_by_man['Mean worktime'].mean()\n",
        "mean_worktime"
      ],
      "execution_count": null,
      "outputs": [
        {
          "output_type": "execute_result",
          "data": {
            "text/plain": [
              "7.921212121212122"
            ]
          },
          "metadata": {
            "tags": []
          },
          "execution_count": 29
        }
      ]
    },
    {
      "cell_type": "code",
      "metadata": {
        "colab": {
          "base_uri": "https://localhost:8080/",
          "height": 584
        },
        "id": "cD48FnK6sfU7",
        "outputId": "1bee276f-422b-4cbd-820d-2625de2cea90"
      },
      "source": [
        "a4_dims = (14, 9)\n",
        "fig, ax = pyplot.subplots(figsize=a4_dims)\n",
        "\n",
        "g = sns.barplot(x=\"Worker\", y='Mean worktime', data=hourcost_by_man).set(title = 'Потраченное среднее время за день каждого исполнителя',ylabel='Потраченное среднее время', xlabel='Исполнитель')\n",
        "plt.plot([-1, 3], [mean_worktime, mean_worktime], linewidth=1)"
      ],
      "execution_count": null,
      "outputs": [
        {
          "output_type": "execute_result",
          "data": {
            "text/plain": [
              "[<matplotlib.lines.Line2D at 0x7fbc88539210>]"
            ]
          },
          "metadata": {
            "tags": []
          },
          "execution_count": 30
        },
        {
          "output_type": "display_data",
          "data": {
            "image/png": "[encoded data removed]",
            "text/plain": [
              "<Figure size 1008x648 with 1 Axes>"
            ]
          },
          "metadata": {
            "tags": [],
            "needs_background": "light"
          }
        }
      ]
    },
    {
      "cell_type": "code",
      "metadata": {
        "colab": {
          "base_uri": "https://localhost:8080/",
          "height": 567
        },
        "id": "AU2XOu-24dZa",
        "outputId": "3b03ab8e-b6d9-480a-df5d-d97edf69ba80"
      },
      "source": [
        "a4_dims = (14, 9)\n",
        "fig, ax = pyplot.subplots(figsize=a4_dims)\n",
        "\n",
        "g = sns.barplot(x=\"Day of week\", y='Hours', hue='Worker', data=dates).set(title = 'Среднее потраченное время в течении недели каждым из исполнителей', xlabel='День недели', ylabel='Часы')"
      ],
      "execution_count": null,
      "outputs": [
        {
          "output_type": "display_data",
          "data": {
            "image/png": "[encoded data removed]",
            "text/plain": [
              "<Figure size 1008x648 with 1 Axes>"
            ]
          },
          "metadata": {
            "tags": [],
            "needs_background": "light"
          }
        }
      ]
    },
    {
      "cell_type": "code",
      "metadata": {
        "colab": {
          "base_uri": "https://localhost:8080/"
        },
        "id": "Ik4YvX3i1M35",
        "outputId": "3ba84692-1535-4519-9588-927dcd59a0dc"
      },
      "source": [
        "mean_overall_hour = hourcost_by_man['Hours'].mean()\n",
        "mean_overall_hour"
      ],
      "execution_count": null,
      "outputs": [
        {
          "output_type": "execute_result",
          "data": {
            "text/plain": [
              "76.33333333333333"
            ]
          },
          "metadata": {
            "tags": []
          },
          "execution_count": 32
        }
      ]
    },
    {
      "cell_type": "code",
      "metadata": {
        "colab": {
          "base_uri": "https://localhost:8080/",
          "height": 584
        },
        "id": "XxLwo4G1IDD4",
        "outputId": "ecd61eeb-a818-4938-91f1-3b5f5b85163a"
      },
      "source": [
        "a4_dims = (14, 9)\n",
        "fig, ax = pyplot.subplots(figsize=a4_dims)\n",
        "\n",
        "g = sns.barplot(x=\"Worker\", y='Hours', data=hourcost_by_man).set(title = 'Общее потраченное время исполнителя',ylabel='Потраченное время', xlabel='Исполнитель')\n",
        "plt.plot([-1, 3], [mean_overall_hour, mean_overall_hour], linewidth=1)"
      ],
      "execution_count": null,
      "outputs": [
        {
          "output_type": "execute_result",
          "data": {
            "text/plain": [
              "[<matplotlib.lines.Line2D at 0x7fbc88625790>]"
            ]
          },
          "metadata": {
            "tags": []
          },
          "execution_count": 33
        },
        {
          "output_type": "display_data",
          "data": {
            "image/png": "[encoded data removed]",
            "text/plain": [
              "<Figure size 1008x648 with 1 Axes>"
            ]
          },
          "metadata": {
            "tags": [],
            "needs_background": "light"
          }
        }
      ]
    },
    {
      "cell_type": "markdown",
      "metadata": {
        "id": "eb3wRQohRqkj"
      },
      "source": [
        "## Вычислить дни отсутствия для каждого сотрудника, с учетом того, что все исполнители обязаны были работать каждый будний день"
      ]
    },
    {
      "cell_type": "markdown",
      "metadata": {
        "id": "2MlF-KumY75H"
      },
      "source": [
        "Ушел раньше с работы"
      ]
    },
    {
      "cell_type": "code",
      "metadata": {
        "colab": {
          "base_uri": "https://localhost:8080/",
          "height": 80
        },
        "id": "d_IEHj2OuRwE",
        "outputId": "4215bbe2-721f-4395-f7af-daf14600197d"
      },
      "source": [
        "dates[(dates['Hours'] < 8) & (dates['Day of week'] < 5)]"
      ],
      "execution_count": null,
      "outputs": [
        {
          "output_type": "execute_result",
          "data": {
            "text/html": [
              "<div>\n",
              "<style scoped>\n",
              "    .dataframe tbody tr th:only-of-type {\n",
              "        vertical-align: middle;\n",
              "    }\n",
              "\n",
              "    .dataframe tbody tr th {\n",
              "        vertical-align: top;\n",
              "    }\n",
              "\n",
              "    .dataframe thead th {\n",
              "        text-align: right;\n",
              "    }\n",
              "</style>\n",
              "<table border=\"1\" class=\"dataframe\">\n",
              "  <thead>\n",
              "    <tr style=\"text-align: right;\">\n",
              "      <th></th>\n",
              "      <th>Date</th>\n",
              "      <th>Worker</th>\n",
              "      <th>Hours</th>\n",
              "      <th>Day of week</th>\n",
              "    </tr>\n",
              "  </thead>\n",
              "  <tbody>\n",
              "    <tr>\n",
              "      <th>19</th>\n",
              "      <td>2021-08-05</td>\n",
              "      <td>Петя</td>\n",
              "      <td>3</td>\n",
              "      <td>3</td>\n",
              "    </tr>\n",
              "  </tbody>\n",
              "</table>\n",
              "</div>"
            ],
            "text/plain": [
              "         Date Worker  Hours  Day of week\n",
              "19 2021-08-05   Петя      3            3"
            ]
          },
          "metadata": {
            "tags": []
          },
          "execution_count": 34
        }
      ]
    },
    {
      "cell_type": "markdown",
      "metadata": {
        "id": "UMGOR6LkY-E9"
      },
      "source": [
        "Прогулы"
      ]
    },
    {
      "cell_type": "code",
      "metadata": {
        "colab": {
          "base_uri": "https://localhost:8080/"
        },
        "id": "ujcjl-z-cHYm",
        "outputId": "59d0449c-a2c1-440e-d418-a3afd70e9fdb"
      },
      "source": [
        "days = dates['Date'].drop_duplicates()\n",
        "for employee in dates['Worker'].unique():\n",
        "  print(f\"Дни отсутствия исполнителя {employee}:\")\n",
        "  workdays = days.isin(dates[dates['Worker']==employee]['Date'])\n",
        "  if len(workdays)==len(workdays[workdays==True]):\n",
        "      print(\"Не имеются\")\n",
        "  else:\n",
        "    for i in workdays[workdays==False].index:\n",
        "        print(dates[dates['Day of week']<5]['Date'].loc[i])"
      ],
      "execution_count": null,
      "outputs": [
        {
          "output_type": "stream",
          "text": [
            "Дни отсутствия исполнителя Вася:\n",
            "2021-08-05 00:00:00\n",
            "Дни отсутствия исполнителя Петя:\n",
            "Не имеются\n",
            "Дни отсутствия исполнителя Маша:\n",
            "2021-05-05 00:00:00\n",
            "2021-05-13 00:00:00\n",
            "2021-08-05 00:00:00\n"
          ],
          "name": "stdout"
        }
      ]
    },
    {
      "cell_type": "markdown",
      "metadata": {
        "id": "UW3VxMa0Ry0l"
      },
      "source": [
        "## Рассчитать средний «вылет» специалиста из оценки в процентах"
      ]
    },
    {
      "cell_type": "markdown",
      "metadata": {
        "id": "_LQBmWrswAf-"
      },
      "source": [
        "Как я понял задачу \"Вылет\": найти отношение разности времени от оценки к оценке"
      ]
    },
    {
      "cell_type": "code",
      "metadata": {
        "colab": {
          "base_uri": "https://localhost:8080/",
          "height": 1000
        },
        "id": "nyA9REDX-eRG",
        "outputId": "10aff62d-fbcb-4d9a-8dc1-c2ca6b8bb3bd"
      },
      "source": [
        "grade = data_a.drop(['Date', 'Cost'],axis=1)\n",
        "hours_list = []\n",
        "for worker, task in zip(grade['Worker'], grade['Task']):\n",
        "  hours = grade[(grade['Worker'] == worker) & (grade['Task'] == task)]['Hours']\n",
        "  hours_list.append(hours.sum())\n",
        "grade['Hours'] = hours_list\n",
        "\n",
        "del hours_list\n",
        "gc.collect()\n",
        "\n",
        "grade = grade.drop_duplicates()\n",
        "grade = grade.reset_index(drop=True)\n",
        "grade = grade.merge(data_b, how = 'left', on=['Task','Task'])\n",
        "grade['Mean late'] = (grade['Hours'] - grade['Grade'])/grade['Grade'] *100 #Средний \"вылет\"\n",
        "grade"
      ],
      "execution_count": null,
      "outputs": [
        {
          "output_type": "execute_result",
          "data": {
            "text/html": [
              "<div>\n",
              "<style scoped>\n",
              "    .dataframe tbody tr th:only-of-type {\n",
              "        vertical-align: middle;\n",
              "    }\n",
              "\n",
              "    .dataframe tbody tr th {\n",
              "        vertical-align: top;\n",
              "    }\n",
              "\n",
              "    .dataframe thead th {\n",
              "        text-align: right;\n",
              "    }\n",
              "</style>\n",
              "<table border=\"1\" class=\"dataframe\">\n",
              "  <thead>\n",
              "    <tr style=\"text-align: right;\">\n",
              "      <th></th>\n",
              "      <th>Worker</th>\n",
              "      <th>Task</th>\n",
              "      <th>Hours</th>\n",
              "      <th>Grade</th>\n",
              "      <th>Mean late</th>\n",
              "    </tr>\n",
              "  </thead>\n",
              "  <tbody>\n",
              "    <tr>\n",
              "      <th>0</th>\n",
              "      <td>Вася</td>\n",
              "      <td>LOC-1</td>\n",
              "      <td>8</td>\n",
              "      <td>6</td>\n",
              "      <td>33.333333</td>\n",
              "    </tr>\n",
              "    <tr>\n",
              "      <th>1</th>\n",
              "      <td>Петя</td>\n",
              "      <td>LOC-2</td>\n",
              "      <td>8</td>\n",
              "      <td>4</td>\n",
              "      <td>100.000000</td>\n",
              "    </tr>\n",
              "    <tr>\n",
              "      <th>2</th>\n",
              "      <td>Маша</td>\n",
              "      <td>LOC-3</td>\n",
              "      <td>2</td>\n",
              "      <td>2</td>\n",
              "      <td>0.000000</td>\n",
              "    </tr>\n",
              "    <tr>\n",
              "      <th>3</th>\n",
              "      <td>Маша</td>\n",
              "      <td>LOC-4</td>\n",
              "      <td>4</td>\n",
              "      <td>4</td>\n",
              "      <td>0.000000</td>\n",
              "    </tr>\n",
              "    <tr>\n",
              "      <th>4</th>\n",
              "      <td>Маша</td>\n",
              "      <td>LOC-5</td>\n",
              "      <td>4</td>\n",
              "      <td>4</td>\n",
              "      <td>0.000000</td>\n",
              "    </tr>\n",
              "    <tr>\n",
              "      <th>5</th>\n",
              "      <td>Маша</td>\n",
              "      <td>LOC-7</td>\n",
              "      <td>6</td>\n",
              "      <td>6</td>\n",
              "      <td>0.000000</td>\n",
              "    </tr>\n",
              "    <tr>\n",
              "      <th>6</th>\n",
              "      <td>Вася</td>\n",
              "      <td>LOC-8</td>\n",
              "      <td>4</td>\n",
              "      <td>4</td>\n",
              "      <td>0.000000</td>\n",
              "    </tr>\n",
              "    <tr>\n",
              "      <th>7</th>\n",
              "      <td>Петя</td>\n",
              "      <td>LOC-9</td>\n",
              "      <td>2</td>\n",
              "      <td>2</td>\n",
              "      <td>0.000000</td>\n",
              "    </tr>\n",
              "    <tr>\n",
              "      <th>8</th>\n",
              "      <td>Вася</td>\n",
              "      <td>LOC-10</td>\n",
              "      <td>4</td>\n",
              "      <td>3</td>\n",
              "      <td>33.333333</td>\n",
              "    </tr>\n",
              "    <tr>\n",
              "      <th>9</th>\n",
              "      <td>Петя</td>\n",
              "      <td>LOC-11</td>\n",
              "      <td>6</td>\n",
              "      <td>6</td>\n",
              "      <td>0.000000</td>\n",
              "    </tr>\n",
              "    <tr>\n",
              "      <th>10</th>\n",
              "      <td>Вася</td>\n",
              "      <td>LOC-12</td>\n",
              "      <td>2</td>\n",
              "      <td>2</td>\n",
              "      <td>0.000000</td>\n",
              "    </tr>\n",
              "    <tr>\n",
              "      <th>11</th>\n",
              "      <td>Петя</td>\n",
              "      <td>LOC-13</td>\n",
              "      <td>6</td>\n",
              "      <td>6</td>\n",
              "      <td>0.000000</td>\n",
              "    </tr>\n",
              "    <tr>\n",
              "      <th>12</th>\n",
              "      <td>Вася</td>\n",
              "      <td>LOC-14</td>\n",
              "      <td>8</td>\n",
              "      <td>8</td>\n",
              "      <td>0.000000</td>\n",
              "    </tr>\n",
              "    <tr>\n",
              "      <th>13</th>\n",
              "      <td>Петя</td>\n",
              "      <td>LOC-17</td>\n",
              "      <td>4</td>\n",
              "      <td>4</td>\n",
              "      <td>0.000000</td>\n",
              "    </tr>\n",
              "    <tr>\n",
              "      <th>14</th>\n",
              "      <td>Маша</td>\n",
              "      <td>LOC-6</td>\n",
              "      <td>16</td>\n",
              "      <td>12</td>\n",
              "      <td>33.333333</td>\n",
              "    </tr>\n",
              "    <tr>\n",
              "      <th>15</th>\n",
              "      <td>Вася</td>\n",
              "      <td>LOC-16</td>\n",
              "      <td>16</td>\n",
              "      <td>12</td>\n",
              "      <td>33.333333</td>\n",
              "    </tr>\n",
              "    <tr>\n",
              "      <th>16</th>\n",
              "      <td>Петя</td>\n",
              "      <td>LOC-15</td>\n",
              "      <td>16</td>\n",
              "      <td>12</td>\n",
              "      <td>33.333333</td>\n",
              "    </tr>\n",
              "    <tr>\n",
              "      <th>17</th>\n",
              "      <td>Вася</td>\n",
              "      <td>LOC-18</td>\n",
              "      <td>10</td>\n",
              "      <td>12</td>\n",
              "      <td>-16.666667</td>\n",
              "    </tr>\n",
              "    <tr>\n",
              "      <th>18</th>\n",
              "      <td>Петя</td>\n",
              "      <td>LOC-19</td>\n",
              "      <td>5</td>\n",
              "      <td>2</td>\n",
              "      <td>150.000000</td>\n",
              "    </tr>\n",
              "    <tr>\n",
              "      <th>19</th>\n",
              "      <td>Маша</td>\n",
              "      <td>LOC-20</td>\n",
              "      <td>8</td>\n",
              "      <td>4</td>\n",
              "      <td>100.000000</td>\n",
              "    </tr>\n",
              "    <tr>\n",
              "      <th>20</th>\n",
              "      <td>Вася</td>\n",
              "      <td>LOC-21</td>\n",
              "      <td>2</td>\n",
              "      <td>2</td>\n",
              "      <td>0.000000</td>\n",
              "    </tr>\n",
              "    <tr>\n",
              "      <th>21</th>\n",
              "      <td>Петя</td>\n",
              "      <td>LOC-22</td>\n",
              "      <td>4</td>\n",
              "      <td>4</td>\n",
              "      <td>0.000000</td>\n",
              "    </tr>\n",
              "    <tr>\n",
              "      <th>22</th>\n",
              "      <td>Маша</td>\n",
              "      <td>LOC-23</td>\n",
              "      <td>8</td>\n",
              "      <td>4</td>\n",
              "      <td>100.000000</td>\n",
              "    </tr>\n",
              "    <tr>\n",
              "      <th>23</th>\n",
              "      <td>Вася</td>\n",
              "      <td>LOC-24</td>\n",
              "      <td>8</td>\n",
              "      <td>4</td>\n",
              "      <td>100.000000</td>\n",
              "    </tr>\n",
              "    <tr>\n",
              "      <th>24</th>\n",
              "      <td>Петя</td>\n",
              "      <td>LOC-25</td>\n",
              "      <td>8</td>\n",
              "      <td>6</td>\n",
              "      <td>33.333333</td>\n",
              "    </tr>\n",
              "    <tr>\n",
              "      <th>25</th>\n",
              "      <td>Маша</td>\n",
              "      <td>LOC-26</td>\n",
              "      <td>8</td>\n",
              "      <td>2</td>\n",
              "      <td>300.000000</td>\n",
              "    </tr>\n",
              "    <tr>\n",
              "      <th>26</th>\n",
              "      <td>Вася</td>\n",
              "      <td>LOC-27</td>\n",
              "      <td>4</td>\n",
              "      <td>2</td>\n",
              "      <td>100.000000</td>\n",
              "    </tr>\n",
              "    <tr>\n",
              "      <th>27</th>\n",
              "      <td>Петя</td>\n",
              "      <td>LOC-28</td>\n",
              "      <td>4</td>\n",
              "      <td>2</td>\n",
              "      <td>100.000000</td>\n",
              "    </tr>\n",
              "    <tr>\n",
              "      <th>28</th>\n",
              "      <td>Вася</td>\n",
              "      <td>LOC-29</td>\n",
              "      <td>2</td>\n",
              "      <td>2</td>\n",
              "      <td>0.000000</td>\n",
              "    </tr>\n",
              "    <tr>\n",
              "      <th>29</th>\n",
              "      <td>Петя</td>\n",
              "      <td>LOC-30</td>\n",
              "      <td>2</td>\n",
              "      <td>2</td>\n",
              "      <td>0.000000</td>\n",
              "    </tr>\n",
              "    <tr>\n",
              "      <th>30</th>\n",
              "      <td>Вася</td>\n",
              "      <td>LOC-31</td>\n",
              "      <td>2</td>\n",
              "      <td>2</td>\n",
              "      <td>0.000000</td>\n",
              "    </tr>\n",
              "    <tr>\n",
              "      <th>31</th>\n",
              "      <td>Петя</td>\n",
              "      <td>LOC-32</td>\n",
              "      <td>4</td>\n",
              "      <td>4</td>\n",
              "      <td>0.000000</td>\n",
              "    </tr>\n",
              "    <tr>\n",
              "      <th>32</th>\n",
              "      <td>Вася</td>\n",
              "      <td>LOC-33</td>\n",
              "      <td>6</td>\n",
              "      <td>4</td>\n",
              "      <td>50.000000</td>\n",
              "    </tr>\n",
              "    <tr>\n",
              "      <th>33</th>\n",
              "      <td>Петя</td>\n",
              "      <td>LOC-34</td>\n",
              "      <td>4</td>\n",
              "      <td>4</td>\n",
              "      <td>0.000000</td>\n",
              "    </tr>\n",
              "    <tr>\n",
              "      <th>34</th>\n",
              "      <td>Маша</td>\n",
              "      <td>LOC-35</td>\n",
              "      <td>8</td>\n",
              "      <td>6</td>\n",
              "      <td>33.333333</td>\n",
              "    </tr>\n",
              "    <tr>\n",
              "      <th>35</th>\n",
              "      <td>Вася</td>\n",
              "      <td>LOC-36</td>\n",
              "      <td>8</td>\n",
              "      <td>6</td>\n",
              "      <td>33.333333</td>\n",
              "    </tr>\n",
              "    <tr>\n",
              "      <th>36</th>\n",
              "      <td>Петя</td>\n",
              "      <td>LOC-37</td>\n",
              "      <td>8</td>\n",
              "      <td>6</td>\n",
              "      <td>33.333333</td>\n",
              "    </tr>\n",
              "  </tbody>\n",
              "</table>\n",
              "</div>"
            ],
            "text/plain": [
              "   Worker    Task  Hours  Grade   Mean late\n",
              "0    Вася   LOC-1      8      6   33.333333\n",
              "1    Петя   LOC-2      8      4  100.000000\n",
              "2    Маша   LOC-3      2      2    0.000000\n",
              "3    Маша   LOC-4      4      4    0.000000\n",
              "4    Маша   LOC-5      4      4    0.000000\n",
              "5    Маша   LOC-7      6      6    0.000000\n",
              "6    Вася   LOC-8      4      4    0.000000\n",
              "7    Петя   LOC-9      2      2    0.000000\n",
              "8    Вася  LOC-10      4      3   33.333333\n",
              "9    Петя  LOC-11      6      6    0.000000\n",
              "10   Вася  LOC-12      2      2    0.000000\n",
              "11   Петя  LOC-13      6      6    0.000000\n",
              "12   Вася  LOC-14      8      8    0.000000\n",
              "13   Петя  LOC-17      4      4    0.000000\n",
              "14   Маша   LOC-6     16     12   33.333333\n",
              "15   Вася  LOC-16     16     12   33.333333\n",
              "16   Петя  LOC-15     16     12   33.333333\n",
              "17   Вася  LOC-18     10     12  -16.666667\n",
              "18   Петя  LOC-19      5      2  150.000000\n",
              "19   Маша  LOC-20      8      4  100.000000\n",
              "20   Вася  LOC-21      2      2    0.000000\n",
              "21   Петя  LOC-22      4      4    0.000000\n",
              "22   Маша  LOC-23      8      4  100.000000\n",
              "23   Вася  LOC-24      8      4  100.000000\n",
              "24   Петя  LOC-25      8      6   33.333333\n",
              "25   Маша  LOC-26      8      2  300.000000\n",
              "26   Вася  LOC-27      4      2  100.000000\n",
              "27   Петя  LOC-28      4      2  100.000000\n",
              "28   Вася  LOC-29      2      2    0.000000\n",
              "29   Петя  LOC-30      2      2    0.000000\n",
              "30   Вася  LOC-31      2      2    0.000000\n",
              "31   Петя  LOC-32      4      4    0.000000\n",
              "32   Вася  LOC-33      6      4   50.000000\n",
              "33   Петя  LOC-34      4      4    0.000000\n",
              "34   Маша  LOC-35      8      6   33.333333\n",
              "35   Вася  LOC-36      8      6   33.333333\n",
              "36   Петя  LOC-37      8      6   33.333333"
            ]
          },
          "metadata": {
            "tags": []
          },
          "execution_count": 36
        }
      ]
    },
    {
      "cell_type": "code",
      "metadata": {
        "colab": {
          "base_uri": "https://localhost:8080/",
          "height": 142
        },
        "id": "Yhv-P_Ysx6So",
        "outputId": "77d381e7-c6cd-47b0-ac37-62e46cb4e885"
      },
      "source": [
        "mean_worker_grade_list = []\n",
        "for worker in hourcost_by_man['Worker']:\n",
        "  grades = grade[grade['Worker'] == worker]['Mean late']\n",
        "  mean_worker_grade_list.append(grades.sum()/len(grades))\n",
        "hourcost_by_man['Mean worker late'] = mean_worker_grade_list\n",
        "\n",
        "del mean_worker_grade_list\n",
        "gc.collect()\n",
        "\n",
        "hourcost_by_man"
      ],
      "execution_count": null,
      "outputs": [
        {
          "output_type": "execute_result",
          "data": {
            "text/html": [
              "<div>\n",
              "<style scoped>\n",
              "    .dataframe tbody tr th:only-of-type {\n",
              "        vertical-align: middle;\n",
              "    }\n",
              "\n",
              "    .dataframe tbody tr th {\n",
              "        vertical-align: top;\n",
              "    }\n",
              "\n",
              "    .dataframe thead th {\n",
              "        text-align: right;\n",
              "    }\n",
              "</style>\n",
              "<table border=\"1\" class=\"dataframe\">\n",
              "  <thead>\n",
              "    <tr style=\"text-align: right;\">\n",
              "      <th></th>\n",
              "      <th>Worker</th>\n",
              "      <th>Hours</th>\n",
              "      <th>Mean time</th>\n",
              "      <th>Rate</th>\n",
              "      <th>Salary</th>\n",
              "      <th>Mean worktime</th>\n",
              "      <th>Mean worker late</th>\n",
              "    </tr>\n",
              "  </thead>\n",
              "  <tbody>\n",
              "    <tr>\n",
              "      <th>0</th>\n",
              "      <td>Вася</td>\n",
              "      <td>84.0</td>\n",
              "      <td>5.600000</td>\n",
              "      <td>50</td>\n",
              "      <td>4200.0</td>\n",
              "      <td>8.400000</td>\n",
              "      <td>26.190476</td>\n",
              "    </tr>\n",
              "    <tr>\n",
              "      <th>1</th>\n",
              "      <td>Петя</td>\n",
              "      <td>81.0</td>\n",
              "      <td>4.263158</td>\n",
              "      <td>35</td>\n",
              "      <td>2835.0</td>\n",
              "      <td>7.363636</td>\n",
              "      <td>32.142857</td>\n",
              "    </tr>\n",
              "    <tr>\n",
              "      <th>2</th>\n",
              "      <td>Маша</td>\n",
              "      <td>64.0</td>\n",
              "      <td>5.818182</td>\n",
              "      <td>75</td>\n",
              "      <td>4800.0</td>\n",
              "      <td>8.000000</td>\n",
              "      <td>62.962963</td>\n",
              "    </tr>\n",
              "  </tbody>\n",
              "</table>\n",
              "</div>"
            ],
            "text/plain": [
              "  Worker  Hours  Mean time  Rate  Salary  Mean worktime  Mean worker late\n",
              "0   Вася   84.0   5.600000    50  4200.0       8.400000         26.190476\n",
              "1   Петя   81.0   4.263158    35  2835.0       7.363636         32.142857\n",
              "2   Маша   64.0   5.818182    75  4800.0       8.000000         62.962963"
            ]
          },
          "metadata": {
            "tags": []
          },
          "execution_count": 37
        }
      ]
    },
    {
      "cell_type": "code",
      "metadata": {
        "colab": {
          "base_uri": "https://localhost:8080/"
        },
        "id": "TsrzzrSPzalU",
        "outputId": "b7db26f4-aa7f-4006-d197-6de8acb3996f"
      },
      "source": [
        "mean_worker_late = hourcost_by_man['Mean worker late'].mean()\n",
        "mean_worker_late"
      ],
      "execution_count": null,
      "outputs": [
        {
          "output_type": "execute_result",
          "data": {
            "text/plain": [
              "40.432098765432094"
            ]
          },
          "metadata": {
            "tags": []
          },
          "execution_count": 38
        }
      ]
    },
    {
      "cell_type": "code",
      "metadata": {
        "colab": {
          "base_uri": "https://localhost:8080/",
          "height": 584
        },
        "id": "VFCX98FlzMMT",
        "outputId": "0e3cc38d-b132-4f38-c145-6c03e77dca1c"
      },
      "source": [
        "a4_dims = (14, 9)\n",
        "fig, ax = pyplot.subplots(figsize=a4_dims)\n",
        "\n",
        "g = sns.barplot(x=\"Worker\", y='Mean worker late', data=hourcost_by_man).set(title = 'Средний вылет каждого исполнителя', xlabel='Исполнитель', ylabel='Средний вылет сотрудника')\n",
        "plt.plot([-1, 3], [mean_worker_late, mean_worker_late], linewidth=1)"
      ],
      "execution_count": null,
      "outputs": [
        {
          "output_type": "execute_result",
          "data": {
            "text/plain": [
              "[<matplotlib.lines.Line2D at 0x7fbc88776450>]"
            ]
          },
          "metadata": {
            "tags": []
          },
          "execution_count": 39
        },
        {
          "output_type": "display_data",
          "data": {
            "image/png": "[encoded data removed]",
            "text/plain": [
              "<Figure size 1008x648 with 1 Axes>"
            ]
          },
          "metadata": {
            "tags": [],
            "needs_background": "light"
          }
        }
      ]
    },
    {
      "cell_type": "code",
      "metadata": {
        "colab": {
          "base_uri": "https://localhost:8080/",
          "height": 584
        },
        "id": "e_NoLx72ELGR",
        "outputId": "4487a758-5aca-4a92-e294-be818aeef256"
      },
      "source": [
        "a4_dims = (14, 9)\n",
        "fig, ax = pyplot.subplots(figsize=a4_dims)\n",
        "\n",
        "quality = grade.copy()\n",
        "quality['Task'] = quality['Task'].apply(getNum)\n",
        "g = sns.barplot(x=\"Task\", y='Mean late', hue='Worker', data=quality).set(title = 'Средний вылет работника на каждой задаче',xlabel='Номер проекта', ylabel='Процент вылета из оценки')\n",
        "\n",
        "del quality\n",
        "gc.collect()"
      ],
      "execution_count": null,
      "outputs": [
        {
          "output_type": "execute_result",
          "data": {
            "text/plain": [
              "40"
            ]
          },
          "metadata": {
            "tags": []
          },
          "execution_count": 40
        },
        {
          "output_type": "display_data",
          "data": {
            "image/png": "[encoded data removed]",
            "text/plain": [
              "<Figure size 1008x648 with 1 Axes>"
            ]
          },
          "metadata": {
            "tags": [],
            "needs_background": "light"
          }
        }
      ]
    },
    {
      "cell_type": "markdown",
      "metadata": {
        "id": "Srn9SaIkR6o-"
      },
      "source": [
        "## Дополнительно необходимо сформировать сводный график по проекту"
      ]
    },
    {
      "cell_type": "code",
      "metadata": {
        "id": "Otvh8c6fOD2A"
      },
      "source": [
        "projects = projects.merge(data_b, on=['Task', 'Task'], how='left')"
      ],
      "execution_count": null,
      "outputs": []
    },
    {
      "cell_type": "code",
      "metadata": {
        "colab": {
          "base_uri": "https://localhost:8080/",
          "height": 848
        },
        "id": "zvJdoUMtAbLo",
        "outputId": "8bb54164-0d0d-4ce5-817f-8a25c0e1f994"
      },
      "source": [
        "timecost = projects.copy()\n",
        "timecost['Task'] = timecost['Task']\n",
        "g = sns.lineplot(x=\"Task\", y='Hours', data=timecost, marker='o', color='b')\n",
        "g = sns.lineplot(x=\"Task\", y='Grade', data=timecost, marker='o', color='r')\n",
        "g.set(title = 'Потраченное время на задачи',xlabel='Задача', ylabel='Фактическое (синие) и оцененное (красное)')\n",
        "sns.set(rc={'figure.figsize':(30, 20)})\n",
        "g.figure.savefig('hourcost.png')"
      ],
      "execution_count": null,
      "outputs": [
        {
          "output_type": "display_data",
          "data": {
            "image/png": "[encoded data removed]",
            "text/plain": [
              "<Figure size 2160x1440 with 1 Axes>"
            ]
          },
          "metadata": {
            "tags": []
          }
        }
      ]
    },
    {
      "cell_type": "code",
      "metadata": {
        "colab": {
          "base_uri": "https://localhost:8080/"
        },
        "id": "r4WYDqOaHml4",
        "outputId": "398f75a1-7c1e-42da-c94a-17103f7b7c9e"
      },
      "source": [
        "print(\"Всего потрачено на проект\", data_a['Hours'].sum(), \"человеко-часов\")"
      ],
      "execution_count": null,
      "outputs": [
        {
          "output_type": "stream",
          "text": [
            "Всего потрачено на проект 229 человеко-часов\n"
          ],
          "name": "stdout"
        }
      ]
    }
  ]
}