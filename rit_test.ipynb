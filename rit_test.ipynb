{
  "nbformat": 4,
  "nbformat_minor": 0,
  "metadata": {
    "colab": {
      "name": "rit_test.ipynb",
      "provenance": [],
      "collapsed_sections": [],
      "mount_file_id": "1vZq6TgLCAkpAsqhK5_Z_CxfMyewH2VHn",
      "authorship_tag": "ABX9TyOlQnG56342vGroBdyKu+KH",
      "include_colab_link": true
    },
    "kernelspec": {
      "name": "python3",
      "display_name": "Python 3"
    },
    "language_info": {
      "name": "python"
    }
  },
  "cells": [
    {
      "cell_type": "markdown",
      "metadata": {
        "id": "view-in-github",
        "colab_type": "text"
      },
      "source": [
        "<a href=\"https://colab.research.google.com/github/danil99152/rit_test/blob/main/rit_test.ipynb\" target=\"_parent\"><img src=\"https://colab.research.google.com/assets/colab-badge.svg\" alt=\"Open In Colab\"/></a>"
      ]
    },
    {
      "cell_type": "markdown",
      "metadata": {
        "id": "seUPY5pIOX30"
      },
      "source": [
        "# DONE\n",
        "1. Общие трудозатраты на проект в часах;\n",
        "2. Среднее время, затраченное на решение задач в часах;\n",
        "3. Медианное время, затраченное на решение задач в часах;\n",
        "4. Среднее время, затраченное на решение задач каждым из исполнителей в часах;\n",
        "5. Рассчитать рентабельность проекта по формуле рентабельность = (прибыль*100)/доход.\n",
        "Расчёт прибыли производить, как прибыль = доход – расходы;\n",
        "6. Рассчитать среднее количество часов, отрабатываемое каждым сотрудником за день;\n",
        "7. Вычислить дни отсутствия для каждого сотрудника, с учетом того, что все исполнители\n",
        "обязаны были работать каждый будний день;\n",
        "8. Рассчитать средний «вылет» специалиста из оценки в процентах.\n",
        "9. Дополнительно необходимо сформировать сводный график по проекту с указанием\n",
        "оценки (в часах) и фактических трудозатрат (в часах) по каждой из задач проекта в виде\n",
        "отдельного файла png."
      ]
    },
    {
      "cell_type": "markdown",
      "metadata": {
        "id": "x7rTqzw4K-MT"
      },
      "source": [
        "# Расписание входов\n",
        "1. 21:18 04.08 - 0:41 05.08 - (перерыв примерно час)\n",
        "2. 17:10 05.08 - 18:47 05.08 (перерыв полчаса)\n",
        "3. 10:31 05.08 - 01.10 06.08 (перерыв час)\n",
        "4. 04:13 06.08 - 06:30 06.08 (перерыв полчаса)"
      ]
    },
    {
      "cell_type": "markdown",
      "metadata": {
        "id": "Gox3cL1JL4Rf"
      },
      "source": [
        "# Import"
      ]
    },
    {
      "cell_type": "code",
      "metadata": {
        "id": "2j7eFHjQLsMQ"
      },
      "source": [
        "import pandas as pd\n",
        "from matplotlib import pyplot\n",
        "import matplotlib.pyplot as plt\n",
        "import seaborn as sns\n",
        "import gc"
      ],
      "execution_count": 442,
      "outputs": []
    },
    {
      "cell_type": "markdown",
      "metadata": {
        "id": "qYriaGPlL7cV"
      },
      "source": [
        "# Обработка данных"
      ]
    },
    {
      "cell_type": "code",
      "metadata": {
        "colab": {
          "base_uri": "https://localhost:8080/",
          "height": 1000
        },
        "id": "_XlmHO58K5Wl",
        "outputId": "94baebd7-30b6-49ee-e9fc-9284c4d26be4"
      },
      "source": [
        "path_a = '/content/drive/MyDrive/Тестовое для РИТ/Приложение А'\n",
        "data_a = pd.read_table(path_a).rename(columns={\"Дата\": \"Date\", \"Исполнитель\": \"Worker\", \"Задача\": \"Task\", \"Часы\": \"Hours\"})\n",
        "data_a['Date'] = pd.to_datetime(data_a['Date'], infer_datetime_format=True, format = \"%Y-%m-%d\", errors='coerce')\n",
        "data_a"
      ],
      "execution_count": 443,
      "outputs": [
        {
          "output_type": "execute_result",
          "data": {
            "text/html": [
              "<div>\n",
              "<style scoped>\n",
              "    .dataframe tbody tr th:only-of-type {\n",
              "        vertical-align: middle;\n",
              "    }\n",
              "\n",
              "    .dataframe tbody tr th {\n",
              "        vertical-align: top;\n",
              "    }\n",
              "\n",
              "    .dataframe thead th {\n",
              "        text-align: right;\n",
              "    }\n",
              "</style>\n",
              "<table border=\"1\" class=\"dataframe\">\n",
              "  <thead>\n",
              "    <tr style=\"text-align: right;\">\n",
              "      <th></th>\n",
              "      <th>Date</th>\n",
              "      <th>Worker</th>\n",
              "      <th>Task</th>\n",
              "      <th>Hours</th>\n",
              "    </tr>\n",
              "  </thead>\n",
              "  <tbody>\n",
              "    <tr>\n",
              "      <th>0</th>\n",
              "      <td>2021-03-05</td>\n",
              "      <td>Вася</td>\n",
              "      <td>LOC-1</td>\n",
              "      <td>8</td>\n",
              "    </tr>\n",
              "    <tr>\n",
              "      <th>1</th>\n",
              "      <td>2021-03-05</td>\n",
              "      <td>Петя</td>\n",
              "      <td>LOC-2</td>\n",
              "      <td>8</td>\n",
              "    </tr>\n",
              "    <tr>\n",
              "      <th>2</th>\n",
              "      <td>2021-03-05</td>\n",
              "      <td>Маша</td>\n",
              "      <td>LOC-3</td>\n",
              "      <td>2</td>\n",
              "    </tr>\n",
              "    <tr>\n",
              "      <th>3</th>\n",
              "      <td>2021-03-05</td>\n",
              "      <td>Маша</td>\n",
              "      <td>LOC-4</td>\n",
              "      <td>4</td>\n",
              "    </tr>\n",
              "    <tr>\n",
              "      <th>4</th>\n",
              "      <td>2021-03-05</td>\n",
              "      <td>Маша</td>\n",
              "      <td>LOC-5</td>\n",
              "      <td>2</td>\n",
              "    </tr>\n",
              "    <tr>\n",
              "      <th>5</th>\n",
              "      <td>2021-04-05</td>\n",
              "      <td>Маша</td>\n",
              "      <td>LOC-5</td>\n",
              "      <td>2</td>\n",
              "    </tr>\n",
              "    <tr>\n",
              "      <th>6</th>\n",
              "      <td>2021-04-05</td>\n",
              "      <td>Маша</td>\n",
              "      <td>LOC-7</td>\n",
              "      <td>6</td>\n",
              "    </tr>\n",
              "    <tr>\n",
              "      <th>7</th>\n",
              "      <td>2021-04-05</td>\n",
              "      <td>Вася</td>\n",
              "      <td>LOC-8</td>\n",
              "      <td>4</td>\n",
              "    </tr>\n",
              "    <tr>\n",
              "      <th>8</th>\n",
              "      <td>2021-04-05</td>\n",
              "      <td>Петя</td>\n",
              "      <td>LOC-9</td>\n",
              "      <td>2</td>\n",
              "    </tr>\n",
              "    <tr>\n",
              "      <th>9</th>\n",
              "      <td>2021-04-05</td>\n",
              "      <td>Вася</td>\n",
              "      <td>LOC-10</td>\n",
              "      <td>4</td>\n",
              "    </tr>\n",
              "    <tr>\n",
              "      <th>10</th>\n",
              "      <td>2021-04-05</td>\n",
              "      <td>Петя</td>\n",
              "      <td>LOC-11</td>\n",
              "      <td>6</td>\n",
              "    </tr>\n",
              "    <tr>\n",
              "      <th>11</th>\n",
              "      <td>2021-04-05</td>\n",
              "      <td>Вася</td>\n",
              "      <td>LOC-12</td>\n",
              "      <td>2</td>\n",
              "    </tr>\n",
              "    <tr>\n",
              "      <th>12</th>\n",
              "      <td>2021-05-05</td>\n",
              "      <td>Петя</td>\n",
              "      <td>LOC-13</td>\n",
              "      <td>1</td>\n",
              "    </tr>\n",
              "    <tr>\n",
              "      <th>13</th>\n",
              "      <td>2021-05-05</td>\n",
              "      <td>Вася</td>\n",
              "      <td>LOC-14</td>\n",
              "      <td>8</td>\n",
              "    </tr>\n",
              "    <tr>\n",
              "      <th>14</th>\n",
              "      <td>2021-05-05</td>\n",
              "      <td>Петя</td>\n",
              "      <td>LOC-13</td>\n",
              "      <td>3</td>\n",
              "    </tr>\n",
              "    <tr>\n",
              "      <th>15</th>\n",
              "      <td>2021-05-05</td>\n",
              "      <td>Петя</td>\n",
              "      <td>LOC-13</td>\n",
              "      <td>2</td>\n",
              "    </tr>\n",
              "    <tr>\n",
              "      <th>16</th>\n",
              "      <td>2021-05-05</td>\n",
              "      <td>Петя</td>\n",
              "      <td>LOC-17</td>\n",
              "      <td>2</td>\n",
              "    </tr>\n",
              "    <tr>\n",
              "      <th>17</th>\n",
              "      <td>2021-06-05</td>\n",
              "      <td>Маша</td>\n",
              "      <td>LOC-6</td>\n",
              "      <td>8</td>\n",
              "    </tr>\n",
              "    <tr>\n",
              "      <th>18</th>\n",
              "      <td>2021-06-05</td>\n",
              "      <td>Вася</td>\n",
              "      <td>LOC-16</td>\n",
              "      <td>8</td>\n",
              "    </tr>\n",
              "    <tr>\n",
              "      <th>19</th>\n",
              "      <td>2021-06-05</td>\n",
              "      <td>Петя</td>\n",
              "      <td>LOC-15</td>\n",
              "      <td>8</td>\n",
              "    </tr>\n",
              "    <tr>\n",
              "      <th>20</th>\n",
              "      <td>2021-07-05</td>\n",
              "      <td>Маша</td>\n",
              "      <td>LOC-6</td>\n",
              "      <td>8</td>\n",
              "    </tr>\n",
              "    <tr>\n",
              "      <th>21</th>\n",
              "      <td>2021-07-05</td>\n",
              "      <td>Вася</td>\n",
              "      <td>LOC-16</td>\n",
              "      <td>8</td>\n",
              "    </tr>\n",
              "    <tr>\n",
              "      <th>22</th>\n",
              "      <td>2021-07-05</td>\n",
              "      <td>Петя</td>\n",
              "      <td>LOC-15</td>\n",
              "      <td>8</td>\n",
              "    </tr>\n",
              "    <tr>\n",
              "      <th>23</th>\n",
              "      <td>2021-10-05</td>\n",
              "      <td>Петя</td>\n",
              "      <td>LOC-17</td>\n",
              "      <td>2</td>\n",
              "    </tr>\n",
              "    <tr>\n",
              "      <th>24</th>\n",
              "      <td>2021-10-05</td>\n",
              "      <td>Вася</td>\n",
              "      <td>LOC-18</td>\n",
              "      <td>10</td>\n",
              "    </tr>\n",
              "    <tr>\n",
              "      <th>25</th>\n",
              "      <td>2021-10-05</td>\n",
              "      <td>Петя</td>\n",
              "      <td>LOC-19</td>\n",
              "      <td>2</td>\n",
              "    </tr>\n",
              "    <tr>\n",
              "      <th>26</th>\n",
              "      <td>2021-10-05</td>\n",
              "      <td>Маша</td>\n",
              "      <td>LOC-20</td>\n",
              "      <td>8</td>\n",
              "    </tr>\n",
              "    <tr>\n",
              "      <th>27</th>\n",
              "      <td>2021-10-05</td>\n",
              "      <td>Вася</td>\n",
              "      <td>LOC-21</td>\n",
              "      <td>2</td>\n",
              "    </tr>\n",
              "    <tr>\n",
              "      <th>28</th>\n",
              "      <td>2021-10-05</td>\n",
              "      <td>Петя</td>\n",
              "      <td>LOC-22</td>\n",
              "      <td>4</td>\n",
              "    </tr>\n",
              "    <tr>\n",
              "      <th>29</th>\n",
              "      <td>2021-11-05</td>\n",
              "      <td>Маша</td>\n",
              "      <td>LOC-23</td>\n",
              "      <td>8</td>\n",
              "    </tr>\n",
              "    <tr>\n",
              "      <th>30</th>\n",
              "      <td>2021-11-05</td>\n",
              "      <td>Вася</td>\n",
              "      <td>LOC-24</td>\n",
              "      <td>8</td>\n",
              "    </tr>\n",
              "    <tr>\n",
              "      <th>31</th>\n",
              "      <td>2021-11-05</td>\n",
              "      <td>Петя</td>\n",
              "      <td>LOC-25</td>\n",
              "      <td>8</td>\n",
              "    </tr>\n",
              "    <tr>\n",
              "      <th>32</th>\n",
              "      <td>2021-12-05</td>\n",
              "      <td>Маша</td>\n",
              "      <td>LOC-26</td>\n",
              "      <td>8</td>\n",
              "    </tr>\n",
              "    <tr>\n",
              "      <th>33</th>\n",
              "      <td>2021-12-05</td>\n",
              "      <td>Вася</td>\n",
              "      <td>LOC-27</td>\n",
              "      <td>4</td>\n",
              "    </tr>\n",
              "    <tr>\n",
              "      <th>34</th>\n",
              "      <td>2021-12-05</td>\n",
              "      <td>Петя</td>\n",
              "      <td>LOC-28</td>\n",
              "      <td>4</td>\n",
              "    </tr>\n",
              "    <tr>\n",
              "      <th>35</th>\n",
              "      <td>2021-12-05</td>\n",
              "      <td>Вася</td>\n",
              "      <td>LOC-29</td>\n",
              "      <td>2</td>\n",
              "    </tr>\n",
              "    <tr>\n",
              "      <th>36</th>\n",
              "      <td>2021-12-05</td>\n",
              "      <td>Петя</td>\n",
              "      <td>LOC-30</td>\n",
              "      <td>2</td>\n",
              "    </tr>\n",
              "    <tr>\n",
              "      <th>37</th>\n",
              "      <td>2021-05-13</td>\n",
              "      <td>Вася</td>\n",
              "      <td>LOC-31</td>\n",
              "      <td>2</td>\n",
              "    </tr>\n",
              "    <tr>\n",
              "      <th>38</th>\n",
              "      <td>2021-05-13</td>\n",
              "      <td>Петя</td>\n",
              "      <td>LOC-32</td>\n",
              "      <td>4</td>\n",
              "    </tr>\n",
              "    <tr>\n",
              "      <th>39</th>\n",
              "      <td>2021-05-13</td>\n",
              "      <td>Вася</td>\n",
              "      <td>LOC-33</td>\n",
              "      <td>6</td>\n",
              "    </tr>\n",
              "    <tr>\n",
              "      <th>40</th>\n",
              "      <td>2021-05-13</td>\n",
              "      <td>Петя</td>\n",
              "      <td>LOC-34</td>\n",
              "      <td>4</td>\n",
              "    </tr>\n",
              "    <tr>\n",
              "      <th>41</th>\n",
              "      <td>2021-05-14</td>\n",
              "      <td>Маша</td>\n",
              "      <td>LOC-35</td>\n",
              "      <td>8</td>\n",
              "    </tr>\n",
              "    <tr>\n",
              "      <th>42</th>\n",
              "      <td>2021-05-14</td>\n",
              "      <td>Вася</td>\n",
              "      <td>LOC-36</td>\n",
              "      <td>8</td>\n",
              "    </tr>\n",
              "    <tr>\n",
              "      <th>43</th>\n",
              "      <td>2021-05-14</td>\n",
              "      <td>Петя</td>\n",
              "      <td>LOC-37</td>\n",
              "      <td>8</td>\n",
              "    </tr>\n",
              "    <tr>\n",
              "      <th>44</th>\n",
              "      <td>2021-08-05</td>\n",
              "      <td>Петя</td>\n",
              "      <td>LOC-19</td>\n",
              "      <td>3</td>\n",
              "    </tr>\n",
              "  </tbody>\n",
              "</table>\n",
              "</div>"
            ],
            "text/plain": [
              "         Date Worker    Task  Hours\n",
              "0  2021-03-05   Вася   LOC-1      8\n",
              "1  2021-03-05   Петя   LOC-2      8\n",
              "2  2021-03-05   Маша   LOC-3      2\n",
              "3  2021-03-05   Маша   LOC-4      4\n",
              "4  2021-03-05   Маша   LOC-5      2\n",
              "5  2021-04-05   Маша   LOC-5      2\n",
              "6  2021-04-05   Маша   LOC-7      6\n",
              "7  2021-04-05   Вася   LOC-8      4\n",
              "8  2021-04-05   Петя   LOC-9      2\n",
              "9  2021-04-05   Вася  LOC-10      4\n",
              "10 2021-04-05   Петя  LOC-11      6\n",
              "11 2021-04-05   Вася  LOC-12      2\n",
              "12 2021-05-05   Петя  LOC-13      1\n",
              "13 2021-05-05   Вася  LOC-14      8\n",
              "14 2021-05-05   Петя  LOC-13      3\n",
              "15 2021-05-05   Петя  LOC-13      2\n",
              "16 2021-05-05   Петя  LOC-17      2\n",
              "17 2021-06-05   Маша   LOC-6      8\n",
              "18 2021-06-05   Вася  LOC-16      8\n",
              "19 2021-06-05   Петя  LOC-15      8\n",
              "20 2021-07-05   Маша   LOC-6      8\n",
              "21 2021-07-05   Вася  LOC-16      8\n",
              "22 2021-07-05   Петя  LOC-15      8\n",
              "23 2021-10-05   Петя  LOC-17      2\n",
              "24 2021-10-05   Вася  LOC-18     10\n",
              "25 2021-10-05   Петя  LOC-19      2\n",
              "26 2021-10-05   Маша  LOC-20      8\n",
              "27 2021-10-05   Вася  LOC-21      2\n",
              "28 2021-10-05   Петя  LOC-22      4\n",
              "29 2021-11-05   Маша  LOC-23      8\n",
              "30 2021-11-05   Вася  LOC-24      8\n",
              "31 2021-11-05   Петя  LOC-25      8\n",
              "32 2021-12-05   Маша  LOC-26      8\n",
              "33 2021-12-05   Вася  LOC-27      4\n",
              "34 2021-12-05   Петя  LOC-28      4\n",
              "35 2021-12-05   Вася  LOC-29      2\n",
              "36 2021-12-05   Петя  LOC-30      2\n",
              "37 2021-05-13   Вася  LOC-31      2\n",
              "38 2021-05-13   Петя  LOC-32      4\n",
              "39 2021-05-13   Вася  LOC-33      6\n",
              "40 2021-05-13   Петя  LOC-34      4\n",
              "41 2021-05-14   Маша  LOC-35      8\n",
              "42 2021-05-14   Вася  LOC-36      8\n",
              "43 2021-05-14   Петя  LOC-37      8\n",
              "44 2021-08-05   Петя  LOC-19      3"
            ]
          },
          "metadata": {
            "tags": []
          },
          "execution_count": 443
        }
      ]
    },
    {
      "cell_type": "code",
      "metadata": {
        "colab": {
          "base_uri": "https://localhost:8080/",
          "height": 1000
        },
        "id": "M_p35YKdO47t",
        "outputId": "c110dc36-afe2-4f1d-948d-a7a2973fc243"
      },
      "source": [
        "path_b = '/content/drive/MyDrive/Тестовое для РИТ/Приложение B'\n",
        "data_b = pd.read_table(path_b).rename(columns={\"Задача\": \"Task\", \"Оценка\": \"Grade\"})\n",
        "data_b"
      ],
      "execution_count": 444,
      "outputs": [
        {
          "output_type": "execute_result",
          "data": {
            "text/html": [
              "<div>\n",
              "<style scoped>\n",
              "    .dataframe tbody tr th:only-of-type {\n",
              "        vertical-align: middle;\n",
              "    }\n",
              "\n",
              "    .dataframe tbody tr th {\n",
              "        vertical-align: top;\n",
              "    }\n",
              "\n",
              "    .dataframe thead th {\n",
              "        text-align: right;\n",
              "    }\n",
              "</style>\n",
              "<table border=\"1\" class=\"dataframe\">\n",
              "  <thead>\n",
              "    <tr style=\"text-align: right;\">\n",
              "      <th></th>\n",
              "      <th>Task</th>\n",
              "      <th>Grade</th>\n",
              "    </tr>\n",
              "  </thead>\n",
              "  <tbody>\n",
              "    <tr>\n",
              "      <th>0</th>\n",
              "      <td>LOC-1</td>\n",
              "      <td>6</td>\n",
              "    </tr>\n",
              "    <tr>\n",
              "      <th>1</th>\n",
              "      <td>LOC-2</td>\n",
              "      <td>4</td>\n",
              "    </tr>\n",
              "    <tr>\n",
              "      <th>2</th>\n",
              "      <td>LOC-3</td>\n",
              "      <td>2</td>\n",
              "    </tr>\n",
              "    <tr>\n",
              "      <th>3</th>\n",
              "      <td>LOC-4</td>\n",
              "      <td>4</td>\n",
              "    </tr>\n",
              "    <tr>\n",
              "      <th>4</th>\n",
              "      <td>LOC-5</td>\n",
              "      <td>4</td>\n",
              "    </tr>\n",
              "    <tr>\n",
              "      <th>5</th>\n",
              "      <td>LOC-6</td>\n",
              "      <td>12</td>\n",
              "    </tr>\n",
              "    <tr>\n",
              "      <th>6</th>\n",
              "      <td>LOC-7</td>\n",
              "      <td>6</td>\n",
              "    </tr>\n",
              "    <tr>\n",
              "      <th>7</th>\n",
              "      <td>LOC-8</td>\n",
              "      <td>4</td>\n",
              "    </tr>\n",
              "    <tr>\n",
              "      <th>8</th>\n",
              "      <td>LOC-9</td>\n",
              "      <td>2</td>\n",
              "    </tr>\n",
              "    <tr>\n",
              "      <th>9</th>\n",
              "      <td>LOC-10</td>\n",
              "      <td>3</td>\n",
              "    </tr>\n",
              "    <tr>\n",
              "      <th>10</th>\n",
              "      <td>LOC-11</td>\n",
              "      <td>6</td>\n",
              "    </tr>\n",
              "    <tr>\n",
              "      <th>11</th>\n",
              "      <td>LOC-12</td>\n",
              "      <td>2</td>\n",
              "    </tr>\n",
              "    <tr>\n",
              "      <th>12</th>\n",
              "      <td>LOC-13</td>\n",
              "      <td>6</td>\n",
              "    </tr>\n",
              "    <tr>\n",
              "      <th>13</th>\n",
              "      <td>LOC-14</td>\n",
              "      <td>8</td>\n",
              "    </tr>\n",
              "    <tr>\n",
              "      <th>14</th>\n",
              "      <td>LOC-15</td>\n",
              "      <td>12</td>\n",
              "    </tr>\n",
              "    <tr>\n",
              "      <th>15</th>\n",
              "      <td>LOC-16</td>\n",
              "      <td>12</td>\n",
              "    </tr>\n",
              "    <tr>\n",
              "      <th>16</th>\n",
              "      <td>LOC-17</td>\n",
              "      <td>4</td>\n",
              "    </tr>\n",
              "    <tr>\n",
              "      <th>17</th>\n",
              "      <td>LOC-18</td>\n",
              "      <td>12</td>\n",
              "    </tr>\n",
              "    <tr>\n",
              "      <th>18</th>\n",
              "      <td>LOC-19</td>\n",
              "      <td>2</td>\n",
              "    </tr>\n",
              "    <tr>\n",
              "      <th>19</th>\n",
              "      <td>LOC-20</td>\n",
              "      <td>4</td>\n",
              "    </tr>\n",
              "    <tr>\n",
              "      <th>20</th>\n",
              "      <td>LOC-21</td>\n",
              "      <td>2</td>\n",
              "    </tr>\n",
              "    <tr>\n",
              "      <th>21</th>\n",
              "      <td>LOC-22</td>\n",
              "      <td>4</td>\n",
              "    </tr>\n",
              "    <tr>\n",
              "      <th>22</th>\n",
              "      <td>LOC-23</td>\n",
              "      <td>4</td>\n",
              "    </tr>\n",
              "    <tr>\n",
              "      <th>23</th>\n",
              "      <td>LOC-24</td>\n",
              "      <td>4</td>\n",
              "    </tr>\n",
              "    <tr>\n",
              "      <th>24</th>\n",
              "      <td>LOC-25</td>\n",
              "      <td>6</td>\n",
              "    </tr>\n",
              "    <tr>\n",
              "      <th>25</th>\n",
              "      <td>LOC-26</td>\n",
              "      <td>2</td>\n",
              "    </tr>\n",
              "    <tr>\n",
              "      <th>26</th>\n",
              "      <td>LOC-27</td>\n",
              "      <td>2</td>\n",
              "    </tr>\n",
              "    <tr>\n",
              "      <th>27</th>\n",
              "      <td>LOC-28</td>\n",
              "      <td>2</td>\n",
              "    </tr>\n",
              "    <tr>\n",
              "      <th>28</th>\n",
              "      <td>LOC-29</td>\n",
              "      <td>2</td>\n",
              "    </tr>\n",
              "    <tr>\n",
              "      <th>29</th>\n",
              "      <td>LOC-30</td>\n",
              "      <td>2</td>\n",
              "    </tr>\n",
              "    <tr>\n",
              "      <th>30</th>\n",
              "      <td>LOC-31</td>\n",
              "      <td>2</td>\n",
              "    </tr>\n",
              "    <tr>\n",
              "      <th>31</th>\n",
              "      <td>LOC-32</td>\n",
              "      <td>4</td>\n",
              "    </tr>\n",
              "    <tr>\n",
              "      <th>32</th>\n",
              "      <td>LOC-33</td>\n",
              "      <td>4</td>\n",
              "    </tr>\n",
              "    <tr>\n",
              "      <th>33</th>\n",
              "      <td>LOC-34</td>\n",
              "      <td>4</td>\n",
              "    </tr>\n",
              "    <tr>\n",
              "      <th>34</th>\n",
              "      <td>LOC-35</td>\n",
              "      <td>6</td>\n",
              "    </tr>\n",
              "    <tr>\n",
              "      <th>35</th>\n",
              "      <td>LOC-36</td>\n",
              "      <td>6</td>\n",
              "    </tr>\n",
              "    <tr>\n",
              "      <th>36</th>\n",
              "      <td>LOC-37</td>\n",
              "      <td>6</td>\n",
              "    </tr>\n",
              "  </tbody>\n",
              "</table>\n",
              "</div>"
            ],
            "text/plain": [
              "      Task  Grade\n",
              "0    LOC-1      6\n",
              "1    LOC-2      4\n",
              "2    LOC-3      2\n",
              "3    LOC-4      4\n",
              "4    LOC-5      4\n",
              "5    LOC-6     12\n",
              "6    LOC-7      6\n",
              "7    LOC-8      4\n",
              "8    LOC-9      2\n",
              "9   LOC-10      3\n",
              "10  LOC-11      6\n",
              "11  LOC-12      2\n",
              "12  LOC-13      6\n",
              "13  LOC-14      8\n",
              "14  LOC-15     12\n",
              "15  LOC-16     12\n",
              "16  LOC-17      4\n",
              "17  LOC-18     12\n",
              "18  LOC-19      2\n",
              "19  LOC-20      4\n",
              "20  LOC-21      2\n",
              "21  LOC-22      4\n",
              "22  LOC-23      4\n",
              "23  LOC-24      4\n",
              "24  LOC-25      6\n",
              "25  LOC-26      2\n",
              "26  LOC-27      2\n",
              "27  LOC-28      2\n",
              "28  LOC-29      2\n",
              "29  LOC-30      2\n",
              "30  LOC-31      2\n",
              "31  LOC-32      4\n",
              "32  LOC-33      4\n",
              "33  LOC-34      4\n",
              "34  LOC-35      6\n",
              "35  LOC-36      6\n",
              "36  LOC-37      6"
            ]
          },
          "metadata": {
            "tags": []
          },
          "execution_count": 444
        }
      ]
    },
    {
      "cell_type": "code",
      "metadata": {
        "colab": {
          "base_uri": "https://localhost:8080/",
          "height": 142
        },
        "id": "AAfwcUmVPMB6",
        "outputId": "d67410e7-589c-48c4-825f-8625fa07c04f"
      },
      "source": [
        "path_c = '/content/drive/MyDrive/Тестовое для РИТ/Приложение C'\n",
        "data_c = pd.read_table(path_c).rename(columns={\"Исполнитель\": \"Worker\", \"Ставка\": \"Rate\"})\n",
        "data_c"
      ],
      "execution_count": 445,
      "outputs": [
        {
          "output_type": "execute_result",
          "data": {
            "text/html": [
              "<div>\n",
              "<style scoped>\n",
              "    .dataframe tbody tr th:only-of-type {\n",
              "        vertical-align: middle;\n",
              "    }\n",
              "\n",
              "    .dataframe tbody tr th {\n",
              "        vertical-align: top;\n",
              "    }\n",
              "\n",
              "    .dataframe thead th {\n",
              "        text-align: right;\n",
              "    }\n",
              "</style>\n",
              "<table border=\"1\" class=\"dataframe\">\n",
              "  <thead>\n",
              "    <tr style=\"text-align: right;\">\n",
              "      <th></th>\n",
              "      <th>Worker</th>\n",
              "      <th>Rate</th>\n",
              "    </tr>\n",
              "  </thead>\n",
              "  <tbody>\n",
              "    <tr>\n",
              "      <th>0</th>\n",
              "      <td>Вася</td>\n",
              "      <td>50</td>\n",
              "    </tr>\n",
              "    <tr>\n",
              "      <th>1</th>\n",
              "      <td>Маша</td>\n",
              "      <td>75</td>\n",
              "    </tr>\n",
              "    <tr>\n",
              "      <th>2</th>\n",
              "      <td>Петя</td>\n",
              "      <td>35</td>\n",
              "    </tr>\n",
              "  </tbody>\n",
              "</table>\n",
              "</div>"
            ],
            "text/plain": [
              "  Worker  Rate\n",
              "0   Вася    50\n",
              "1   Маша    75\n",
              "2   Петя    35"
            ]
          },
          "metadata": {
            "tags": []
          },
          "execution_count": 445
        }
      ]
    },
    {
      "cell_type": "markdown",
      "metadata": {
        "id": "QcJ2KxKLPcjW"
      },
      "source": [
        "# Анализ"
      ]
    },
    {
      "cell_type": "markdown",
      "metadata": {
        "id": "7aJRxaJiQsIQ"
      },
      "source": [
        "## Общие трудозатраты на проект в часах"
      ]
    },
    {
      "cell_type": "code",
      "metadata": {
        "colab": {
          "base_uri": "https://localhost:8080/"
        },
        "id": "PLK6m4wjQGWL",
        "outputId": "8e042bd7-7bb8-4f35-f477-c1b781b915fb"
      },
      "source": [
        "data_a['Task'].unique()"
      ],
      "execution_count": 446,
      "outputs": [
        {
          "output_type": "execute_result",
          "data": {
            "text/plain": [
              "array(['LOC-1', 'LOC-2', 'LOC-3', 'LOC-4', 'LOC-5', 'LOC-7', 'LOC-8',\n",
              "       'LOC-9', 'LOC-10', 'LOC-11', 'LOC-12', 'LOC-13', 'LOC-14',\n",
              "       'LOC-17', 'LOC-6', 'LOC-16', 'LOC-15', 'LOC-18', 'LOC-19',\n",
              "       'LOC-20', 'LOC-21', 'LOC-22', 'LOC-23', 'LOC-24', 'LOC-25',\n",
              "       'LOC-26', 'LOC-27', 'LOC-28', 'LOC-29', 'LOC-30', 'LOC-31',\n",
              "       'LOC-32', 'LOC-33', 'LOC-34', 'LOC-35', 'LOC-36', 'LOC-37'],\n",
              "      dtype=object)"
            ]
          },
          "metadata": {
            "tags": []
          },
          "execution_count": 446
        }
      ]
    },
    {
      "cell_type": "code",
      "metadata": {
        "colab": {
          "base_uri": "https://localhost:8080/",
          "height": 1000
        },
        "id": "ol7fI-WZPb-p",
        "outputId": "c1d539f3-1b83-4221-b618-8fedc32dac15"
      },
      "source": [
        "hourcost = pd.DataFrame(data={'Task': [], 'Hours': []})\n",
        "for project in data_a['Task'].unique():\n",
        "  task = data_a[data_a['Task'] == project]['Task']\n",
        "  hours = data_a[data_a['Task'] == project]['Hours'].sum()\n",
        "  hourcost = hourcost.append({'Task': task.values[0], 'Hours': hours}, ignore_index=True)\n",
        "hourcost"
      ],
      "execution_count": 447,
      "outputs": [
        {
          "output_type": "execute_result",
          "data": {
            "text/html": [
              "<div>\n",
              "<style scoped>\n",
              "    .dataframe tbody tr th:only-of-type {\n",
              "        vertical-align: middle;\n",
              "    }\n",
              "\n",
              "    .dataframe tbody tr th {\n",
              "        vertical-align: top;\n",
              "    }\n",
              "\n",
              "    .dataframe thead th {\n",
              "        text-align: right;\n",
              "    }\n",
              "</style>\n",
              "<table border=\"1\" class=\"dataframe\">\n",
              "  <thead>\n",
              "    <tr style=\"text-align: right;\">\n",
              "      <th></th>\n",
              "      <th>Task</th>\n",
              "      <th>Hours</th>\n",
              "    </tr>\n",
              "  </thead>\n",
              "  <tbody>\n",
              "    <tr>\n",
              "      <th>0</th>\n",
              "      <td>LOC-1</td>\n",
              "      <td>8.0</td>\n",
              "    </tr>\n",
              "    <tr>\n",
              "      <th>1</th>\n",
              "      <td>LOC-2</td>\n",
              "      <td>8.0</td>\n",
              "    </tr>\n",
              "    <tr>\n",
              "      <th>2</th>\n",
              "      <td>LOC-3</td>\n",
              "      <td>2.0</td>\n",
              "    </tr>\n",
              "    <tr>\n",
              "      <th>3</th>\n",
              "      <td>LOC-4</td>\n",
              "      <td>4.0</td>\n",
              "    </tr>\n",
              "    <tr>\n",
              "      <th>4</th>\n",
              "      <td>LOC-5</td>\n",
              "      <td>4.0</td>\n",
              "    </tr>\n",
              "    <tr>\n",
              "      <th>5</th>\n",
              "      <td>LOC-7</td>\n",
              "      <td>6.0</td>\n",
              "    </tr>\n",
              "    <tr>\n",
              "      <th>6</th>\n",
              "      <td>LOC-8</td>\n",
              "      <td>4.0</td>\n",
              "    </tr>\n",
              "    <tr>\n",
              "      <th>7</th>\n",
              "      <td>LOC-9</td>\n",
              "      <td>2.0</td>\n",
              "    </tr>\n",
              "    <tr>\n",
              "      <th>8</th>\n",
              "      <td>LOC-10</td>\n",
              "      <td>4.0</td>\n",
              "    </tr>\n",
              "    <tr>\n",
              "      <th>9</th>\n",
              "      <td>LOC-11</td>\n",
              "      <td>6.0</td>\n",
              "    </tr>\n",
              "    <tr>\n",
              "      <th>10</th>\n",
              "      <td>LOC-12</td>\n",
              "      <td>2.0</td>\n",
              "    </tr>\n",
              "    <tr>\n",
              "      <th>11</th>\n",
              "      <td>LOC-13</td>\n",
              "      <td>6.0</td>\n",
              "    </tr>\n",
              "    <tr>\n",
              "      <th>12</th>\n",
              "      <td>LOC-14</td>\n",
              "      <td>8.0</td>\n",
              "    </tr>\n",
              "    <tr>\n",
              "      <th>13</th>\n",
              "      <td>LOC-17</td>\n",
              "      <td>4.0</td>\n",
              "    </tr>\n",
              "    <tr>\n",
              "      <th>14</th>\n",
              "      <td>LOC-6</td>\n",
              "      <td>16.0</td>\n",
              "    </tr>\n",
              "    <tr>\n",
              "      <th>15</th>\n",
              "      <td>LOC-16</td>\n",
              "      <td>16.0</td>\n",
              "    </tr>\n",
              "    <tr>\n",
              "      <th>16</th>\n",
              "      <td>LOC-15</td>\n",
              "      <td>16.0</td>\n",
              "    </tr>\n",
              "    <tr>\n",
              "      <th>17</th>\n",
              "      <td>LOC-18</td>\n",
              "      <td>10.0</td>\n",
              "    </tr>\n",
              "    <tr>\n",
              "      <th>18</th>\n",
              "      <td>LOC-19</td>\n",
              "      <td>5.0</td>\n",
              "    </tr>\n",
              "    <tr>\n",
              "      <th>19</th>\n",
              "      <td>LOC-20</td>\n",
              "      <td>8.0</td>\n",
              "    </tr>\n",
              "    <tr>\n",
              "      <th>20</th>\n",
              "      <td>LOC-21</td>\n",
              "      <td>2.0</td>\n",
              "    </tr>\n",
              "    <tr>\n",
              "      <th>21</th>\n",
              "      <td>LOC-22</td>\n",
              "      <td>4.0</td>\n",
              "    </tr>\n",
              "    <tr>\n",
              "      <th>22</th>\n",
              "      <td>LOC-23</td>\n",
              "      <td>8.0</td>\n",
              "    </tr>\n",
              "    <tr>\n",
              "      <th>23</th>\n",
              "      <td>LOC-24</td>\n",
              "      <td>8.0</td>\n",
              "    </tr>\n",
              "    <tr>\n",
              "      <th>24</th>\n",
              "      <td>LOC-25</td>\n",
              "      <td>8.0</td>\n",
              "    </tr>\n",
              "    <tr>\n",
              "      <th>25</th>\n",
              "      <td>LOC-26</td>\n",
              "      <td>8.0</td>\n",
              "    </tr>\n",
              "    <tr>\n",
              "      <th>26</th>\n",
              "      <td>LOC-27</td>\n",
              "      <td>4.0</td>\n",
              "    </tr>\n",
              "    <tr>\n",
              "      <th>27</th>\n",
              "      <td>LOC-28</td>\n",
              "      <td>4.0</td>\n",
              "    </tr>\n",
              "    <tr>\n",
              "      <th>28</th>\n",
              "      <td>LOC-29</td>\n",
              "      <td>2.0</td>\n",
              "    </tr>\n",
              "    <tr>\n",
              "      <th>29</th>\n",
              "      <td>LOC-30</td>\n",
              "      <td>2.0</td>\n",
              "    </tr>\n",
              "    <tr>\n",
              "      <th>30</th>\n",
              "      <td>LOC-31</td>\n",
              "      <td>2.0</td>\n",
              "    </tr>\n",
              "    <tr>\n",
              "      <th>31</th>\n",
              "      <td>LOC-32</td>\n",
              "      <td>4.0</td>\n",
              "    </tr>\n",
              "    <tr>\n",
              "      <th>32</th>\n",
              "      <td>LOC-33</td>\n",
              "      <td>6.0</td>\n",
              "    </tr>\n",
              "    <tr>\n",
              "      <th>33</th>\n",
              "      <td>LOC-34</td>\n",
              "      <td>4.0</td>\n",
              "    </tr>\n",
              "    <tr>\n",
              "      <th>34</th>\n",
              "      <td>LOC-35</td>\n",
              "      <td>8.0</td>\n",
              "    </tr>\n",
              "    <tr>\n",
              "      <th>35</th>\n",
              "      <td>LOC-36</td>\n",
              "      <td>8.0</td>\n",
              "    </tr>\n",
              "    <tr>\n",
              "      <th>36</th>\n",
              "      <td>LOC-37</td>\n",
              "      <td>8.0</td>\n",
              "    </tr>\n",
              "  </tbody>\n",
              "</table>\n",
              "</div>"
            ],
            "text/plain": [
              "      Task  Hours\n",
              "0    LOC-1    8.0\n",
              "1    LOC-2    8.0\n",
              "2    LOC-3    2.0\n",
              "3    LOC-4    4.0\n",
              "4    LOC-5    4.0\n",
              "5    LOC-7    6.0\n",
              "6    LOC-8    4.0\n",
              "7    LOC-9    2.0\n",
              "8   LOC-10    4.0\n",
              "9   LOC-11    6.0\n",
              "10  LOC-12    2.0\n",
              "11  LOC-13    6.0\n",
              "12  LOC-14    8.0\n",
              "13  LOC-17    4.0\n",
              "14   LOC-6   16.0\n",
              "15  LOC-16   16.0\n",
              "16  LOC-15   16.0\n",
              "17  LOC-18   10.0\n",
              "18  LOC-19    5.0\n",
              "19  LOC-20    8.0\n",
              "20  LOC-21    2.0\n",
              "21  LOC-22    4.0\n",
              "22  LOC-23    8.0\n",
              "23  LOC-24    8.0\n",
              "24  LOC-25    8.0\n",
              "25  LOC-26    8.0\n",
              "26  LOC-27    4.0\n",
              "27  LOC-28    4.0\n",
              "28  LOC-29    2.0\n",
              "29  LOC-30    2.0\n",
              "30  LOC-31    2.0\n",
              "31  LOC-32    4.0\n",
              "32  LOC-33    6.0\n",
              "33  LOC-34    4.0\n",
              "34  LOC-35    8.0\n",
              "35  LOC-36    8.0\n",
              "36  LOC-37    8.0"
            ]
          },
          "metadata": {
            "tags": []
          },
          "execution_count": 447
        }
      ]
    },
    {
      "cell_type": "code",
      "metadata": {
        "colab": {
          "base_uri": "https://localhost:8080/"
        },
        "id": "JR5s883TgRGb",
        "outputId": "25fac227-0367-4a82-dc78-b3f2b18ea157"
      },
      "source": [
        "hourcost['Hours'].describe()"
      ],
      "execution_count": 448,
      "outputs": [
        {
          "output_type": "execute_result",
          "data": {
            "text/plain": [
              "count    37.000000\n",
              "mean      6.189189\n",
              "std       3.770042\n",
              "min       2.000000\n",
              "25%       4.000000\n",
              "50%       6.000000\n",
              "75%       8.000000\n",
              "max      16.000000\n",
              "Name: Hours, dtype: float64"
            ]
          },
          "metadata": {
            "tags": []
          },
          "execution_count": 448
        }
      ]
    },
    {
      "cell_type": "code",
      "metadata": {
        "colab": {
          "base_uri": "https://localhost:8080/"
        },
        "id": "7xPoU-vdcAD0",
        "outputId": "cd5c0cb8-b9de-4d06-c149-0744a8401df8"
      },
      "source": [
        "mean_hour = hourcost['Hours'].mean()\n",
        "mean_hour"
      ],
      "execution_count": 449,
      "outputs": [
        {
          "output_type": "execute_result",
          "data": {
            "text/plain": [
              "6.1891891891891895"
            ]
          },
          "metadata": {
            "tags": []
          },
          "execution_count": 449
        }
      ]
    },
    {
      "cell_type": "code",
      "metadata": {
        "colab": {
          "base_uri": "https://localhost:8080/"
        },
        "id": "J99wOLsWgIuY",
        "outputId": "cdb2f24e-d035-48bd-8c50-822e6c7bf346"
      },
      "source": [
        "median_hour = hourcost['Hours'].median()\n",
        "median_hour"
      ],
      "execution_count": 450,
      "outputs": [
        {
          "output_type": "execute_result",
          "data": {
            "text/plain": [
              "6.0"
            ]
          },
          "metadata": {
            "tags": []
          },
          "execution_count": 450
        }
      ]
    },
    {
      "cell_type": "code",
      "metadata": {
        "id": "zJcKVGpoXPL7"
      },
      "source": [
        "def getNum(value): #get a number of task\n",
        "  return [int(s) for s in value.split('-') if s.isdigit()][0]"
      ],
      "execution_count": 451,
      "outputs": []
    },
    {
      "cell_type": "code",
      "metadata": {
        "colab": {
          "base_uri": "https://localhost:8080/",
          "height": 590
        },
        "id": "KZZAhCVIV6UO",
        "outputId": "054ffd36-b83f-45ad-8c73-9ffea8401c68"
      },
      "source": [
        "a4_dims = (14, 9)\n",
        "fig, ax = pyplot.subplots(figsize=a4_dims)\n",
        "\n",
        "timecost = hourcost.copy()\n",
        "timecost['Task'] = timecost['Task'].apply(getNum)\n",
        "g = sns.barplot(x=\"Task\", y='Hours', data=timecost).set(title = 'Потраченное время на задачи',xlabel='Номера задач', ylabel='Потраченное время')\n",
        "plt.plot([-1, 37], [mean_hour, mean_hour], linewidth=1)\n",
        "plt.plot([-1, 37], [median_hour, median_hour], linewidth=1, color='r')\n",
        "\n",
        "del timecost\n",
        "gc.collect()"
      ],
      "execution_count": 452,
      "outputs": [
        {
          "output_type": "execute_result",
          "data": {
            "text/plain": [
              "20033"
            ]
          },
          "metadata": {
            "tags": []
          },
          "execution_count": 452
        },
        {
          "output_type": "display_data",
          "data": {
            "image/png": "[encoded data removed]",
            "text/plain": [
              "<Figure size 1008x648 with 1 Axes>"
            ]
          },
          "metadata": {
            "tags": []
          }
        }
      ]
    },
    {
      "cell_type": "markdown",
      "metadata": {
        "id": "gSUVOo9aREoB"
      },
      "source": [
        "## Среднее время, затраченное на решение задач каждым из исполнителей в часах"
      ]
    },
    {
      "cell_type": "code",
      "metadata": {
        "colab": {
          "base_uri": "https://localhost:8080/"
        },
        "id": "DPGixsM3f6Nj",
        "outputId": "fadeb922-25b8-4bec-e578-af62911408b5"
      },
      "source": [
        "data_a['Worker'].unique()"
      ],
      "execution_count": 453,
      "outputs": [
        {
          "output_type": "execute_result",
          "data": {
            "text/plain": [
              "array(['Вася', 'Петя', 'Маша'], dtype=object)"
            ]
          },
          "metadata": {
            "tags": []
          },
          "execution_count": 453
        }
      ]
    },
    {
      "cell_type": "code",
      "metadata": {
        "colab": {
          "base_uri": "https://localhost:8080/",
          "height": 142
        },
        "id": "H0_4sypFhs9q",
        "outputId": "badd24c0-386d-41ff-e4ca-7ee2e35b2d68"
      },
      "source": [
        "hourcost_by_man = pd.DataFrame(data={'Worker': [], 'Hours': [], 'Mean time': []})\n",
        "for project in data_a['Worker'].unique():\n",
        "  task = data_a[data_a['Worker'] == project]['Worker']\n",
        "  hours = data_a[data_a['Worker'] == project]['Hours'].sum()\n",
        "  mean_hours = hours/len(data_a[data_a['Worker'] == project]['Hours'])\n",
        "  hourcost_by_man = hourcost_by_man.append({'Worker': task.values[0], 'Hours': hours, 'Mean time': mean_hours}, ignore_index=True)\n",
        "hourcost_by_man"
      ],
      "execution_count": 454,
      "outputs": [
        {
          "output_type": "execute_result",
          "data": {
            "text/html": [
              "<div>\n",
              "<style scoped>\n",
              "    .dataframe tbody tr th:only-of-type {\n",
              "        vertical-align: middle;\n",
              "    }\n",
              "\n",
              "    .dataframe tbody tr th {\n",
              "        vertical-align: top;\n",
              "    }\n",
              "\n",
              "    .dataframe thead th {\n",
              "        text-align: right;\n",
              "    }\n",
              "</style>\n",
              "<table border=\"1\" class=\"dataframe\">\n",
              "  <thead>\n",
              "    <tr style=\"text-align: right;\">\n",
              "      <th></th>\n",
              "      <th>Worker</th>\n",
              "      <th>Hours</th>\n",
              "      <th>Mean time</th>\n",
              "    </tr>\n",
              "  </thead>\n",
              "  <tbody>\n",
              "    <tr>\n",
              "      <th>0</th>\n",
              "      <td>Вася</td>\n",
              "      <td>84.0</td>\n",
              "      <td>5.600000</td>\n",
              "    </tr>\n",
              "    <tr>\n",
              "      <th>1</th>\n",
              "      <td>Петя</td>\n",
              "      <td>81.0</td>\n",
              "      <td>4.263158</td>\n",
              "    </tr>\n",
              "    <tr>\n",
              "      <th>2</th>\n",
              "      <td>Маша</td>\n",
              "      <td>64.0</td>\n",
              "      <td>5.818182</td>\n",
              "    </tr>\n",
              "  </tbody>\n",
              "</table>\n",
              "</div>"
            ],
            "text/plain": [
              "  Worker  Hours  Mean time\n",
              "0   Вася   84.0   5.600000\n",
              "1   Петя   81.0   4.263158\n",
              "2   Маша   64.0   5.818182"
            ]
          },
          "metadata": {
            "tags": []
          },
          "execution_count": 454
        }
      ]
    },
    {
      "cell_type": "code",
      "metadata": {
        "colab": {
          "base_uri": "https://localhost:8080/",
          "height": 297
        },
        "id": "DCqwG_Q5iPfb",
        "outputId": "759c8453-fadc-4f63-d7e7-5eb103ccfe57"
      },
      "source": [
        "hourcost_by_man.describe()"
      ],
      "execution_count": 455,
      "outputs": [
        {
          "output_type": "execute_result",
          "data": {
            "text/html": [
              "<div>\n",
              "<style scoped>\n",
              "    .dataframe tbody tr th:only-of-type {\n",
              "        vertical-align: middle;\n",
              "    }\n",
              "\n",
              "    .dataframe tbody tr th {\n",
              "        vertical-align: top;\n",
              "    }\n",
              "\n",
              "    .dataframe thead th {\n",
              "        text-align: right;\n",
              "    }\n",
              "</style>\n",
              "<table border=\"1\" class=\"dataframe\">\n",
              "  <thead>\n",
              "    <tr style=\"text-align: right;\">\n",
              "      <th></th>\n",
              "      <th>Hours</th>\n",
              "      <th>Mean time</th>\n",
              "    </tr>\n",
              "  </thead>\n",
              "  <tbody>\n",
              "    <tr>\n",
              "      <th>count</th>\n",
              "      <td>3.000000</td>\n",
              "      <td>3.000000</td>\n",
              "    </tr>\n",
              "    <tr>\n",
              "      <th>mean</th>\n",
              "      <td>76.333333</td>\n",
              "      <td>5.227113</td>\n",
              "    </tr>\n",
              "    <tr>\n",
              "      <th>std</th>\n",
              "      <td>10.785793</td>\n",
              "      <td>0.841908</td>\n",
              "    </tr>\n",
              "    <tr>\n",
              "      <th>min</th>\n",
              "      <td>64.000000</td>\n",
              "      <td>4.263158</td>\n",
              "    </tr>\n",
              "    <tr>\n",
              "      <th>25%</th>\n",
              "      <td>72.500000</td>\n",
              "      <td>4.931579</td>\n",
              "    </tr>\n",
              "    <tr>\n",
              "      <th>50%</th>\n",
              "      <td>81.000000</td>\n",
              "      <td>5.600000</td>\n",
              "    </tr>\n",
              "    <tr>\n",
              "      <th>75%</th>\n",
              "      <td>82.500000</td>\n",
              "      <td>5.709091</td>\n",
              "    </tr>\n",
              "    <tr>\n",
              "      <th>max</th>\n",
              "      <td>84.000000</td>\n",
              "      <td>5.818182</td>\n",
              "    </tr>\n",
              "  </tbody>\n",
              "</table>\n",
              "</div>"
            ],
            "text/plain": [
              "           Hours  Mean time\n",
              "count   3.000000   3.000000\n",
              "mean   76.333333   5.227113\n",
              "std    10.785793   0.841908\n",
              "min    64.000000   4.263158\n",
              "25%    72.500000   4.931579\n",
              "50%    81.000000   5.600000\n",
              "75%    82.500000   5.709091\n",
              "max    84.000000   5.818182"
            ]
          },
          "metadata": {
            "tags": []
          },
          "execution_count": 455
        }
      ]
    },
    {
      "cell_type": "markdown",
      "metadata": {
        "id": "Lg22EU9-fxAe"
      },
      "source": [
        "Общее время"
      ]
    },
    {
      "cell_type": "code",
      "metadata": {
        "colab": {
          "base_uri": "https://localhost:8080/"
        },
        "id": "Q9_3f-eBida_",
        "outputId": "e0c4e2e4-163d-4909-8df3-a664b52c258d"
      },
      "source": [
        "mean_hour = hourcost_by_man['Hours'].mean()\n",
        "mean_hour"
      ],
      "execution_count": 456,
      "outputs": [
        {
          "output_type": "execute_result",
          "data": {
            "text/plain": [
              "76.33333333333333"
            ]
          },
          "metadata": {
            "tags": []
          },
          "execution_count": 456
        }
      ]
    },
    {
      "cell_type": "code",
      "metadata": {
        "colab": {
          "base_uri": "https://localhost:8080/",
          "height": 590
        },
        "id": "5YU0HA4FiKPq",
        "outputId": "bdcf19cf-574f-4743-9beb-23f93300e92f"
      },
      "source": [
        "a4_dims = (14, 9)\n",
        "fig, ax = pyplot.subplots(figsize=a4_dims)\n",
        "\n",
        "g = sns.barplot(x=\"Worker\", y='Hours', data=hourcost_by_man).set(title = 'Потраченное время каждого исполнителя',ylabel='Потраченное время', xlabel='Исполнитель')\n",
        "plt.plot([-1, 3], [mean_hour, mean_hour], linewidth=1)"
      ],
      "execution_count": 457,
      "outputs": [
        {
          "output_type": "execute_result",
          "data": {
            "text/plain": [
              "[<matplotlib.lines.Line2D at 0x7f7267d6b8d0>]"
            ]
          },
          "metadata": {
            "tags": []
          },
          "execution_count": 457
        },
        {
          "output_type": "display_data",
          "data": {
            "image/png": "[encoded data removed]",
            "text/plain": [
              "<Figure size 1008x648 with 1 Axes>"
            ]
          },
          "metadata": {
            "tags": []
          }
        }
      ]
    },
    {
      "cell_type": "markdown",
      "metadata": {
        "id": "IjfAOo-Af-Bz"
      },
      "source": [
        "Среднее время"
      ]
    },
    {
      "cell_type": "code",
      "metadata": {
        "colab": {
          "base_uri": "https://localhost:8080/"
        },
        "id": "uOcYqsr5f-t0",
        "outputId": "b86219af-a1b3-486d-e383-8274ac4305ef"
      },
      "source": [
        "mean_mean_hour = hourcost_by_man['Mean time'].mean()\n",
        "mean_mean_hour"
      ],
      "execution_count": 458,
      "outputs": [
        {
          "output_type": "execute_result",
          "data": {
            "text/plain": [
              "5.2271132376395535"
            ]
          },
          "metadata": {
            "tags": []
          },
          "execution_count": 458
        }
      ]
    },
    {
      "cell_type": "code",
      "metadata": {
        "colab": {
          "base_uri": "https://localhost:8080/",
          "height": 590
        },
        "id": "Kx2cCe7egEx0",
        "outputId": "a317f010-8e8b-4f37-a69b-aae7fd1b6f8d"
      },
      "source": [
        "a4_dims = (14, 9)\n",
        "fig, ax = pyplot.subplots(figsize=a4_dims)\n",
        "\n",
        "g = sns.barplot(x=\"Worker\", y='Mean time', data=hourcost_by_man).set(title = 'Потраченное среднее время каждого исполнителя на проект',ylabel='Среднее время', xlabel='Исполнитель')\n",
        "plt.plot([-1, 3], [mean_mean_hour, mean_mean_hour], linewidth=1)"
      ],
      "execution_count": 459,
      "outputs": [
        {
          "output_type": "execute_result",
          "data": {
            "text/plain": [
              "[<matplotlib.lines.Line2D at 0x7f7265da8090>]"
            ]
          },
          "metadata": {
            "tags": []
          },
          "execution_count": 459
        },
        {
          "output_type": "display_data",
          "data": {
            "image/png": "[encoded data removed]",
            "text/plain": [
              "<Figure size 1008x648 with 1 Axes>"
            ]
          },
          "metadata": {
            "tags": []
          }
        }
      ]
    },
    {
      "cell_type": "code",
      "metadata": {
        "id": "-_kt-3zimKmy",
        "colab": {
          "base_uri": "https://localhost:8080/",
          "height": 142
        },
        "outputId": "859d1966-4643-4f02-a2e6-dedcb4b485df"
      },
      "source": [
        "hourcost_by_man = hourcost_by_man.merge(data_c, on=['Worker', 'Worker'], how='left')\n",
        "hourcost_by_man['Salary'] = hourcost_by_man['Hours'] * hourcost_by_man['Rate']\n",
        "hourcost_by_man"
      ],
      "execution_count": 460,
      "outputs": [
        {
          "output_type": "execute_result",
          "data": {
            "text/html": [
              "<div>\n",
              "<style scoped>\n",
              "    .dataframe tbody tr th:only-of-type {\n",
              "        vertical-align: middle;\n",
              "    }\n",
              "\n",
              "    .dataframe tbody tr th {\n",
              "        vertical-align: top;\n",
              "    }\n",
              "\n",
              "    .dataframe thead th {\n",
              "        text-align: right;\n",
              "    }\n",
              "</style>\n",
              "<table border=\"1\" class=\"dataframe\">\n",
              "  <thead>\n",
              "    <tr style=\"text-align: right;\">\n",
              "      <th></th>\n",
              "      <th>Worker</th>\n",
              "      <th>Hours</th>\n",
              "      <th>Mean time</th>\n",
              "      <th>Rate</th>\n",
              "      <th>Salary</th>\n",
              "    </tr>\n",
              "  </thead>\n",
              "  <tbody>\n",
              "    <tr>\n",
              "      <th>0</th>\n",
              "      <td>Вася</td>\n",
              "      <td>84.0</td>\n",
              "      <td>5.600000</td>\n",
              "      <td>50</td>\n",
              "      <td>4200.0</td>\n",
              "    </tr>\n",
              "    <tr>\n",
              "      <th>1</th>\n",
              "      <td>Петя</td>\n",
              "      <td>81.0</td>\n",
              "      <td>4.263158</td>\n",
              "      <td>35</td>\n",
              "      <td>2835.0</td>\n",
              "    </tr>\n",
              "    <tr>\n",
              "      <th>2</th>\n",
              "      <td>Маша</td>\n",
              "      <td>64.0</td>\n",
              "      <td>5.818182</td>\n",
              "      <td>75</td>\n",
              "      <td>4800.0</td>\n",
              "    </tr>\n",
              "  </tbody>\n",
              "</table>\n",
              "</div>"
            ],
            "text/plain": [
              "  Worker  Hours  Mean time  Rate  Salary\n",
              "0   Вася   84.0   5.600000    50  4200.0\n",
              "1   Петя   81.0   4.263158    35  2835.0\n",
              "2   Маша   64.0   5.818182    75  4800.0"
            ]
          },
          "metadata": {
            "tags": []
          },
          "execution_count": 460
        }
      ]
    },
    {
      "cell_type": "markdown",
      "metadata": {
        "id": "EJkkFKriRX3F"
      },
      "source": [
        "## Рентабельность"
      ]
    },
    {
      "cell_type": "code",
      "metadata": {
        "id": "WLJ-zOEkrCM8"
      },
      "source": [
        "data_a = data_a.merge(hourcost_by_man.filter(['Worker', 'Rate'],axis=1), on=['Worker', 'Worker'], how='left')"
      ],
      "execution_count": 461,
      "outputs": []
    },
    {
      "cell_type": "code",
      "metadata": {
        "id": "yoIkGFr6ux-e"
      },
      "source": [
        "data_a['Cost'] = data_a['Hours']*data_a['Rate']"
      ],
      "execution_count": 462,
      "outputs": []
    },
    {
      "cell_type": "code",
      "metadata": {
        "id": "frrSiYQqv9Pz"
      },
      "source": [
        "data_a = data_a.drop(['Rate'], axis=1)"
      ],
      "execution_count": 463,
      "outputs": []
    },
    {
      "cell_type": "code",
      "metadata": {
        "colab": {
          "base_uri": "https://localhost:8080/",
          "height": 1000
        },
        "id": "nNSiT_oLyli8",
        "outputId": "ad13856d-f692-4cc0-a1d5-38e20392a561"
      },
      "source": [
        "data_a"
      ],
      "execution_count": 464,
      "outputs": [
        {
          "output_type": "execute_result",
          "data": {
            "text/html": [
              "<div>\n",
              "<style scoped>\n",
              "    .dataframe tbody tr th:only-of-type {\n",
              "        vertical-align: middle;\n",
              "    }\n",
              "\n",
              "    .dataframe tbody tr th {\n",
              "        vertical-align: top;\n",
              "    }\n",
              "\n",
              "    .dataframe thead th {\n",
              "        text-align: right;\n",
              "    }\n",
              "</style>\n",
              "<table border=\"1\" class=\"dataframe\">\n",
              "  <thead>\n",
              "    <tr style=\"text-align: right;\">\n",
              "      <th></th>\n",
              "      <th>Date</th>\n",
              "      <th>Worker</th>\n",
              "      <th>Task</th>\n",
              "      <th>Hours</th>\n",
              "      <th>Cost</th>\n",
              "    </tr>\n",
              "  </thead>\n",
              "  <tbody>\n",
              "    <tr>\n",
              "      <th>0</th>\n",
              "      <td>2021-03-05</td>\n",
              "      <td>Вася</td>\n",
              "      <td>LOC-1</td>\n",
              "      <td>8</td>\n",
              "      <td>400</td>\n",
              "    </tr>\n",
              "    <tr>\n",
              "      <th>1</th>\n",
              "      <td>2021-03-05</td>\n",
              "      <td>Петя</td>\n",
              "      <td>LOC-2</td>\n",
              "      <td>8</td>\n",
              "      <td>280</td>\n",
              "    </tr>\n",
              "    <tr>\n",
              "      <th>2</th>\n",
              "      <td>2021-03-05</td>\n",
              "      <td>Маша</td>\n",
              "      <td>LOC-3</td>\n",
              "      <td>2</td>\n",
              "      <td>150</td>\n",
              "    </tr>\n",
              "    <tr>\n",
              "      <th>3</th>\n",
              "      <td>2021-03-05</td>\n",
              "      <td>Маша</td>\n",
              "      <td>LOC-4</td>\n",
              "      <td>4</td>\n",
              "      <td>300</td>\n",
              "    </tr>\n",
              "    <tr>\n",
              "      <th>4</th>\n",
              "      <td>2021-03-05</td>\n",
              "      <td>Маша</td>\n",
              "      <td>LOC-5</td>\n",
              "      <td>2</td>\n",
              "      <td>150</td>\n",
              "    </tr>\n",
              "    <tr>\n",
              "      <th>5</th>\n",
              "      <td>2021-04-05</td>\n",
              "      <td>Маша</td>\n",
              "      <td>LOC-5</td>\n",
              "      <td>2</td>\n",
              "      <td>150</td>\n",
              "    </tr>\n",
              "    <tr>\n",
              "      <th>6</th>\n",
              "      <td>2021-04-05</td>\n",
              "      <td>Маша</td>\n",
              "      <td>LOC-7</td>\n",
              "      <td>6</td>\n",
              "      <td>450</td>\n",
              "    </tr>\n",
              "    <tr>\n",
              "      <th>7</th>\n",
              "      <td>2021-04-05</td>\n",
              "      <td>Вася</td>\n",
              "      <td>LOC-8</td>\n",
              "      <td>4</td>\n",
              "      <td>200</td>\n",
              "    </tr>\n",
              "    <tr>\n",
              "      <th>8</th>\n",
              "      <td>2021-04-05</td>\n",
              "      <td>Петя</td>\n",
              "      <td>LOC-9</td>\n",
              "      <td>2</td>\n",
              "      <td>70</td>\n",
              "    </tr>\n",
              "    <tr>\n",
              "      <th>9</th>\n",
              "      <td>2021-04-05</td>\n",
              "      <td>Вася</td>\n",
              "      <td>LOC-10</td>\n",
              "      <td>4</td>\n",
              "      <td>200</td>\n",
              "    </tr>\n",
              "    <tr>\n",
              "      <th>10</th>\n",
              "      <td>2021-04-05</td>\n",
              "      <td>Петя</td>\n",
              "      <td>LOC-11</td>\n",
              "      <td>6</td>\n",
              "      <td>210</td>\n",
              "    </tr>\n",
              "    <tr>\n",
              "      <th>11</th>\n",
              "      <td>2021-04-05</td>\n",
              "      <td>Вася</td>\n",
              "      <td>LOC-12</td>\n",
              "      <td>2</td>\n",
              "      <td>100</td>\n",
              "    </tr>\n",
              "    <tr>\n",
              "      <th>12</th>\n",
              "      <td>2021-05-05</td>\n",
              "      <td>Петя</td>\n",
              "      <td>LOC-13</td>\n",
              "      <td>1</td>\n",
              "      <td>35</td>\n",
              "    </tr>\n",
              "    <tr>\n",
              "      <th>13</th>\n",
              "      <td>2021-05-05</td>\n",
              "      <td>Вася</td>\n",
              "      <td>LOC-14</td>\n",
              "      <td>8</td>\n",
              "      <td>400</td>\n",
              "    </tr>\n",
              "    <tr>\n",
              "      <th>14</th>\n",
              "      <td>2021-05-05</td>\n",
              "      <td>Петя</td>\n",
              "      <td>LOC-13</td>\n",
              "      <td>3</td>\n",
              "      <td>105</td>\n",
              "    </tr>\n",
              "    <tr>\n",
              "      <th>15</th>\n",
              "      <td>2021-05-05</td>\n",
              "      <td>Петя</td>\n",
              "      <td>LOC-13</td>\n",
              "      <td>2</td>\n",
              "      <td>70</td>\n",
              "    </tr>\n",
              "    <tr>\n",
              "      <th>16</th>\n",
              "      <td>2021-05-05</td>\n",
              "      <td>Петя</td>\n",
              "      <td>LOC-17</td>\n",
              "      <td>2</td>\n",
              "      <td>70</td>\n",
              "    </tr>\n",
              "    <tr>\n",
              "      <th>17</th>\n",
              "      <td>2021-06-05</td>\n",
              "      <td>Маша</td>\n",
              "      <td>LOC-6</td>\n",
              "      <td>8</td>\n",
              "      <td>600</td>\n",
              "    </tr>\n",
              "    <tr>\n",
              "      <th>18</th>\n",
              "      <td>2021-06-05</td>\n",
              "      <td>Вася</td>\n",
              "      <td>LOC-16</td>\n",
              "      <td>8</td>\n",
              "      <td>400</td>\n",
              "    </tr>\n",
              "    <tr>\n",
              "      <th>19</th>\n",
              "      <td>2021-06-05</td>\n",
              "      <td>Петя</td>\n",
              "      <td>LOC-15</td>\n",
              "      <td>8</td>\n",
              "      <td>280</td>\n",
              "    </tr>\n",
              "    <tr>\n",
              "      <th>20</th>\n",
              "      <td>2021-07-05</td>\n",
              "      <td>Маша</td>\n",
              "      <td>LOC-6</td>\n",
              "      <td>8</td>\n",
              "      <td>600</td>\n",
              "    </tr>\n",
              "    <tr>\n",
              "      <th>21</th>\n",
              "      <td>2021-07-05</td>\n",
              "      <td>Вася</td>\n",
              "      <td>LOC-16</td>\n",
              "      <td>8</td>\n",
              "      <td>400</td>\n",
              "    </tr>\n",
              "    <tr>\n",
              "      <th>22</th>\n",
              "      <td>2021-07-05</td>\n",
              "      <td>Петя</td>\n",
              "      <td>LOC-15</td>\n",
              "      <td>8</td>\n",
              "      <td>280</td>\n",
              "    </tr>\n",
              "    <tr>\n",
              "      <th>23</th>\n",
              "      <td>2021-10-05</td>\n",
              "      <td>Петя</td>\n",
              "      <td>LOC-17</td>\n",
              "      <td>2</td>\n",
              "      <td>70</td>\n",
              "    </tr>\n",
              "    <tr>\n",
              "      <th>24</th>\n",
              "      <td>2021-10-05</td>\n",
              "      <td>Вася</td>\n",
              "      <td>LOC-18</td>\n",
              "      <td>10</td>\n",
              "      <td>500</td>\n",
              "    </tr>\n",
              "    <tr>\n",
              "      <th>25</th>\n",
              "      <td>2021-10-05</td>\n",
              "      <td>Петя</td>\n",
              "      <td>LOC-19</td>\n",
              "      <td>2</td>\n",
              "      <td>70</td>\n",
              "    </tr>\n",
              "    <tr>\n",
              "      <th>26</th>\n",
              "      <td>2021-10-05</td>\n",
              "      <td>Маша</td>\n",
              "      <td>LOC-20</td>\n",
              "      <td>8</td>\n",
              "      <td>600</td>\n",
              "    </tr>\n",
              "    <tr>\n",
              "      <th>27</th>\n",
              "      <td>2021-10-05</td>\n",
              "      <td>Вася</td>\n",
              "      <td>LOC-21</td>\n",
              "      <td>2</td>\n",
              "      <td>100</td>\n",
              "    </tr>\n",
              "    <tr>\n",
              "      <th>28</th>\n",
              "      <td>2021-10-05</td>\n",
              "      <td>Петя</td>\n",
              "      <td>LOC-22</td>\n",
              "      <td>4</td>\n",
              "      <td>140</td>\n",
              "    </tr>\n",
              "    <tr>\n",
              "      <th>29</th>\n",
              "      <td>2021-11-05</td>\n",
              "      <td>Маша</td>\n",
              "      <td>LOC-23</td>\n",
              "      <td>8</td>\n",
              "      <td>600</td>\n",
              "    </tr>\n",
              "    <tr>\n",
              "      <th>30</th>\n",
              "      <td>2021-11-05</td>\n",
              "      <td>Вася</td>\n",
              "      <td>LOC-24</td>\n",
              "      <td>8</td>\n",
              "      <td>400</td>\n",
              "    </tr>\n",
              "    <tr>\n",
              "      <th>31</th>\n",
              "      <td>2021-11-05</td>\n",
              "      <td>Петя</td>\n",
              "      <td>LOC-25</td>\n",
              "      <td>8</td>\n",
              "      <td>280</td>\n",
              "    </tr>\n",
              "    <tr>\n",
              "      <th>32</th>\n",
              "      <td>2021-12-05</td>\n",
              "      <td>Маша</td>\n",
              "      <td>LOC-26</td>\n",
              "      <td>8</td>\n",
              "      <td>600</td>\n",
              "    </tr>\n",
              "    <tr>\n",
              "      <th>33</th>\n",
              "      <td>2021-12-05</td>\n",
              "      <td>Вася</td>\n",
              "      <td>LOC-27</td>\n",
              "      <td>4</td>\n",
              "      <td>200</td>\n",
              "    </tr>\n",
              "    <tr>\n",
              "      <th>34</th>\n",
              "      <td>2021-12-05</td>\n",
              "      <td>Петя</td>\n",
              "      <td>LOC-28</td>\n",
              "      <td>4</td>\n",
              "      <td>140</td>\n",
              "    </tr>\n",
              "    <tr>\n",
              "      <th>35</th>\n",
              "      <td>2021-12-05</td>\n",
              "      <td>Вася</td>\n",
              "      <td>LOC-29</td>\n",
              "      <td>2</td>\n",
              "      <td>100</td>\n",
              "    </tr>\n",
              "    <tr>\n",
              "      <th>36</th>\n",
              "      <td>2021-12-05</td>\n",
              "      <td>Петя</td>\n",
              "      <td>LOC-30</td>\n",
              "      <td>2</td>\n",
              "      <td>70</td>\n",
              "    </tr>\n",
              "    <tr>\n",
              "      <th>37</th>\n",
              "      <td>2021-05-13</td>\n",
              "      <td>Вася</td>\n",
              "      <td>LOC-31</td>\n",
              "      <td>2</td>\n",
              "      <td>100</td>\n",
              "    </tr>\n",
              "    <tr>\n",
              "      <th>38</th>\n",
              "      <td>2021-05-13</td>\n",
              "      <td>Петя</td>\n",
              "      <td>LOC-32</td>\n",
              "      <td>4</td>\n",
              "      <td>140</td>\n",
              "    </tr>\n",
              "    <tr>\n",
              "      <th>39</th>\n",
              "      <td>2021-05-13</td>\n",
              "      <td>Вася</td>\n",
              "      <td>LOC-33</td>\n",
              "      <td>6</td>\n",
              "      <td>300</td>\n",
              "    </tr>\n",
              "    <tr>\n",
              "      <th>40</th>\n",
              "      <td>2021-05-13</td>\n",
              "      <td>Петя</td>\n",
              "      <td>LOC-34</td>\n",
              "      <td>4</td>\n",
              "      <td>140</td>\n",
              "    </tr>\n",
              "    <tr>\n",
              "      <th>41</th>\n",
              "      <td>2021-05-14</td>\n",
              "      <td>Маша</td>\n",
              "      <td>LOC-35</td>\n",
              "      <td>8</td>\n",
              "      <td>600</td>\n",
              "    </tr>\n",
              "    <tr>\n",
              "      <th>42</th>\n",
              "      <td>2021-05-14</td>\n",
              "      <td>Вася</td>\n",
              "      <td>LOC-36</td>\n",
              "      <td>8</td>\n",
              "      <td>400</td>\n",
              "    </tr>\n",
              "    <tr>\n",
              "      <th>43</th>\n",
              "      <td>2021-05-14</td>\n",
              "      <td>Петя</td>\n",
              "      <td>LOC-37</td>\n",
              "      <td>8</td>\n",
              "      <td>280</td>\n",
              "    </tr>\n",
              "    <tr>\n",
              "      <th>44</th>\n",
              "      <td>2021-08-05</td>\n",
              "      <td>Петя</td>\n",
              "      <td>LOC-19</td>\n",
              "      <td>3</td>\n",
              "      <td>105</td>\n",
              "    </tr>\n",
              "  </tbody>\n",
              "</table>\n",
              "</div>"
            ],
            "text/plain": [
              "         Date Worker    Task  Hours  Cost\n",
              "0  2021-03-05   Вася   LOC-1      8   400\n",
              "1  2021-03-05   Петя   LOC-2      8   280\n",
              "2  2021-03-05   Маша   LOC-3      2   150\n",
              "3  2021-03-05   Маша   LOC-4      4   300\n",
              "4  2021-03-05   Маша   LOC-5      2   150\n",
              "5  2021-04-05   Маша   LOC-5      2   150\n",
              "6  2021-04-05   Маша   LOC-7      6   450\n",
              "7  2021-04-05   Вася   LOC-8      4   200\n",
              "8  2021-04-05   Петя   LOC-9      2    70\n",
              "9  2021-04-05   Вася  LOC-10      4   200\n",
              "10 2021-04-05   Петя  LOC-11      6   210\n",
              "11 2021-04-05   Вася  LOC-12      2   100\n",
              "12 2021-05-05   Петя  LOC-13      1    35\n",
              "13 2021-05-05   Вася  LOC-14      8   400\n",
              "14 2021-05-05   Петя  LOC-13      3   105\n",
              "15 2021-05-05   Петя  LOC-13      2    70\n",
              "16 2021-05-05   Петя  LOC-17      2    70\n",
              "17 2021-06-05   Маша   LOC-6      8   600\n",
              "18 2021-06-05   Вася  LOC-16      8   400\n",
              "19 2021-06-05   Петя  LOC-15      8   280\n",
              "20 2021-07-05   Маша   LOC-6      8   600\n",
              "21 2021-07-05   Вася  LOC-16      8   400\n",
              "22 2021-07-05   Петя  LOC-15      8   280\n",
              "23 2021-10-05   Петя  LOC-17      2    70\n",
              "24 2021-10-05   Вася  LOC-18     10   500\n",
              "25 2021-10-05   Петя  LOC-19      2    70\n",
              "26 2021-10-05   Маша  LOC-20      8   600\n",
              "27 2021-10-05   Вася  LOC-21      2   100\n",
              "28 2021-10-05   Петя  LOC-22      4   140\n",
              "29 2021-11-05   Маша  LOC-23      8   600\n",
              "30 2021-11-05   Вася  LOC-24      8   400\n",
              "31 2021-11-05   Петя  LOC-25      8   280\n",
              "32 2021-12-05   Маша  LOC-26      8   600\n",
              "33 2021-12-05   Вася  LOC-27      4   200\n",
              "34 2021-12-05   Петя  LOC-28      4   140\n",
              "35 2021-12-05   Вася  LOC-29      2   100\n",
              "36 2021-12-05   Петя  LOC-30      2    70\n",
              "37 2021-05-13   Вася  LOC-31      2   100\n",
              "38 2021-05-13   Петя  LOC-32      4   140\n",
              "39 2021-05-13   Вася  LOC-33      6   300\n",
              "40 2021-05-13   Петя  LOC-34      4   140\n",
              "41 2021-05-14   Маша  LOC-35      8   600\n",
              "42 2021-05-14   Вася  LOC-36      8   400\n",
              "43 2021-05-14   Петя  LOC-37      8   280\n",
              "44 2021-08-05   Петя  LOC-19      3   105"
            ]
          },
          "metadata": {
            "tags": []
          },
          "execution_count": 464
        }
      ]
    },
    {
      "cell_type": "code",
      "metadata": {
        "colab": {
          "base_uri": "https://localhost:8080/",
          "height": 1000
        },
        "id": "YywqU5Cbyz1u",
        "outputId": "6c1c122b-8c2b-4a11-b141-fe59459f657e"
      },
      "source": [
        "projects = pd.DataFrame(data={'Task': [], 'Cost': []})\n",
        "for project in data_a['Task'].unique():\n",
        "  task = data_a[data_a['Task'] == project]['Task']\n",
        "  cost = data_a[data_a['Task'] == project]['Cost'].sum()\n",
        "  projects = projects.append({'Task': task.values[0], 'Cost': cost}, ignore_index=True)\n",
        "projects"
      ],
      "execution_count": 465,
      "outputs": [
        {
          "output_type": "execute_result",
          "data": {
            "text/html": [
              "<div>\n",
              "<style scoped>\n",
              "    .dataframe tbody tr th:only-of-type {\n",
              "        vertical-align: middle;\n",
              "    }\n",
              "\n",
              "    .dataframe tbody tr th {\n",
              "        vertical-align: top;\n",
              "    }\n",
              "\n",
              "    .dataframe thead th {\n",
              "        text-align: right;\n",
              "    }\n",
              "</style>\n",
              "<table border=\"1\" class=\"dataframe\">\n",
              "  <thead>\n",
              "    <tr style=\"text-align: right;\">\n",
              "      <th></th>\n",
              "      <th>Task</th>\n",
              "      <th>Cost</th>\n",
              "    </tr>\n",
              "  </thead>\n",
              "  <tbody>\n",
              "    <tr>\n",
              "      <th>0</th>\n",
              "      <td>LOC-1</td>\n",
              "      <td>400.0</td>\n",
              "    </tr>\n",
              "    <tr>\n",
              "      <th>1</th>\n",
              "      <td>LOC-2</td>\n",
              "      <td>280.0</td>\n",
              "    </tr>\n",
              "    <tr>\n",
              "      <th>2</th>\n",
              "      <td>LOC-3</td>\n",
              "      <td>150.0</td>\n",
              "    </tr>\n",
              "    <tr>\n",
              "      <th>3</th>\n",
              "      <td>LOC-4</td>\n",
              "      <td>300.0</td>\n",
              "    </tr>\n",
              "    <tr>\n",
              "      <th>4</th>\n",
              "      <td>LOC-5</td>\n",
              "      <td>300.0</td>\n",
              "    </tr>\n",
              "    <tr>\n",
              "      <th>5</th>\n",
              "      <td>LOC-7</td>\n",
              "      <td>450.0</td>\n",
              "    </tr>\n",
              "    <tr>\n",
              "      <th>6</th>\n",
              "      <td>LOC-8</td>\n",
              "      <td>200.0</td>\n",
              "    </tr>\n",
              "    <tr>\n",
              "      <th>7</th>\n",
              "      <td>LOC-9</td>\n",
              "      <td>70.0</td>\n",
              "    </tr>\n",
              "    <tr>\n",
              "      <th>8</th>\n",
              "      <td>LOC-10</td>\n",
              "      <td>200.0</td>\n",
              "    </tr>\n",
              "    <tr>\n",
              "      <th>9</th>\n",
              "      <td>LOC-11</td>\n",
              "      <td>210.0</td>\n",
              "    </tr>\n",
              "    <tr>\n",
              "      <th>10</th>\n",
              "      <td>LOC-12</td>\n",
              "      <td>100.0</td>\n",
              "    </tr>\n",
              "    <tr>\n",
              "      <th>11</th>\n",
              "      <td>LOC-13</td>\n",
              "      <td>210.0</td>\n",
              "    </tr>\n",
              "    <tr>\n",
              "      <th>12</th>\n",
              "      <td>LOC-14</td>\n",
              "      <td>400.0</td>\n",
              "    </tr>\n",
              "    <tr>\n",
              "      <th>13</th>\n",
              "      <td>LOC-17</td>\n",
              "      <td>140.0</td>\n",
              "    </tr>\n",
              "    <tr>\n",
              "      <th>14</th>\n",
              "      <td>LOC-6</td>\n",
              "      <td>1200.0</td>\n",
              "    </tr>\n",
              "    <tr>\n",
              "      <th>15</th>\n",
              "      <td>LOC-16</td>\n",
              "      <td>800.0</td>\n",
              "    </tr>\n",
              "    <tr>\n",
              "      <th>16</th>\n",
              "      <td>LOC-15</td>\n",
              "      <td>560.0</td>\n",
              "    </tr>\n",
              "    <tr>\n",
              "      <th>17</th>\n",
              "      <td>LOC-18</td>\n",
              "      <td>500.0</td>\n",
              "    </tr>\n",
              "    <tr>\n",
              "      <th>18</th>\n",
              "      <td>LOC-19</td>\n",
              "      <td>175.0</td>\n",
              "    </tr>\n",
              "    <tr>\n",
              "      <th>19</th>\n",
              "      <td>LOC-20</td>\n",
              "      <td>600.0</td>\n",
              "    </tr>\n",
              "    <tr>\n",
              "      <th>20</th>\n",
              "      <td>LOC-21</td>\n",
              "      <td>100.0</td>\n",
              "    </tr>\n",
              "    <tr>\n",
              "      <th>21</th>\n",
              "      <td>LOC-22</td>\n",
              "      <td>140.0</td>\n",
              "    </tr>\n",
              "    <tr>\n",
              "      <th>22</th>\n",
              "      <td>LOC-23</td>\n",
              "      <td>600.0</td>\n",
              "    </tr>\n",
              "    <tr>\n",
              "      <th>23</th>\n",
              "      <td>LOC-24</td>\n",
              "      <td>400.0</td>\n",
              "    </tr>\n",
              "    <tr>\n",
              "      <th>24</th>\n",
              "      <td>LOC-25</td>\n",
              "      <td>280.0</td>\n",
              "    </tr>\n",
              "    <tr>\n",
              "      <th>25</th>\n",
              "      <td>LOC-26</td>\n",
              "      <td>600.0</td>\n",
              "    </tr>\n",
              "    <tr>\n",
              "      <th>26</th>\n",
              "      <td>LOC-27</td>\n",
              "      <td>200.0</td>\n",
              "    </tr>\n",
              "    <tr>\n",
              "      <th>27</th>\n",
              "      <td>LOC-28</td>\n",
              "      <td>140.0</td>\n",
              "    </tr>\n",
              "    <tr>\n",
              "      <th>28</th>\n",
              "      <td>LOC-29</td>\n",
              "      <td>100.0</td>\n",
              "    </tr>\n",
              "    <tr>\n",
              "      <th>29</th>\n",
              "      <td>LOC-30</td>\n",
              "      <td>70.0</td>\n",
              "    </tr>\n",
              "    <tr>\n",
              "      <th>30</th>\n",
              "      <td>LOC-31</td>\n",
              "      <td>100.0</td>\n",
              "    </tr>\n",
              "    <tr>\n",
              "      <th>31</th>\n",
              "      <td>LOC-32</td>\n",
              "      <td>140.0</td>\n",
              "    </tr>\n",
              "    <tr>\n",
              "      <th>32</th>\n",
              "      <td>LOC-33</td>\n",
              "      <td>300.0</td>\n",
              "    </tr>\n",
              "    <tr>\n",
              "      <th>33</th>\n",
              "      <td>LOC-34</td>\n",
              "      <td>140.0</td>\n",
              "    </tr>\n",
              "    <tr>\n",
              "      <th>34</th>\n",
              "      <td>LOC-35</td>\n",
              "      <td>600.0</td>\n",
              "    </tr>\n",
              "    <tr>\n",
              "      <th>35</th>\n",
              "      <td>LOC-36</td>\n",
              "      <td>400.0</td>\n",
              "    </tr>\n",
              "    <tr>\n",
              "      <th>36</th>\n",
              "      <td>LOC-37</td>\n",
              "      <td>280.0</td>\n",
              "    </tr>\n",
              "  </tbody>\n",
              "</table>\n",
              "</div>"
            ],
            "text/plain": [
              "      Task    Cost\n",
              "0    LOC-1   400.0\n",
              "1    LOC-2   280.0\n",
              "2    LOC-3   150.0\n",
              "3    LOC-4   300.0\n",
              "4    LOC-5   300.0\n",
              "5    LOC-7   450.0\n",
              "6    LOC-8   200.0\n",
              "7    LOC-9    70.0\n",
              "8   LOC-10   200.0\n",
              "9   LOC-11   210.0\n",
              "10  LOC-12   100.0\n",
              "11  LOC-13   210.0\n",
              "12  LOC-14   400.0\n",
              "13  LOC-17   140.0\n",
              "14   LOC-6  1200.0\n",
              "15  LOC-16   800.0\n",
              "16  LOC-15   560.0\n",
              "17  LOC-18   500.0\n",
              "18  LOC-19   175.0\n",
              "19  LOC-20   600.0\n",
              "20  LOC-21   100.0\n",
              "21  LOC-22   140.0\n",
              "22  LOC-23   600.0\n",
              "23  LOC-24   400.0\n",
              "24  LOC-25   280.0\n",
              "25  LOC-26   600.0\n",
              "26  LOC-27   200.0\n",
              "27  LOC-28   140.0\n",
              "28  LOC-29   100.0\n",
              "29  LOC-30    70.0\n",
              "30  LOC-31   100.0\n",
              "31  LOC-32   140.0\n",
              "32  LOC-33   300.0\n",
              "33  LOC-34   140.0\n",
              "34  LOC-35   600.0\n",
              "35  LOC-36   400.0\n",
              "36  LOC-37   280.0"
            ]
          },
          "metadata": {
            "tags": []
          },
          "execution_count": 465
        }
      ]
    },
    {
      "cell_type": "code",
      "metadata": {
        "colab": {
          "base_uri": "https://localhost:8080/"
        },
        "id": "HBLE6icZfDDT",
        "outputId": "dd937725-88d2-4316-b7ee-433533f4535d"
      },
      "source": [
        "income = 24000\n",
        "projects['Profit'] = income - projects['Cost']\n",
        "profitability = (projects['Profit'].sum()*100)/income\n",
        "print(\"Рентабельность проекта =\", profitability)"
      ],
      "execution_count": 466,
      "outputs": [
        {
          "output_type": "stream",
          "text": [
            "Рентабельность проекта = 3650.6875\n"
          ],
          "name": "stdout"
        }
      ]
    },
    {
      "cell_type": "code",
      "metadata": {
        "colab": {
          "base_uri": "https://localhost:8080/"
        },
        "id": "uO3Bdnphi6XC",
        "outputId": "184740ff-0fa5-4196-a7f1-5129102fbf2a"
      },
      "source": [
        "projects = projects.merge(hourcost.filter(['Task', 'Hours'],axis=1), on=['Task', 'Task'], how='left')\n",
        "del hourcost\n",
        "gc.collect()"
      ],
      "execution_count": 467,
      "outputs": [
        {
          "output_type": "execute_result",
          "data": {
            "text/plain": [
              "9354"
            ]
          },
          "metadata": {
            "tags": []
          },
          "execution_count": 467
        }
      ]
    },
    {
      "cell_type": "markdown",
      "metadata": {
        "id": "f4W16zKYRj1t"
      },
      "source": [
        "## Рассчитать среднее количество часов, отрабатываемое каждым сотрудником за день"
      ]
    },
    {
      "cell_type": "code",
      "metadata": {
        "colab": {
          "base_uri": "https://localhost:8080/",
          "height": 948
        },
        "id": "VhOzZzOuiK-r",
        "outputId": "bb8ae2e7-c9cd-4f6b-8d30-3758a287644d"
      },
      "source": [
        "def getDayofWeek(date):\n",
        "  return date.dayofweek\n",
        "  \n",
        "dates = data_a.drop(['Task', 'Cost'], axis=1)\n",
        "dates = dates.sort_values('Date')\n",
        "\n",
        "hours_list = []\n",
        "for worker, date in zip(dates['Worker'], dates['Date']):\n",
        "  hours = dates[(dates['Worker'] == worker) & (dates['Date'] == date)]['Hours']\n",
        "  hours_list.append(hours.sum())\n",
        "dates['Hours'] = hours_list\n",
        "\n",
        "del hours_list\n",
        "gc.collect()\n",
        "\n",
        "dates = dates.drop_duplicates()\n",
        "dates = dates.reset_index(drop=True)\n",
        "dates['Day of week'] = dates['Date'].apply(getDayofWeek)\n",
        "dates"
      ],
      "execution_count": 468,
      "outputs": [
        {
          "output_type": "execute_result",
          "data": {
            "text/html": [
              "<div>\n",
              "<style scoped>\n",
              "    .dataframe tbody tr th:only-of-type {\n",
              "        vertical-align: middle;\n",
              "    }\n",
              "\n",
              "    .dataframe tbody tr th {\n",
              "        vertical-align: top;\n",
              "    }\n",
              "\n",
              "    .dataframe thead th {\n",
              "        text-align: right;\n",
              "    }\n",
              "</style>\n",
              "<table border=\"1\" class=\"dataframe\">\n",
              "  <thead>\n",
              "    <tr style=\"text-align: right;\">\n",
              "      <th></th>\n",
              "      <th>Date</th>\n",
              "      <th>Worker</th>\n",
              "      <th>Hours</th>\n",
              "      <th>Day of week</th>\n",
              "    </tr>\n",
              "  </thead>\n",
              "  <tbody>\n",
              "    <tr>\n",
              "      <th>0</th>\n",
              "      <td>2021-03-05</td>\n",
              "      <td>Вася</td>\n",
              "      <td>8</td>\n",
              "      <td>4</td>\n",
              "    </tr>\n",
              "    <tr>\n",
              "      <th>1</th>\n",
              "      <td>2021-03-05</td>\n",
              "      <td>Петя</td>\n",
              "      <td>8</td>\n",
              "      <td>4</td>\n",
              "    </tr>\n",
              "    <tr>\n",
              "      <th>2</th>\n",
              "      <td>2021-03-05</td>\n",
              "      <td>Маша</td>\n",
              "      <td>8</td>\n",
              "      <td>4</td>\n",
              "    </tr>\n",
              "    <tr>\n",
              "      <th>3</th>\n",
              "      <td>2021-04-05</td>\n",
              "      <td>Маша</td>\n",
              "      <td>8</td>\n",
              "      <td>0</td>\n",
              "    </tr>\n",
              "    <tr>\n",
              "      <th>4</th>\n",
              "      <td>2021-04-05</td>\n",
              "      <td>Вася</td>\n",
              "      <td>10</td>\n",
              "      <td>0</td>\n",
              "    </tr>\n",
              "    <tr>\n",
              "      <th>5</th>\n",
              "      <td>2021-04-05</td>\n",
              "      <td>Петя</td>\n",
              "      <td>8</td>\n",
              "      <td>0</td>\n",
              "    </tr>\n",
              "    <tr>\n",
              "      <th>6</th>\n",
              "      <td>2021-05-05</td>\n",
              "      <td>Петя</td>\n",
              "      <td>8</td>\n",
              "      <td>2</td>\n",
              "    </tr>\n",
              "    <tr>\n",
              "      <th>7</th>\n",
              "      <td>2021-05-05</td>\n",
              "      <td>Вася</td>\n",
              "      <td>8</td>\n",
              "      <td>2</td>\n",
              "    </tr>\n",
              "    <tr>\n",
              "      <th>8</th>\n",
              "      <td>2021-05-13</td>\n",
              "      <td>Петя</td>\n",
              "      <td>8</td>\n",
              "      <td>3</td>\n",
              "    </tr>\n",
              "    <tr>\n",
              "      <th>9</th>\n",
              "      <td>2021-05-13</td>\n",
              "      <td>Вася</td>\n",
              "      <td>8</td>\n",
              "      <td>3</td>\n",
              "    </tr>\n",
              "    <tr>\n",
              "      <th>10</th>\n",
              "      <td>2021-05-14</td>\n",
              "      <td>Вася</td>\n",
              "      <td>8</td>\n",
              "      <td>4</td>\n",
              "    </tr>\n",
              "    <tr>\n",
              "      <th>11</th>\n",
              "      <td>2021-05-14</td>\n",
              "      <td>Маша</td>\n",
              "      <td>8</td>\n",
              "      <td>4</td>\n",
              "    </tr>\n",
              "    <tr>\n",
              "      <th>12</th>\n",
              "      <td>2021-05-14</td>\n",
              "      <td>Петя</td>\n",
              "      <td>8</td>\n",
              "      <td>4</td>\n",
              "    </tr>\n",
              "    <tr>\n",
              "      <th>13</th>\n",
              "      <td>2021-06-05</td>\n",
              "      <td>Маша</td>\n",
              "      <td>8</td>\n",
              "      <td>5</td>\n",
              "    </tr>\n",
              "    <tr>\n",
              "      <th>14</th>\n",
              "      <td>2021-06-05</td>\n",
              "      <td>Вася</td>\n",
              "      <td>8</td>\n",
              "      <td>5</td>\n",
              "    </tr>\n",
              "    <tr>\n",
              "      <th>15</th>\n",
              "      <td>2021-06-05</td>\n",
              "      <td>Петя</td>\n",
              "      <td>8</td>\n",
              "      <td>5</td>\n",
              "    </tr>\n",
              "    <tr>\n",
              "      <th>16</th>\n",
              "      <td>2021-07-05</td>\n",
              "      <td>Петя</td>\n",
              "      <td>8</td>\n",
              "      <td>0</td>\n",
              "    </tr>\n",
              "    <tr>\n",
              "      <th>17</th>\n",
              "      <td>2021-07-05</td>\n",
              "      <td>Маша</td>\n",
              "      <td>8</td>\n",
              "      <td>0</td>\n",
              "    </tr>\n",
              "    <tr>\n",
              "      <th>18</th>\n",
              "      <td>2021-07-05</td>\n",
              "      <td>Вася</td>\n",
              "      <td>8</td>\n",
              "      <td>0</td>\n",
              "    </tr>\n",
              "    <tr>\n",
              "      <th>19</th>\n",
              "      <td>2021-08-05</td>\n",
              "      <td>Петя</td>\n",
              "      <td>3</td>\n",
              "      <td>3</td>\n",
              "    </tr>\n",
              "    <tr>\n",
              "      <th>20</th>\n",
              "      <td>2021-10-05</td>\n",
              "      <td>Петя</td>\n",
              "      <td>8</td>\n",
              "      <td>1</td>\n",
              "    </tr>\n",
              "    <tr>\n",
              "      <th>21</th>\n",
              "      <td>2021-10-05</td>\n",
              "      <td>Вася</td>\n",
              "      <td>12</td>\n",
              "      <td>1</td>\n",
              "    </tr>\n",
              "    <tr>\n",
              "      <th>22</th>\n",
              "      <td>2021-10-05</td>\n",
              "      <td>Маша</td>\n",
              "      <td>8</td>\n",
              "      <td>1</td>\n",
              "    </tr>\n",
              "    <tr>\n",
              "      <th>23</th>\n",
              "      <td>2021-11-05</td>\n",
              "      <td>Петя</td>\n",
              "      <td>8</td>\n",
              "      <td>4</td>\n",
              "    </tr>\n",
              "    <tr>\n",
              "      <th>24</th>\n",
              "      <td>2021-11-05</td>\n",
              "      <td>Вася</td>\n",
              "      <td>8</td>\n",
              "      <td>4</td>\n",
              "    </tr>\n",
              "    <tr>\n",
              "      <th>25</th>\n",
              "      <td>2021-11-05</td>\n",
              "      <td>Маша</td>\n",
              "      <td>8</td>\n",
              "      <td>4</td>\n",
              "    </tr>\n",
              "    <tr>\n",
              "      <th>26</th>\n",
              "      <td>2021-12-05</td>\n",
              "      <td>Петя</td>\n",
              "      <td>6</td>\n",
              "      <td>6</td>\n",
              "    </tr>\n",
              "    <tr>\n",
              "      <th>27</th>\n",
              "      <td>2021-12-05</td>\n",
              "      <td>Вася</td>\n",
              "      <td>6</td>\n",
              "      <td>6</td>\n",
              "    </tr>\n",
              "    <tr>\n",
              "      <th>28</th>\n",
              "      <td>2021-12-05</td>\n",
              "      <td>Маша</td>\n",
              "      <td>8</td>\n",
              "      <td>6</td>\n",
              "    </tr>\n",
              "  </tbody>\n",
              "</table>\n",
              "</div>"
            ],
            "text/plain": [
              "         Date Worker  Hours  Day of week\n",
              "0  2021-03-05   Вася      8            4\n",
              "1  2021-03-05   Петя      8            4\n",
              "2  2021-03-05   Маша      8            4\n",
              "3  2021-04-05   Маша      8            0\n",
              "4  2021-04-05   Вася     10            0\n",
              "5  2021-04-05   Петя      8            0\n",
              "6  2021-05-05   Петя      8            2\n",
              "7  2021-05-05   Вася      8            2\n",
              "8  2021-05-13   Петя      8            3\n",
              "9  2021-05-13   Вася      8            3\n",
              "10 2021-05-14   Вася      8            4\n",
              "11 2021-05-14   Маша      8            4\n",
              "12 2021-05-14   Петя      8            4\n",
              "13 2021-06-05   Маша      8            5\n",
              "14 2021-06-05   Вася      8            5\n",
              "15 2021-06-05   Петя      8            5\n",
              "16 2021-07-05   Петя      8            0\n",
              "17 2021-07-05   Маша      8            0\n",
              "18 2021-07-05   Вася      8            0\n",
              "19 2021-08-05   Петя      3            3\n",
              "20 2021-10-05   Петя      8            1\n",
              "21 2021-10-05   Вася     12            1\n",
              "22 2021-10-05   Маша      8            1\n",
              "23 2021-11-05   Петя      8            4\n",
              "24 2021-11-05   Вася      8            4\n",
              "25 2021-11-05   Маша      8            4\n",
              "26 2021-12-05   Петя      6            6\n",
              "27 2021-12-05   Вася      6            6\n",
              "28 2021-12-05   Маша      8            6"
            ]
          },
          "metadata": {
            "tags": []
          },
          "execution_count": 468
        }
      ]
    },
    {
      "cell_type": "code",
      "metadata": {
        "colab": {
          "base_uri": "https://localhost:8080/",
          "height": 142
        },
        "id": "Q0Qh0Ez4mwDj",
        "outputId": "b2daec84-d883-4b14-8de7-26add715e98d"
      },
      "source": [
        "average_worker_time_list = []\n",
        "for worker in hourcost_by_man['Worker']:\n",
        "  average_worker_time = dates[dates['Worker'] == worker]['Hours'].sum()/len(dates[dates['Worker'] == worker]['Hours'])\n",
        "  average_worker_time_list.append(average_worker_time)\n",
        "hourcost_by_man['Mean worktime'] = average_worker_time_list\n",
        "\n",
        "del average_worker_time_list\n",
        "gc.collect()\n",
        "\n",
        "hourcost_by_man"
      ],
      "execution_count": 469,
      "outputs": [
        {
          "output_type": "execute_result",
          "data": {
            "text/html": [
              "<div>\n",
              "<style scoped>\n",
              "    .dataframe tbody tr th:only-of-type {\n",
              "        vertical-align: middle;\n",
              "    }\n",
              "\n",
              "    .dataframe tbody tr th {\n",
              "        vertical-align: top;\n",
              "    }\n",
              "\n",
              "    .dataframe thead th {\n",
              "        text-align: right;\n",
              "    }\n",
              "</style>\n",
              "<table border=\"1\" class=\"dataframe\">\n",
              "  <thead>\n",
              "    <tr style=\"text-align: right;\">\n",
              "      <th></th>\n",
              "      <th>Worker</th>\n",
              "      <th>Hours</th>\n",
              "      <th>Mean time</th>\n",
              "      <th>Rate</th>\n",
              "      <th>Salary</th>\n",
              "      <th>Mean worktime</th>\n",
              "    </tr>\n",
              "  </thead>\n",
              "  <tbody>\n",
              "    <tr>\n",
              "      <th>0</th>\n",
              "      <td>Вася</td>\n",
              "      <td>84.0</td>\n",
              "      <td>5.600000</td>\n",
              "      <td>50</td>\n",
              "      <td>4200.0</td>\n",
              "      <td>8.400000</td>\n",
              "    </tr>\n",
              "    <tr>\n",
              "      <th>1</th>\n",
              "      <td>Петя</td>\n",
              "      <td>81.0</td>\n",
              "      <td>4.263158</td>\n",
              "      <td>35</td>\n",
              "      <td>2835.0</td>\n",
              "      <td>7.363636</td>\n",
              "    </tr>\n",
              "    <tr>\n",
              "      <th>2</th>\n",
              "      <td>Маша</td>\n",
              "      <td>64.0</td>\n",
              "      <td>5.818182</td>\n",
              "      <td>75</td>\n",
              "      <td>4800.0</td>\n",
              "      <td>8.000000</td>\n",
              "    </tr>\n",
              "  </tbody>\n",
              "</table>\n",
              "</div>"
            ],
            "text/plain": [
              "  Worker  Hours  Mean time  Rate  Salary  Mean worktime\n",
              "0   Вася   84.0   5.600000    50  4200.0       8.400000\n",
              "1   Петя   81.0   4.263158    35  2835.0       7.363636\n",
              "2   Маша   64.0   5.818182    75  4800.0       8.000000"
            ]
          },
          "metadata": {
            "tags": []
          },
          "execution_count": 469
        }
      ]
    },
    {
      "cell_type": "code",
      "metadata": {
        "colab": {
          "base_uri": "https://localhost:8080/"
        },
        "id": "QWWaQf85tLly",
        "outputId": "a6f3fa55-4078-4a96-e30a-c80cad3b635e"
      },
      "source": [
        "mean_worktime = hourcost_by_man['Mean worktime'].mean()\n",
        "mean_worktime"
      ],
      "execution_count": 470,
      "outputs": [
        {
          "output_type": "execute_result",
          "data": {
            "text/plain": [
              "7.921212121212122"
            ]
          },
          "metadata": {
            "tags": []
          },
          "execution_count": 470
        }
      ]
    },
    {
      "cell_type": "code",
      "metadata": {
        "colab": {
          "base_uri": "https://localhost:8080/",
          "height": 590
        },
        "id": "cD48FnK6sfU7",
        "outputId": "8794b11c-5d84-4367-98c7-d53b27e4b2d3"
      },
      "source": [
        "a4_dims = (14, 9)\n",
        "fig, ax = pyplot.subplots(figsize=a4_dims)\n",
        "\n",
        "g = sns.barplot(x=\"Worker\", y='Mean worktime', data=hourcost_by_man).set(title = 'Потраченное среднее время за день каждого исполнителя',ylabel='Потраченное среднее время', xlabel='Исполнитель')\n",
        "plt.plot([-1, 3], [mean_worktime, mean_worktime], linewidth=1)"
      ],
      "execution_count": 471,
      "outputs": [
        {
          "output_type": "execute_result",
          "data": {
            "text/plain": [
              "[<matplotlib.lines.Line2D at 0x7f72675b5950>]"
            ]
          },
          "metadata": {
            "tags": []
          },
          "execution_count": 471
        },
        {
          "output_type": "display_data",
          "data": {
            "image/png": "[encoded data removed]",
            "text/plain": [
              "<Figure size 1008x648 with 1 Axes>"
            ]
          },
          "metadata": {
            "tags": []
          }
        }
      ]
    },
    {
      "cell_type": "code",
      "metadata": {
        "colab": {
          "base_uri": "https://localhost:8080/",
          "height": 573
        },
        "id": "AU2XOu-24dZa",
        "outputId": "83cb03df-da7d-4b6c-87c8-b511a5000cb4"
      },
      "source": [
        "a4_dims = (14, 9)\n",
        "fig, ax = pyplot.subplots(figsize=a4_dims)\n",
        "\n",
        "g = sns.barplot(x=\"Day of week\", y='Hours', hue='Worker', data=dates).set(title = 'Среднее потраченное время в течении недели каждым из исполнителей', xlabel='День недели', ylabel='Часы')"
      ],
      "execution_count": 472,
      "outputs": [
        {
          "output_type": "display_data",
          "data": {
            "image/png": "[encoded data removed]",
            "text/plain": [
              "<Figure size 1008x648 with 1 Axes>"
            ]
          },
          "metadata": {
            "tags": []
          }
        }
      ]
    },
    {
      "cell_type": "code",
      "metadata": {
        "colab": {
          "base_uri": "https://localhost:8080/"
        },
        "id": "Ik4YvX3i1M35",
        "outputId": "88486a12-6a6e-45c8-a89b-f48711e0c807"
      },
      "source": [
        "mean_overall_hour = hourcost_by_man['Hours'].mean()\n",
        "mean_overall_hour"
      ],
      "execution_count": 473,
      "outputs": [
        {
          "output_type": "execute_result",
          "data": {
            "text/plain": [
              "76.33333333333333"
            ]
          },
          "metadata": {
            "tags": []
          },
          "execution_count": 473
        }
      ]
    },
    {
      "cell_type": "code",
      "metadata": {
        "colab": {
          "base_uri": "https://localhost:8080/",
          "height": 590
        },
        "id": "XxLwo4G1IDD4",
        "outputId": "e00feefc-9d4e-4a20-a9a1-7e61cceeba59"
      },
      "source": [
        "a4_dims = (14, 9)\n",
        "fig, ax = pyplot.subplots(figsize=a4_dims)\n",
        "\n",
        "g = sns.barplot(x=\"Worker\", y='Hours', data=hourcost_by_man).set(title = 'Общее потраченное время исполнителя',ylabel='Потраченное время', xlabel='Исполнитель')\n",
        "plt.plot([-1, 3], [mean_overall_hour, mean_overall_hour], linewidth=1)"
      ],
      "execution_count": 474,
      "outputs": [
        {
          "output_type": "execute_result",
          "data": {
            "text/plain": [
              "[<matplotlib.lines.Line2D at 0x7f72658662d0>]"
            ]
          },
          "metadata": {
            "tags": []
          },
          "execution_count": 474
        },
        {
          "output_type": "display_data",
          "data": {
            "image/png": "[encoded data removed]",
            "text/plain": [
              "<Figure size 1008x648 with 1 Axes>"
            ]
          },
          "metadata": {
            "tags": []
          }
        }
      ]
    },
    {
      "cell_type": "markdown",
      "metadata": {
        "id": "eb3wRQohRqkj"
      },
      "source": [
        "## Вычислить дни отсутствия для каждого сотрудника, с учетом того, что все исполнители обязаны были работать каждый будний день"
      ]
    },
    {
      "cell_type": "code",
      "metadata": {
        "colab": {
          "base_uri": "https://localhost:8080/",
          "height": 80
        },
        "id": "d_IEHj2OuRwE",
        "outputId": "97f53e90-0717-4000-c150-a63d757ff466"
      },
      "source": [
        "#Дни прогула сотрудников в будни\n",
        "dates[(dates['Hours'] < 8) & (dates['Day of week'] < 5)]"
      ],
      "execution_count": 475,
      "outputs": [
        {
          "output_type": "execute_result",
          "data": {
            "text/html": [
              "<div>\n",
              "<style scoped>\n",
              "    .dataframe tbody tr th:only-of-type {\n",
              "        vertical-align: middle;\n",
              "    }\n",
              "\n",
              "    .dataframe tbody tr th {\n",
              "        vertical-align: top;\n",
              "    }\n",
              "\n",
              "    .dataframe thead th {\n",
              "        text-align: right;\n",
              "    }\n",
              "</style>\n",
              "<table border=\"1\" class=\"dataframe\">\n",
              "  <thead>\n",
              "    <tr style=\"text-align: right;\">\n",
              "      <th></th>\n",
              "      <th>Date</th>\n",
              "      <th>Worker</th>\n",
              "      <th>Hours</th>\n",
              "      <th>Day of week</th>\n",
              "    </tr>\n",
              "  </thead>\n",
              "  <tbody>\n",
              "    <tr>\n",
              "      <th>19</th>\n",
              "      <td>2021-08-05</td>\n",
              "      <td>Петя</td>\n",
              "      <td>3</td>\n",
              "      <td>3</td>\n",
              "    </tr>\n",
              "  </tbody>\n",
              "</table>\n",
              "</div>"
            ],
            "text/plain": [
              "         Date Worker  Hours  Day of week\n",
              "19 2021-08-05   Петя      3            3"
            ]
          },
          "metadata": {
            "tags": []
          },
          "execution_count": 475
        }
      ]
    },
    {
      "cell_type": "markdown",
      "metadata": {
        "id": "_LQBmWrswAf-"
      },
      "source": [
        "Как я понял задачу \"Вылет\": найти отношение разности времени от оценки к оценке"
      ]
    },
    {
      "cell_type": "markdown",
      "metadata": {
        "id": "UW3VxMa0Ry0l"
      },
      "source": [
        "## Рассчитать средний «вылет» специалиста из оценки в процентах"
      ]
    },
    {
      "cell_type": "code",
      "metadata": {
        "colab": {
          "base_uri": "https://localhost:8080/",
          "height": 1000
        },
        "id": "nyA9REDX-eRG",
        "outputId": "d07eec70-4bd6-4188-b89f-678489536ddd"
      },
      "source": [
        "grade = data_a.drop(['Date', 'Cost'],axis=1)\n",
        "hours_list = []\n",
        "for worker, task in zip(grade['Worker'], grade['Task']):\n",
        "  hours = grade[(grade['Worker'] == worker) & (grade['Task'] == task)]['Hours']\n",
        "  hours_list.append(hours.sum())\n",
        "grade['Hours'] = hours_list\n",
        "\n",
        "del hours_list\n",
        "gc.collect()\n",
        "\n",
        "grade = grade.drop_duplicates()\n",
        "grade = grade.reset_index(drop=True)\n",
        "grade = grade.merge(data_b, how = 'left', on=['Task','Task'])\n",
        "grade['Mean late'] = (grade['Hours'] - grade['Grade'])/grade['Grade'] *100 #Средний \"вылет\"\n",
        "grade"
      ],
      "execution_count": 476,
      "outputs": [
        {
          "output_type": "execute_result",
          "data": {
            "text/html": [
              "<div>\n",
              "<style scoped>\n",
              "    .dataframe tbody tr th:only-of-type {\n",
              "        vertical-align: middle;\n",
              "    }\n",
              "\n",
              "    .dataframe tbody tr th {\n",
              "        vertical-align: top;\n",
              "    }\n",
              "\n",
              "    .dataframe thead th {\n",
              "        text-align: right;\n",
              "    }\n",
              "</style>\n",
              "<table border=\"1\" class=\"dataframe\">\n",
              "  <thead>\n",
              "    <tr style=\"text-align: right;\">\n",
              "      <th></th>\n",
              "      <th>Worker</th>\n",
              "      <th>Task</th>\n",
              "      <th>Hours</th>\n",
              "      <th>Grade</th>\n",
              "      <th>Mean late</th>\n",
              "    </tr>\n",
              "  </thead>\n",
              "  <tbody>\n",
              "    <tr>\n",
              "      <th>0</th>\n",
              "      <td>Вася</td>\n",
              "      <td>LOC-1</td>\n",
              "      <td>8</td>\n",
              "      <td>6</td>\n",
              "      <td>33.333333</td>\n",
              "    </tr>\n",
              "    <tr>\n",
              "      <th>1</th>\n",
              "      <td>Петя</td>\n",
              "      <td>LOC-2</td>\n",
              "      <td>8</td>\n",
              "      <td>4</td>\n",
              "      <td>100.000000</td>\n",
              "    </tr>\n",
              "    <tr>\n",
              "      <th>2</th>\n",
              "      <td>Маша</td>\n",
              "      <td>LOC-3</td>\n",
              "      <td>2</td>\n",
              "      <td>2</td>\n",
              "      <td>0.000000</td>\n",
              "    </tr>\n",
              "    <tr>\n",
              "      <th>3</th>\n",
              "      <td>Маша</td>\n",
              "      <td>LOC-4</td>\n",
              "      <td>4</td>\n",
              "      <td>4</td>\n",
              "      <td>0.000000</td>\n",
              "    </tr>\n",
              "    <tr>\n",
              "      <th>4</th>\n",
              "      <td>Маша</td>\n",
              "      <td>LOC-5</td>\n",
              "      <td>4</td>\n",
              "      <td>4</td>\n",
              "      <td>0.000000</td>\n",
              "    </tr>\n",
              "    <tr>\n",
              "      <th>5</th>\n",
              "      <td>Маша</td>\n",
              "      <td>LOC-7</td>\n",
              "      <td>6</td>\n",
              "      <td>6</td>\n",
              "      <td>0.000000</td>\n",
              "    </tr>\n",
              "    <tr>\n",
              "      <th>6</th>\n",
              "      <td>Вася</td>\n",
              "      <td>LOC-8</td>\n",
              "      <td>4</td>\n",
              "      <td>4</td>\n",
              "      <td>0.000000</td>\n",
              "    </tr>\n",
              "    <tr>\n",
              "      <th>7</th>\n",
              "      <td>Петя</td>\n",
              "      <td>LOC-9</td>\n",
              "      <td>2</td>\n",
              "      <td>2</td>\n",
              "      <td>0.000000</td>\n",
              "    </tr>\n",
              "    <tr>\n",
              "      <th>8</th>\n",
              "      <td>Вася</td>\n",
              "      <td>LOC-10</td>\n",
              "      <td>4</td>\n",
              "      <td>3</td>\n",
              "      <td>33.333333</td>\n",
              "    </tr>\n",
              "    <tr>\n",
              "      <th>9</th>\n",
              "      <td>Петя</td>\n",
              "      <td>LOC-11</td>\n",
              "      <td>6</td>\n",
              "      <td>6</td>\n",
              "      <td>0.000000</td>\n",
              "    </tr>\n",
              "    <tr>\n",
              "      <th>10</th>\n",
              "      <td>Вася</td>\n",
              "      <td>LOC-12</td>\n",
              "      <td>2</td>\n",
              "      <td>2</td>\n",
              "      <td>0.000000</td>\n",
              "    </tr>\n",
              "    <tr>\n",
              "      <th>11</th>\n",
              "      <td>Петя</td>\n",
              "      <td>LOC-13</td>\n",
              "      <td>6</td>\n",
              "      <td>6</td>\n",
              "      <td>0.000000</td>\n",
              "    </tr>\n",
              "    <tr>\n",
              "      <th>12</th>\n",
              "      <td>Вася</td>\n",
              "      <td>LOC-14</td>\n",
              "      <td>8</td>\n",
              "      <td>8</td>\n",
              "      <td>0.000000</td>\n",
              "    </tr>\n",
              "    <tr>\n",
              "      <th>13</th>\n",
              "      <td>Петя</td>\n",
              "      <td>LOC-17</td>\n",
              "      <td>4</td>\n",
              "      <td>4</td>\n",
              "      <td>0.000000</td>\n",
              "    </tr>\n",
              "    <tr>\n",
              "      <th>14</th>\n",
              "      <td>Маша</td>\n",
              "      <td>LOC-6</td>\n",
              "      <td>16</td>\n",
              "      <td>12</td>\n",
              "      <td>33.333333</td>\n",
              "    </tr>\n",
              "    <tr>\n",
              "      <th>15</th>\n",
              "      <td>Вася</td>\n",
              "      <td>LOC-16</td>\n",
              "      <td>16</td>\n",
              "      <td>12</td>\n",
              "      <td>33.333333</td>\n",
              "    </tr>\n",
              "    <tr>\n",
              "      <th>16</th>\n",
              "      <td>Петя</td>\n",
              "      <td>LOC-15</td>\n",
              "      <td>16</td>\n",
              "      <td>12</td>\n",
              "      <td>33.333333</td>\n",
              "    </tr>\n",
              "    <tr>\n",
              "      <th>17</th>\n",
              "      <td>Вася</td>\n",
              "      <td>LOC-18</td>\n",
              "      <td>10</td>\n",
              "      <td>12</td>\n",
              "      <td>-16.666667</td>\n",
              "    </tr>\n",
              "    <tr>\n",
              "      <th>18</th>\n",
              "      <td>Петя</td>\n",
              "      <td>LOC-19</td>\n",
              "      <td>5</td>\n",
              "      <td>2</td>\n",
              "      <td>150.000000</td>\n",
              "    </tr>\n",
              "    <tr>\n",
              "      <th>19</th>\n",
              "      <td>Маша</td>\n",
              "      <td>LOC-20</td>\n",
              "      <td>8</td>\n",
              "      <td>4</td>\n",
              "      <td>100.000000</td>\n",
              "    </tr>\n",
              "    <tr>\n",
              "      <th>20</th>\n",
              "      <td>Вася</td>\n",
              "      <td>LOC-21</td>\n",
              "      <td>2</td>\n",
              "      <td>2</td>\n",
              "      <td>0.000000</td>\n",
              "    </tr>\n",
              "    <tr>\n",
              "      <th>21</th>\n",
              "      <td>Петя</td>\n",
              "      <td>LOC-22</td>\n",
              "      <td>4</td>\n",
              "      <td>4</td>\n",
              "      <td>0.000000</td>\n",
              "    </tr>\n",
              "    <tr>\n",
              "      <th>22</th>\n",
              "      <td>Маша</td>\n",
              "      <td>LOC-23</td>\n",
              "      <td>8</td>\n",
              "      <td>4</td>\n",
              "      <td>100.000000</td>\n",
              "    </tr>\n",
              "    <tr>\n",
              "      <th>23</th>\n",
              "      <td>Вася</td>\n",
              "      <td>LOC-24</td>\n",
              "      <td>8</td>\n",
              "      <td>4</td>\n",
              "      <td>100.000000</td>\n",
              "    </tr>\n",
              "    <tr>\n",
              "      <th>24</th>\n",
              "      <td>Петя</td>\n",
              "      <td>LOC-25</td>\n",
              "      <td>8</td>\n",
              "      <td>6</td>\n",
              "      <td>33.333333</td>\n",
              "    </tr>\n",
              "    <tr>\n",
              "      <th>25</th>\n",
              "      <td>Маша</td>\n",
              "      <td>LOC-26</td>\n",
              "      <td>8</td>\n",
              "      <td>2</td>\n",
              "      <td>300.000000</td>\n",
              "    </tr>\n",
              "    <tr>\n",
              "      <th>26</th>\n",
              "      <td>Вася</td>\n",
              "      <td>LOC-27</td>\n",
              "      <td>4</td>\n",
              "      <td>2</td>\n",
              "      <td>100.000000</td>\n",
              "    </tr>\n",
              "    <tr>\n",
              "      <th>27</th>\n",
              "      <td>Петя</td>\n",
              "      <td>LOC-28</td>\n",
              "      <td>4</td>\n",
              "      <td>2</td>\n",
              "      <td>100.000000</td>\n",
              "    </tr>\n",
              "    <tr>\n",
              "      <th>28</th>\n",
              "      <td>Вася</td>\n",
              "      <td>LOC-29</td>\n",
              "      <td>2</td>\n",
              "      <td>2</td>\n",
              "      <td>0.000000</td>\n",
              "    </tr>\n",
              "    <tr>\n",
              "      <th>29</th>\n",
              "      <td>Петя</td>\n",
              "      <td>LOC-30</td>\n",
              "      <td>2</td>\n",
              "      <td>2</td>\n",
              "      <td>0.000000</td>\n",
              "    </tr>\n",
              "    <tr>\n",
              "      <th>30</th>\n",
              "      <td>Вася</td>\n",
              "      <td>LOC-31</td>\n",
              "      <td>2</td>\n",
              "      <td>2</td>\n",
              "      <td>0.000000</td>\n",
              "    </tr>\n",
              "    <tr>\n",
              "      <th>31</th>\n",
              "      <td>Петя</td>\n",
              "      <td>LOC-32</td>\n",
              "      <td>4</td>\n",
              "      <td>4</td>\n",
              "      <td>0.000000</td>\n",
              "    </tr>\n",
              "    <tr>\n",
              "      <th>32</th>\n",
              "      <td>Вася</td>\n",
              "      <td>LOC-33</td>\n",
              "      <td>6</td>\n",
              "      <td>4</td>\n",
              "      <td>50.000000</td>\n",
              "    </tr>\n",
              "    <tr>\n",
              "      <th>33</th>\n",
              "      <td>Петя</td>\n",
              "      <td>LOC-34</td>\n",
              "      <td>4</td>\n",
              "      <td>4</td>\n",
              "      <td>0.000000</td>\n",
              "    </tr>\n",
              "    <tr>\n",
              "      <th>34</th>\n",
              "      <td>Маша</td>\n",
              "      <td>LOC-35</td>\n",
              "      <td>8</td>\n",
              "      <td>6</td>\n",
              "      <td>33.333333</td>\n",
              "    </tr>\n",
              "    <tr>\n",
              "      <th>35</th>\n",
              "      <td>Вася</td>\n",
              "      <td>LOC-36</td>\n",
              "      <td>8</td>\n",
              "      <td>6</td>\n",
              "      <td>33.333333</td>\n",
              "    </tr>\n",
              "    <tr>\n",
              "      <th>36</th>\n",
              "      <td>Петя</td>\n",
              "      <td>LOC-37</td>\n",
              "      <td>8</td>\n",
              "      <td>6</td>\n",
              "      <td>33.333333</td>\n",
              "    </tr>\n",
              "  </tbody>\n",
              "</table>\n",
              "</div>"
            ],
            "text/plain": [
              "   Worker    Task  Hours  Grade   Mean late\n",
              "0    Вася   LOC-1      8      6   33.333333\n",
              "1    Петя   LOC-2      8      4  100.000000\n",
              "2    Маша   LOC-3      2      2    0.000000\n",
              "3    Маша   LOC-4      4      4    0.000000\n",
              "4    Маша   LOC-5      4      4    0.000000\n",
              "5    Маша   LOC-7      6      6    0.000000\n",
              "6    Вася   LOC-8      4      4    0.000000\n",
              "7    Петя   LOC-9      2      2    0.000000\n",
              "8    Вася  LOC-10      4      3   33.333333\n",
              "9    Петя  LOC-11      6      6    0.000000\n",
              "10   Вася  LOC-12      2      2    0.000000\n",
              "11   Петя  LOC-13      6      6    0.000000\n",
              "12   Вася  LOC-14      8      8    0.000000\n",
              "13   Петя  LOC-17      4      4    0.000000\n",
              "14   Маша   LOC-6     16     12   33.333333\n",
              "15   Вася  LOC-16     16     12   33.333333\n",
              "16   Петя  LOC-15     16     12   33.333333\n",
              "17   Вася  LOC-18     10     12  -16.666667\n",
              "18   Петя  LOC-19      5      2  150.000000\n",
              "19   Маша  LOC-20      8      4  100.000000\n",
              "20   Вася  LOC-21      2      2    0.000000\n",
              "21   Петя  LOC-22      4      4    0.000000\n",
              "22   Маша  LOC-23      8      4  100.000000\n",
              "23   Вася  LOC-24      8      4  100.000000\n",
              "24   Петя  LOC-25      8      6   33.333333\n",
              "25   Маша  LOC-26      8      2  300.000000\n",
              "26   Вася  LOC-27      4      2  100.000000\n",
              "27   Петя  LOC-28      4      2  100.000000\n",
              "28   Вася  LOC-29      2      2    0.000000\n",
              "29   Петя  LOC-30      2      2    0.000000\n",
              "30   Вася  LOC-31      2      2    0.000000\n",
              "31   Петя  LOC-32      4      4    0.000000\n",
              "32   Вася  LOC-33      6      4   50.000000\n",
              "33   Петя  LOC-34      4      4    0.000000\n",
              "34   Маша  LOC-35      8      6   33.333333\n",
              "35   Вася  LOC-36      8      6   33.333333\n",
              "36   Петя  LOC-37      8      6   33.333333"
            ]
          },
          "metadata": {
            "tags": []
          },
          "execution_count": 476
        }
      ]
    },
    {
      "cell_type": "code",
      "metadata": {
        "colab": {
          "base_uri": "https://localhost:8080/",
          "height": 142
        },
        "id": "Yhv-P_Ysx6So",
        "outputId": "3c8321a8-1215-4a00-a26b-01b1fc3185c9"
      },
      "source": [
        "mean_worker_grade_list = []\n",
        "for worker in hourcost_by_man['Worker']:\n",
        "  grades = grade[grade['Worker'] == worker]['Mean late']\n",
        "  mean_worker_grade_list.append(grades.sum()/len(grades))\n",
        "hourcost_by_man['Mean worker late'] = mean_worker_grade_list\n",
        "\n",
        "del mean_worker_grade_list\n",
        "gc.collect()\n",
        "\n",
        "hourcost_by_man"
      ],
      "execution_count": 477,
      "outputs": [
        {
          "output_type": "execute_result",
          "data": {
            "text/html": [
              "<div>\n",
              "<style scoped>\n",
              "    .dataframe tbody tr th:only-of-type {\n",
              "        vertical-align: middle;\n",
              "    }\n",
              "\n",
              "    .dataframe tbody tr th {\n",
              "        vertical-align: top;\n",
              "    }\n",
              "\n",
              "    .dataframe thead th {\n",
              "        text-align: right;\n",
              "    }\n",
              "</style>\n",
              "<table border=\"1\" class=\"dataframe\">\n",
              "  <thead>\n",
              "    <tr style=\"text-align: right;\">\n",
              "      <th></th>\n",
              "      <th>Worker</th>\n",
              "      <th>Hours</th>\n",
              "      <th>Mean time</th>\n",
              "      <th>Rate</th>\n",
              "      <th>Salary</th>\n",
              "      <th>Mean worktime</th>\n",
              "      <th>Mean worker late</th>\n",
              "    </tr>\n",
              "  </thead>\n",
              "  <tbody>\n",
              "    <tr>\n",
              "      <th>0</th>\n",
              "      <td>Вася</td>\n",
              "      <td>84.0</td>\n",
              "      <td>5.600000</td>\n",
              "      <td>50</td>\n",
              "      <td>4200.0</td>\n",
              "      <td>8.400000</td>\n",
              "      <td>26.190476</td>\n",
              "    </tr>\n",
              "    <tr>\n",
              "      <th>1</th>\n",
              "      <td>Петя</td>\n",
              "      <td>81.0</td>\n",
              "      <td>4.263158</td>\n",
              "      <td>35</td>\n",
              "      <td>2835.0</td>\n",
              "      <td>7.363636</td>\n",
              "      <td>32.142857</td>\n",
              "    </tr>\n",
              "    <tr>\n",
              "      <th>2</th>\n",
              "      <td>Маша</td>\n",
              "      <td>64.0</td>\n",
              "      <td>5.818182</td>\n",
              "      <td>75</td>\n",
              "      <td>4800.0</td>\n",
              "      <td>8.000000</td>\n",
              "      <td>62.962963</td>\n",
              "    </tr>\n",
              "  </tbody>\n",
              "</table>\n",
              "</div>"
            ],
            "text/plain": [
              "  Worker  Hours  Mean time  Rate  Salary  Mean worktime  Mean worker late\n",
              "0   Вася   84.0   5.600000    50  4200.0       8.400000         26.190476\n",
              "1   Петя   81.0   4.263158    35  2835.0       7.363636         32.142857\n",
              "2   Маша   64.0   5.818182    75  4800.0       8.000000         62.962963"
            ]
          },
          "metadata": {
            "tags": []
          },
          "execution_count": 477
        }
      ]
    },
    {
      "cell_type": "code",
      "metadata": {
        "colab": {
          "base_uri": "https://localhost:8080/"
        },
        "id": "TsrzzrSPzalU",
        "outputId": "a996a0a7-dc7e-4720-a80f-803de53bcb87"
      },
      "source": [
        "mean_worker_late = hourcost_by_man['Mean worker late'].mean()\n",
        "mean_worker_late"
      ],
      "execution_count": 478,
      "outputs": [
        {
          "output_type": "execute_result",
          "data": {
            "text/plain": [
              "40.432098765432094"
            ]
          },
          "metadata": {
            "tags": []
          },
          "execution_count": 478
        }
      ]
    },
    {
      "cell_type": "code",
      "metadata": {
        "colab": {
          "base_uri": "https://localhost:8080/",
          "height": 590
        },
        "id": "VFCX98FlzMMT",
        "outputId": "ac3bd390-5f35-4cb3-ec77-d6a1eb08015b"
      },
      "source": [
        "a4_dims = (14, 9)\n",
        "fig, ax = pyplot.subplots(figsize=a4_dims)\n",
        "\n",
        "g = sns.barplot(x=\"Worker\", y='Mean worker late', data=hourcost_by_man).set(title = 'Средний вылет каждого исполнителя', xlabel='Исполнитель', ylabel='Средний вылет сотрудника')\n",
        "plt.plot([-1, 3], [mean_worker_late, mean_worker_late], linewidth=1)"
      ],
      "execution_count": 479,
      "outputs": [
        {
          "output_type": "execute_result",
          "data": {
            "text/plain": [
              "[<matplotlib.lines.Line2D at 0x7f72655cb4d0>]"
            ]
          },
          "metadata": {
            "tags": []
          },
          "execution_count": 479
        },
        {
          "output_type": "display_data",
          "data": {
            "image/png": "[encoded data removed]",
            "text/plain": [
              "<Figure size 1008x648 with 1 Axes>"
            ]
          },
          "metadata": {
            "tags": []
          }
        }
      ]
    },
    {
      "cell_type": "code",
      "metadata": {
        "colab": {
          "base_uri": "https://localhost:8080/",
          "height": 590
        },
        "id": "e_NoLx72ELGR",
        "outputId": "ba57c94c-b3a8-47db-8885-66c1b1570ec3"
      },
      "source": [
        "a4_dims = (14, 9)\n",
        "fig, ax = pyplot.subplots(figsize=a4_dims)\n",
        "\n",
        "quality = grade.copy()\n",
        "quality['Task'] = quality['Task'].apply(getNum)\n",
        "g = sns.barplot(x=\"Task\", y='Mean late', hue='Worker', data=quality).set(title = 'Средний вылет работника на каждой задаче',xlabel='Номер проекта', ylabel='Процент вылета из оценки')\n",
        "\n",
        "del quality\n",
        "gc.collect()"
      ],
      "execution_count": 480,
      "outputs": [
        {
          "output_type": "execute_result",
          "data": {
            "text/plain": [
              "35"
            ]
          },
          "metadata": {
            "tags": []
          },
          "execution_count": 480
        },
        {
          "output_type": "display_data",
          "data": {
            "image/png": "[encoded data removed]",
            "text/plain": [
              "<Figure size 1008x648 with 1 Axes>"
            ]
          },
          "metadata": {
            "tags": []
          }
        }
      ]
    },
    {
      "cell_type": "markdown",
      "metadata": {
        "id": "Srn9SaIkR6o-"
      },
      "source": [
        "## Дополнительно необходимо сформировать сводный график по проекту"
      ]
    },
    {
      "cell_type": "code",
      "metadata": {
        "id": "Otvh8c6fOD2A"
      },
      "source": [
        "projects = projects.merge(data_b, on=['Task', 'Task'], how='left')"
      ],
      "execution_count": 481,
      "outputs": []
    },
    {
      "cell_type": "code",
      "metadata": {
        "colab": {
          "base_uri": "https://localhost:8080/",
          "height": 848
        },
        "id": "zvJdoUMtAbLo",
        "outputId": "cbb0c88a-6f31-430b-c13c-5e2ad16a1eb3"
      },
      "source": [
        "timecost = projects.copy()\n",
        "timecost['Task'] = timecost['Task']\n",
        "g = sns.lineplot(x=\"Task\", y='Hours', data=timecost, marker='o', color='b')\n",
        "g = sns.lineplot(x=\"Task\", y='Grade', data=timecost, marker='o', color='r')\n",
        "g.set(title = 'Потраченное время на задачи',xlabel='Задача', ylabel='Фактическое (синие) и оцененное (красное)')\n",
        "sns.set(rc={'figure.figsize':(30, 20)})\n",
        "g.figure.savefig('hourcost.png')"
      ],
      "execution_count": 482,
      "outputs": [
        {
          "output_type": "display_data",
          "data": {
            "image/png": "[encoded data removed]",
            "text/plain": [
              "<Figure size 2160x1440 with 1 Axes>"
            ]
          },
          "metadata": {
            "tags": []
          }
        }
      ]
    },
    {
      "cell_type": "code",
      "metadata": {
        "colab": {
          "base_uri": "https://localhost:8080/"
        },
        "id": "r4WYDqOaHml4",
        "outputId": "a722d278-adc5-4f46-9d0d-e8088d68a61d"
      },
      "source": [
        "print(\"Всего потрачено на проект\", data_a['Hours'].sum(), \"человеко-часов\")"
      ],
      "execution_count": 483,
      "outputs": [
        {
          "output_type": "stream",
          "text": [
            "Всего потрачено на проект 229 человеко-часов\n"
          ],
          "name": "stdout"
        }
      ]
    }
  ]
}